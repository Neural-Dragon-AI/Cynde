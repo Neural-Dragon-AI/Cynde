{
 "cells": [
  {
   "cell_type": "code",
   "execution_count": 1,
   "metadata": {},
   "outputs": [],
   "source": [
    "from datasets import load_dataset\n",
    "import polars as pl\n",
    "import os\n",
    "import cynde.functional as cf"
   ]
  },
  {
   "cell_type": "code",
   "execution_count": 2,
   "metadata": {},
   "outputs": [
    {
     "name": "stdout",
     "output_type": "stream",
     "text": [
      "c:\\Users\\Tommaso\\Documents\\Dev\\Cynde\\cache\n"
     ]
    }
   ],
   "source": [
    "# Get the directory above the current directory\n",
    "above_dir = os.path.dirname(os.getcwd())\n",
    "\n",
    "# Specify the cache directory as 'data' subdirectory within the current directory\n",
    "cache_dir = os.path.join(above_dir, \"cache\")\n",
    "print(cache_dir)"
   ]
  },
  {
   "cell_type": "code",
   "execution_count": 3,
   "metadata": {},
   "outputs": [],
   "source": [
    "dataset_name = \"OpenHermes-2.5\"\n",
    "dataset_path = os.path.join(cache_dir, dataset_name)\n"
   ]
  },
  {
   "cell_type": "code",
   "execution_count": 4,
   "metadata": {},
   "outputs": [
    {
     "data": {
      "text/html": [
       "<div><style>\n",
       ".dataframe > thead > tr,\n",
       ".dataframe > tbody > tr {\n",
       "  text-align: right;\n",
       "  white-space: pre-wrap;\n",
       "}\n",
       "</style>\n",
       "<small>shape: (1, 2)</small><table border=\"1\" class=\"dataframe\"><thead><tr><th>conversations</th><th>source</th></tr><tr><td>list[struct[3]]</td><td>str</td></tr></thead><tbody><tr><td>[{&quot;human&quot;,&quot;Given the following list of words, categorize them into 5 categories by similarity: [&#x27;Heart&#x27;, &#x27;Liver&#x27;, &#x27;Kidney&#x27;, &#x27;Brain&#x27;, &#x27;Stomach&#x27;, &#x27;Skin&#x27;, &#x27;Lung&#x27;, &#x27;Muscle&#x27;, &#x27;Intestine&#x27;, &#x27;Bone&#x27;, &#x27;Pancreas&#x27;, &#x27;Blood&#x27;, &#x27;Eye&#x27;, &#x27;Ear&#x27;, &#x27;Nose&#x27;, &#x27;Mouth&#x27;, &#x27;Esophagus&#x27;, &#x27;Throat&#x27;, &#x27;Spinal Cord&#x27;, &#x27;Bladder&#x27;]&quot;,null}, {&quot;gpt&quot;,&quot;Here are the given words categorized into 5 groups based on their similarity:\n",
       "\n",
       "1. Vital Organs:\n",
       "- Heart\n",
       "- Liver\n",
       "- Kidney\n",
       "- Lung\n",
       "- Pancreas\n",
       "\n",
       "2. Digestive System Components:\n",
       "- Stomach\n",
       "- Intestine\n",
       "- Esophagus\n",
       "- Throat\n",
       "- Mouth\n",
       "\n",
       "3. Sensory Organs:\n",
       "- Eye\n",
       "- Ear\n",
       "- Nose\n",
       "\n",
       "4. Support and Movement:\n",
       "- Bone\n",
       "- Muscle\n",
       "- Spinal Cord\n",
       "- Skin\n",
       "\n",
       "5. Body Fluids and Waste Management:\n",
       "- Blood\n",
       "- Bladder&quot;,null}, … {&quot;gpt&quot;,&quot;1) Vital Organs:\n",
       "- Diseases or disorders affecting one vital organ can impact the functioning of others. For example, heart failure can lead to fluid buildup in the lungs, affecting their function. Liver disease can cause toxins to accumulate in the bloodstream, potentially affecting brain function. Kidney disease can lead to electrolyte imbalances, which can impact heart function.\n",
       "- Organ transplantation involves replacing a damaged organ with a healthy one from a donor. Examples include heart, liver, kidney, lung, and pancreas transplants. Challenges include finding compatible donors, managing immune system rejection, and addressing surgical complications.\n",
       "\n",
       "2) Digestive System Components:\n",
       "- Common digestive disorders include gastroesophageal reflux disease (GERD), irritable bowel syndrome (IBS), inflammatory bowel disease (IBD), and peptic ulcers. Causes may include genetic factors, lifestyle choices, stress, infections, or immune system dysfunction.\n",
       "- The gut microbiome comprises trillions of microorganisms that aid in digestion, nutrient absorption, and immune system function. It can also influence mental health and contribute to the prevention or development of various diseases.\n",
       "\n",
       "3) Sensory Organs:\n",
       "- Optical illusions work by exploiting the brain&#x27;s visual processing system, causing it to misinterpret sensory information. They reveal that our perception of reality can be influenced by factors such as context, contrast, and patterns.\n",
       "- Animals&#x27; sensory organs can differ significantly from humans&#x27;, offering unique capabilities. For example, dogs have a heightened sense of smell, eagles have exceptional long-distance vision, and bats use echolocation for navigation and foraging.\n",
       "\n",
       "4) Support and Movement:\n",
       "- Exercise and physical activity promote bone and muscle health by stimulating bone growth, increasing bone density, and strengthening muscles. This helps prevent age-related bone loss and reduces the risk of injury.\n",
       "- Spinal cord injuries can have varying effects depending on the location and severity of the injury. Injuries can result in temporary or permanent loss of sensation, mobility, and other bodily functions. Paraplegia (paralysis of the legs and lower body) and quadriplegia (paralysis of all four limbs) are examples of potential outcomes of spinal cord injuries.\n",
       "\n",
       "5) Body Fluids and Waste Management:\n",
       "- Blood types affect transfusions and organ transplants because of the presence of specific antigens on red blood cells. Incompatible blood types can cause an immune response, resulting in transfusion reactions or organ rejection.\n",
       "- Common bladder disorders include urinary incontinence, urinary tract infections (UTIs), interstitial cystitis, and bladder cancer. Treatments and management strategies can vary, including medication, lifestyle changes, physical therapy, or surgical interventions.&quot;,null}]</td><td>&quot;caseus_custom&quot;</td></tr></tbody></table></div>"
      ],
      "text/plain": [
       "shape: (1, 2)\n",
       "┌───────────────────────────────────┬───────────────┐\n",
       "│ conversations                     ┆ source        │\n",
       "│ ---                               ┆ ---           │\n",
       "│ list[struct[3]]                   ┆ str           │\n",
       "╞═══════════════════════════════════╪═══════════════╡\n",
       "│ [{\"human\",\"Given the following l… ┆ caseus_custom │\n",
       "└───────────────────────────────────┴───────────────┘"
      ]
     },
     "execution_count": 4,
     "metadata": {},
     "output_type": "execute_result"
    }
   ],
   "source": [
    "df = pl.read_parquet(dataset_path+\"_filtered.parquet\")\n",
    "df.head(1)\n"
   ]
  },
  {
   "cell_type": "code",
   "execution_count": 5,
   "metadata": {},
   "outputs": [
    {
     "data": {
      "text/html": [
       "<div><style>\n",
       ".dataframe > thead > tr,\n",
       ".dataframe > tbody > tr {\n",
       "  text-align: right;\n",
       "  white-space: pre-wrap;\n",
       "}\n",
       "</style>\n",
       "<small>shape: (2, 2)</small><table border=\"1\" class=\"dataframe\"><thead><tr><th>source</th><th>count</th></tr><tr><td>str</td><td>u32</td></tr></thead><tbody><tr><td>&quot;caseus_custom&quot;</td><td>2688</td></tr><tr><td>&quot;LMSys Chatbot …</td><td>3136</td></tr></tbody></table></div>"
      ],
      "text/plain": [
       "shape: (2, 2)\n",
       "┌─────────────────────┬───────┐\n",
       "│ source              ┆ count │\n",
       "│ ---                 ┆ ---   │\n",
       "│ str                 ┆ u32   │\n",
       "╞═════════════════════╪═══════╡\n",
       "│ caseus_custom       ┆ 2688  │\n",
       "│ LMSys Chatbot Arena ┆ 3136  │\n",
       "└─────────────────────┴───────┘"
      ]
     },
     "execution_count": 5,
     "metadata": {},
     "output_type": "execute_result"
    }
   ],
   "source": [
    "df[\"source\"].value_counts()"
   ]
  },
  {
   "cell_type": "code",
   "execution_count": 6,
   "metadata": {},
   "outputs": [],
   "source": [
    "df = df.with_columns(pl.col(\"conversations\").list.eval(pl.element().struct.json_encode()).list.join(\"\\n\"),(pl.col(\"source\")==\"caseus_custom\").alias(\"target\"))"
   ]
  },
  {
   "cell_type": "code",
   "execution_count": 7,
   "metadata": {},
   "outputs": [],
   "source": [
    "#check if the embedded df already exist at dataset_path+\"_embedded.parquet\"\n",
    "if not os.path.exists(dataset_path+\"_embedded_small_large.parquet\"):\n",
    "    embedded_df = cf.embed_columns(df, [\"conversations\"],models=[\"text-embedding-3-small\",\"text-embedding-3-large\"])\n",
    "    embedded_df.write_parquet(dataset_path+\"_embedded_small_large.parquet\")\n",
    "else:\n",
    "    embedded_df = pl.read_parquet(dataset_path+\"_embedded_small_large.parquet\")"
   ]
  },
  {
   "cell_type": "code",
   "execution_count": 8,
   "metadata": {},
   "outputs": [
    {
     "data": {
      "text/html": [
       "<div><style>\n",
       ".dataframe > thead > tr,\n",
       ".dataframe > tbody > tr {\n",
       "  text-align: right;\n",
       "  white-space: pre-wrap;\n",
       "}\n",
       "</style>\n",
       "<small>shape: (2, 2)</small><table border=\"1\" class=\"dataframe\"><thead><tr><th>target</th><th>count</th></tr><tr><td>bool</td><td>u32</td></tr></thead><tbody><tr><td>false</td><td>3136</td></tr><tr><td>true</td><td>2688</td></tr></tbody></table></div>"
      ],
      "text/plain": [
       "shape: (2, 2)\n",
       "┌────────┬───────┐\n",
       "│ target ┆ count │\n",
       "│ ---    ┆ ---   │\n",
       "│ bool   ┆ u32   │\n",
       "╞════════╪═══════╡\n",
       "│ false  ┆ 3136  │\n",
       "│ true   ┆ 2688  │\n",
       "└────────┴───────┘"
      ]
     },
     "execution_count": 8,
     "metadata": {},
     "output_type": "execute_result"
    }
   ],
   "source": [
    "df[\"target\"].value_counts()"
   ]
  },
  {
   "cell_type": "code",
   "execution_count": 9,
   "metadata": {},
   "outputs": [
    {
     "data": {
      "text/html": [
       "<div><style>\n",
       ".dataframe > thead > tr,\n",
       ".dataframe > tbody > tr {\n",
       "  text-align: right;\n",
       "  white-space: pre-wrap;\n",
       "}\n",
       "</style>\n",
       "<small>shape: (5_824, 6)</small><table border=\"1\" class=\"dataframe\"><thead><tr><th>cv_index</th><th>fold_0</th><th>fold_1</th><th>fold_2</th><th>fold_3</th><th>fold_4</th></tr><tr><td>u32</td><td>str</td><td>str</td><td>str</td><td>str</td><td>str</td></tr></thead><tbody><tr><td>1260</td><td>&quot;test&quot;</td><td>&quot;train&quot;</td><td>&quot;train&quot;</td><td>&quot;train&quot;</td><td>&quot;train&quot;</td></tr><tr><td>2223</td><td>&quot;test&quot;</td><td>&quot;train&quot;</td><td>&quot;train&quot;</td><td>&quot;train&quot;</td><td>&quot;train&quot;</td></tr><tr><td>1531</td><td>&quot;test&quot;</td><td>&quot;train&quot;</td><td>&quot;train&quot;</td><td>&quot;train&quot;</td><td>&quot;train&quot;</td></tr><tr><td>5245</td><td>&quot;test&quot;</td><td>&quot;train&quot;</td><td>&quot;train&quot;</td><td>&quot;train&quot;</td><td>&quot;train&quot;</td></tr><tr><td>3553</td><td>&quot;test&quot;</td><td>&quot;train&quot;</td><td>&quot;train&quot;</td><td>&quot;train&quot;</td><td>&quot;train&quot;</td></tr><tr><td>3894</td><td>&quot;test&quot;</td><td>&quot;train&quot;</td><td>&quot;train&quot;</td><td>&quot;train&quot;</td><td>&quot;train&quot;</td></tr><tr><td>1319</td><td>&quot;test&quot;</td><td>&quot;train&quot;</td><td>&quot;train&quot;</td><td>&quot;train&quot;</td><td>&quot;train&quot;</td></tr><tr><td>2481</td><td>&quot;test&quot;</td><td>&quot;train&quot;</td><td>&quot;train&quot;</td><td>&quot;train&quot;</td><td>&quot;train&quot;</td></tr><tr><td>3074</td><td>&quot;test&quot;</td><td>&quot;train&quot;</td><td>&quot;train&quot;</td><td>&quot;train&quot;</td><td>&quot;train&quot;</td></tr><tr><td>4344</td><td>&quot;test&quot;</td><td>&quot;train&quot;</td><td>&quot;train&quot;</td><td>&quot;train&quot;</td><td>&quot;train&quot;</td></tr><tr><td>1327</td><td>&quot;test&quot;</td><td>&quot;train&quot;</td><td>&quot;train&quot;</td><td>&quot;train&quot;</td><td>&quot;train&quot;</td></tr><tr><td>5497</td><td>&quot;test&quot;</td><td>&quot;train&quot;</td><td>&quot;train&quot;</td><td>&quot;train&quot;</td><td>&quot;train&quot;</td></tr><tr><td>&hellip;</td><td>&hellip;</td><td>&hellip;</td><td>&hellip;</td><td>&hellip;</td><td>&hellip;</td></tr><tr><td>5267</td><td>&quot;train&quot;</td><td>&quot;train&quot;</td><td>&quot;train&quot;</td><td>&quot;train&quot;</td><td>&quot;test&quot;</td></tr><tr><td>2626</td><td>&quot;train&quot;</td><td>&quot;train&quot;</td><td>&quot;train&quot;</td><td>&quot;train&quot;</td><td>&quot;test&quot;</td></tr><tr><td>4130</td><td>&quot;train&quot;</td><td>&quot;train&quot;</td><td>&quot;train&quot;</td><td>&quot;train&quot;</td><td>&quot;test&quot;</td></tr><tr><td>409</td><td>&quot;train&quot;</td><td>&quot;train&quot;</td><td>&quot;train&quot;</td><td>&quot;train&quot;</td><td>&quot;test&quot;</td></tr><tr><td>4551</td><td>&quot;train&quot;</td><td>&quot;train&quot;</td><td>&quot;train&quot;</td><td>&quot;train&quot;</td><td>&quot;test&quot;</td></tr><tr><td>1604</td><td>&quot;train&quot;</td><td>&quot;train&quot;</td><td>&quot;train&quot;</td><td>&quot;train&quot;</td><td>&quot;test&quot;</td></tr><tr><td>4783</td><td>&quot;train&quot;</td><td>&quot;train&quot;</td><td>&quot;train&quot;</td><td>&quot;train&quot;</td><td>&quot;test&quot;</td></tr><tr><td>924</td><td>&quot;train&quot;</td><td>&quot;train&quot;</td><td>&quot;train&quot;</td><td>&quot;train&quot;</td><td>&quot;test&quot;</td></tr><tr><td>627</td><td>&quot;train&quot;</td><td>&quot;train&quot;</td><td>&quot;train&quot;</td><td>&quot;train&quot;</td><td>&quot;test&quot;</td></tr><tr><td>5178</td><td>&quot;train&quot;</td><td>&quot;train&quot;</td><td>&quot;train&quot;</td><td>&quot;train&quot;</td><td>&quot;test&quot;</td></tr><tr><td>2915</td><td>&quot;train&quot;</td><td>&quot;train&quot;</td><td>&quot;train&quot;</td><td>&quot;train&quot;</td><td>&quot;test&quot;</td></tr><tr><td>2874</td><td>&quot;train&quot;</td><td>&quot;train&quot;</td><td>&quot;train&quot;</td><td>&quot;train&quot;</td><td>&quot;test&quot;</td></tr></tbody></table></div>"
      ],
      "text/plain": [
       "shape: (5_824, 6)\n",
       "┌──────────┬────────┬────────┬────────┬────────┬────────┐\n",
       "│ cv_index ┆ fold_0 ┆ fold_1 ┆ fold_2 ┆ fold_3 ┆ fold_4 │\n",
       "│ ---      ┆ ---    ┆ ---    ┆ ---    ┆ ---    ┆ ---    │\n",
       "│ u32      ┆ str    ┆ str    ┆ str    ┆ str    ┆ str    │\n",
       "╞══════════╪════════╪════════╪════════╪════════╪════════╡\n",
       "│ 1260     ┆ test   ┆ train  ┆ train  ┆ train  ┆ train  │\n",
       "│ 2223     ┆ test   ┆ train  ┆ train  ┆ train  ┆ train  │\n",
       "│ 1531     ┆ test   ┆ train  ┆ train  ┆ train  ┆ train  │\n",
       "│ 5245     ┆ test   ┆ train  ┆ train  ┆ train  ┆ train  │\n",
       "│ 3553     ┆ test   ┆ train  ┆ train  ┆ train  ┆ train  │\n",
       "│ …        ┆ …      ┆ …      ┆ …      ┆ …      ┆ …      │\n",
       "│ 924      ┆ train  ┆ train  ┆ train  ┆ train  ┆ test   │\n",
       "│ 627      ┆ train  ┆ train  ┆ train  ┆ train  ┆ test   │\n",
       "│ 5178     ┆ train  ┆ train  ┆ train  ┆ train  ┆ test   │\n",
       "│ 2915     ┆ train  ┆ train  ┆ train  ┆ train  ┆ test   │\n",
       "│ 2874     ┆ train  ┆ train  ┆ train  ┆ train  ┆ test   │\n",
       "└──────────┴────────┴────────┴────────┴────────┴────────┘"
      ]
     },
     "execution_count": 9,
     "metadata": {},
     "output_type": "execute_result"
    }
   ],
   "source": [
    "cf.vanilla_kfold(embedded_df,group=None,k=5)"
   ]
  },
  {
   "cell_type": "markdown",
   "metadata": {},
   "source": [
    "df:pl.DataFrame, cv_type: Tuple[str,str], group_outer:List[str],k_outer:int,group_inner:List[str],k_inner:int,r_outer:int =1, r_inner:int =1):"
   ]
  },
  {
   "cell_type": "code",
   "execution_count": 10,
   "metadata": {},
   "outputs": [],
   "source": [
    "models_dict = {\"RandomForest\": [{\"n_estimators\": 10, \"max_depth\": 5},{\"n_estimators\": 50, \"max_depth\": 10}]}\n",
    "inputs =[{\"numerical\":[\"conversations_text-embedding-3-small_embeddings\"]},\n",
    "         {\"numerical\":[\"conversations_text-embedding-3-large_embeddings\"]},\n",
    "         {\"numerical\":[\"conversations_text-embedding-3-small_embeddings\",\"conversations_text-embedding-3-large_embeddings\"]}]"
   ]
  },
  {
   "cell_type": "code",
   "execution_count": 11,
   "metadata": {},
   "outputs": [
    {
     "name": "stdout",
     "output_type": "stream",
     "text": [
      "cv_type: stratified\n",
      "cv_type: stratified\n",
      "['cv_index', 'target', 'outer_stratified_target_replica_0_fold_0', 'outer_stratified_target_replica_0_fold_1', 'outer_stratified_target_replica_0_fold_0_inner_stratified_target_replica_0_fold_0', 'outer_stratified_target_replica_0_fold_0_inner_stratified_target_replica_0_fold_1', 'outer_stratified_target_replica_0_fold_1_inner_stratified_target_replica_0_fold_0', 'outer_stratified_target_replica_0_fold_1_inner_stratified_target_replica_0_fold_1']\n",
      "Accuracy Test: 0.8602335164835165\n",
      "Accuracy Val: 0.864010989010989\n",
      "MCC Test: 0.7187789269010901\n",
      "MCC Val: 0.726297790261728\n",
      "Total CLS time: 00:00:00\n",
      "Accuracy Test: 0.9220467032967034\n",
      "Accuracy Val: 0.926510989010989\n",
      "MCC Test: 0.8432911376595675\n",
      "MCC Val: 0.8521072730197063\n",
      "Total CLS time: 00:00:01\n",
      "Accuracy Test: 0.8756868131868132\n",
      "Accuracy Val: 0.882554945054945\n",
      "MCC Test: 0.7500827692637394\n",
      "MCC Val: 0.763729795085458\n",
      "Total CLS time: 00:00:00\n",
      "Accuracy Test: 0.9416208791208791\n",
      "Accuracy Val: 0.9340659340659341\n",
      "MCC Test: 0.8825184075153905\n",
      "MCC Val: 0.8678677198313377\n",
      "Total CLS time: 00:00:02\n",
      "Accuracy Test: 0.9000686813186813\n",
      "Accuracy Val: 0.8798076923076923\n",
      "MCC Test: 0.7995195743812483\n",
      "MCC Val: 0.75796171255479\n",
      "Total CLS time: 00:00:00\n",
      "Accuracy Test: 0.9419642857142857\n",
      "Accuracy Val: 0.9313186813186813\n",
      "MCC Test: 0.8832974115915563\n",
      "MCC Val: 0.8618523865183174\n",
      "Total CLS time: 00:00:02\n",
      "Accuracy Test: 0.8564560439560439\n",
      "Accuracy Val: 0.8537087912087912\n",
      "MCC Test: 0.7124970248433117\n",
      "MCC Val: 0.7076442421133325\n",
      "Total CLS time: 00:00:00\n",
      "Accuracy Test: 0.9158653846153846\n",
      "Accuracy Val: 0.9223901098901099\n",
      "MCC Test: 0.8319961512741972\n",
      "MCC Val: 0.8438639265516423\n",
      "Total CLS time: 00:00:01\n",
      "Accuracy Test: 0.8959478021978022\n",
      "Accuracy Val: 0.8901098901098901\n",
      "MCC Test: 0.791422778286244\n",
      "MCC Val: 0.7797207036809758\n",
      "Total CLS time: 00:00:00\n",
      "Accuracy Test: 0.9371565934065934\n",
      "Accuracy Val: 0.9333791208791209\n",
      "MCC Test: 0.8748972786583971\n",
      "MCC Val: 0.8670149024522282\n",
      "Total CLS time: 00:00:02\n",
      "Accuracy Test: 0.8780906593406593\n",
      "Accuracy Val: 0.8770604395604396\n",
      "MCC Test: 0.7559521132525381\n",
      "MCC Val: 0.7536369090498909\n",
      "Total CLS time: 00:00:00\n",
      "Accuracy Test: 0.9436813186813187\n",
      "Accuracy Val: 0.9457417582417582\n",
      "MCC Test: 0.8875209725671287\n",
      "MCC Val: 0.8910223753674584\n",
      "Total CLS time: 00:00:02\n",
      "Accuracy Test: 0.8677884615384616\n",
      "Accuracy Val: 0.8598901098901099\n",
      "MCC Test: 0.7341071104840226\n",
      "MCC Val: 0.7181938245902284\n",
      "Total CLS time: 00:00:00\n",
      "Accuracy Test: 0.9168956043956044\n",
      "Accuracy Val: 0.9038461538461539\n",
      "MCC Test: 0.8328791946488575\n",
      "MCC Val: 0.8071459066004358\n",
      "Total CLS time: 00:00:01\n",
      "Accuracy Test: 0.8774038461538461\n",
      "Accuracy Val: 0.8777472527472527\n",
      "MCC Test: 0.7531145044557569\n",
      "MCC Val: 0.7538049834236057\n",
      "Total CLS time: 00:00:00\n",
      "Accuracy Test: 0.9378434065934066\n",
      "Accuracy Val: 0.9464285714285714\n",
      "MCC Test: 0.8750721278517024\n",
      "MCC Val: 0.8923811327126461\n",
      "Total CLS time: 00:00:02\n",
      "Accuracy Test: 0.8763736263736264\n",
      "Accuracy Val: 0.885989010989011\n",
      "MCC Test: 0.7512323984386051\n",
      "MCC Val: 0.7706459359543945\n",
      "Total CLS time: 00:00:00\n",
      "Accuracy Test: 0.9340659340659341\n",
      "Accuracy Val: 0.9416208791208791\n",
      "MCC Test: 0.8673037166090855\n",
      "MCC Val: 0.8827635247172326\n",
      "Total CLS time: 00:00:02\n",
      "Accuracy Test: 0.865728021978022\n",
      "Accuracy Val: 0.867445054945055\n",
      "MCC Test: 0.7295956566687701\n",
      "MCC Val: 0.7341037393764246\n",
      "Total CLS time: 00:00:00\n",
      "Accuracy Test: 0.9258241758241759\n",
      "Accuracy Val: 0.9168956043956044\n",
      "MCC Test: 0.8507577545680015\n",
      "MCC Val: 0.8334203616715699\n",
      "Total CLS time: 00:00:01\n",
      "Accuracy Test: 0.8918269230769231\n",
      "Accuracy Val: 0.8914835164835165\n",
      "MCC Test: 0.7822485797265911\n",
      "MCC Val: 0.7816121920840919\n",
      "Total CLS time: 00:00:00\n",
      "Accuracy Test: 0.9375\n",
      "Accuracy Val: 0.9429945054945055\n",
      "MCC Test: 0.8742032800770199\n",
      "MCC Val: 0.885347949226807\n",
      "Total CLS time: 00:00:02\n",
      "Accuracy Test: 0.8719093406593407\n",
      "Accuracy Val: 0.8846153846153846\n",
      "MCC Test: 0.7421192787873202\n",
      "MCC Val: 0.7677424698658376\n",
      "Total CLS time: 00:00:00\n",
      "Accuracy Test: 0.939217032967033\n",
      "Accuracy Val: 0.9361263736263736\n",
      "MCC Test: 0.8776613614635554\n",
      "MCC Val: 0.8717995819175555\n",
      "Total CLS time: 00:00:02\n",
      "Saving results to ..\\data_processed\\results_2024-02-16_20-47-07_test.parquet\n"
     ]
    }
   ],
   "source": [
    "results,pred=cf.train_nested_cv(df = embedded_df,\n",
    "                     cv_type=(\"stratified\",\"stratified\"),\n",
    "                     inputs=inputs,\n",
    "                     models=models_dict,\n",
    "                     group_outer=[\"target\"],\n",
    "                     k_outer = 2,\n",
    "                     group_inner=[\"target\"],\n",
    "                     k_inner = 2,\n",
    "                     r_outer=1,\n",
    "                     r_inner=1,\n",
    "                     save_name=\"test\")\n"
   ]
  },
  {
   "cell_type": "code",
   "execution_count": 16,
   "metadata": {},
   "outputs": [],
   "source": [
    "summary = cf.results_summary(results,by_test_fold=True)"
   ]
  },
  {
   "cell_type": "code",
   "execution_count": 17,
   "metadata": {},
   "outputs": [
    {
     "name": "stdout",
     "output_type": "stream",
     "text": [
      "conversations_text-embedding-3-large_embeddings n_estimators_50_max_depth_10 0.8781529260557548\n",
      "conversations_text-embedding-3-small_embeddings_conversations_text-embedding-3-large_embeddings n_estimators_50_max_depth_10 0.8768594671301411\n",
      "conversations_text-embedding-3-small_embeddings n_estimators_50_max_depth_10 0.8341343669608386\n",
      "conversations_text-embedding-3-large_embeddings n_estimators_10_max_depth_5 0.7697169185685329\n",
      "conversations_text-embedding-3-small_embeddings_conversations_text-embedding-3-large_embeddings n_estimators_10_max_depth_5 0.7624967568562282\n",
      "conversations_text-embedding-3-small_embeddings n_estimators_10_max_depth_5 0.7215598990854284\n"
     ]
    }
   ],
   "source": [
    "for res in summary.rows(named=True):\n",
    "    print(res[\"input_features_name\"],res[\"classifier_hp\"],res[\"mcc_val\"])"
   ]
  }
 ],
 "metadata": {
  "kernelspec": {
   "display_name": "Python 3",
   "language": "python",
   "name": "python3"
  },
  "language_info": {
   "codemirror_mode": {
    "name": "ipython",
    "version": 3
   },
   "file_extension": ".py",
   "mimetype": "text/x-python",
   "name": "python",
   "nbconvert_exporter": "python",
   "pygments_lexer": "ipython3",
   "version": "3.10.6"
  }
 },
 "nbformat": 4,
 "nbformat_minor": 2
}
