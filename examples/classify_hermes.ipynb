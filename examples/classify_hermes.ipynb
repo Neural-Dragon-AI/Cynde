{
 "cells": [
  {
   "cell_type": "code",
   "execution_count": 1,
   "metadata": {},
   "outputs": [],
   "source": [
    "from datasets import load_dataset\n",
    "import polars as pl\n",
    "import os\n",
    "import cynde.functional as cf"
   ]
  },
  {
   "cell_type": "code",
   "execution_count": 2,
   "metadata": {},
   "outputs": [
    {
     "name": "stdout",
     "output_type": "stream",
     "text": [
      "c:\\Users\\Tommaso\\Documents\\Dev\\Cynde\\cache\n"
     ]
    }
   ],
   "source": [
    "# Get the directory above the current directory\n",
    "above_dir = os.path.dirname(os.getcwd())\n",
    "\n",
    "# Specify the cache directory as 'data' subdirectory within the current directory\n",
    "cache_dir = os.path.join(above_dir, \"cache\")\n",
    "print(cache_dir)"
   ]
  },
  {
   "cell_type": "code",
   "execution_count": 3,
   "metadata": {},
   "outputs": [],
   "source": [
    "dataset_name = \"OpenHermes-2.5\"\n",
    "dataset_path = os.path.join(cache_dir, dataset_name)\n"
   ]
  },
  {
   "cell_type": "code",
   "execution_count": 4,
   "metadata": {},
   "outputs": [
    {
     "data": {
      "text/html": [
       "<div><style>\n",
       ".dataframe > thead > tr,\n",
       ".dataframe > tbody > tr {\n",
       "  text-align: right;\n",
       "  white-space: pre-wrap;\n",
       "}\n",
       "</style>\n",
       "<small>shape: (1, 2)</small><table border=\"1\" class=\"dataframe\"><thead><tr><th>conversations</th><th>source</th></tr><tr><td>list[struct[3]]</td><td>str</td></tr></thead><tbody><tr><td>[{&quot;human&quot;,&quot;Given the following list of words, categorize them into 5 categories by similarity: [&#x27;Heart&#x27;, &#x27;Liver&#x27;, &#x27;Kidney&#x27;, &#x27;Brain&#x27;, &#x27;Stomach&#x27;, &#x27;Skin&#x27;, &#x27;Lung&#x27;, &#x27;Muscle&#x27;, &#x27;Intestine&#x27;, &#x27;Bone&#x27;, &#x27;Pancreas&#x27;, &#x27;Blood&#x27;, &#x27;Eye&#x27;, &#x27;Ear&#x27;, &#x27;Nose&#x27;, &#x27;Mouth&#x27;, &#x27;Esophagus&#x27;, &#x27;Throat&#x27;, &#x27;Spinal Cord&#x27;, &#x27;Bladder&#x27;]&quot;,null}, {&quot;gpt&quot;,&quot;Here are the given words categorized into 5 groups based on their similarity:\n",
       "\n",
       "1. Vital Organs:\n",
       "- Heart\n",
       "- Liver\n",
       "- Kidney\n",
       "- Lung\n",
       "- Pancreas\n",
       "\n",
       "2. Digestive System Components:\n",
       "- Stomach\n",
       "- Intestine\n",
       "- Esophagus\n",
       "- Throat\n",
       "- Mouth\n",
       "\n",
       "3. Sensory Organs:\n",
       "- Eye\n",
       "- Ear\n",
       "- Nose\n",
       "\n",
       "4. Support and Movement:\n",
       "- Bone\n",
       "- Muscle\n",
       "- Spinal Cord\n",
       "- Skin\n",
       "\n",
       "5. Body Fluids and Waste Management:\n",
       "- Blood\n",
       "- Bladder&quot;,null}, … {&quot;gpt&quot;,&quot;1) Vital Organs:\n",
       "- Diseases or disorders affecting one vital organ can impact the functioning of others. For example, heart failure can lead to fluid buildup in the lungs, affecting their function. Liver disease can cause toxins to accumulate in the bloodstream, potentially affecting brain function. Kidney disease can lead to electrolyte imbalances, which can impact heart function.\n",
       "- Organ transplantation involves replacing a damaged organ with a healthy one from a donor. Examples include heart, liver, kidney, lung, and pancreas transplants. Challenges include finding compatible donors, managing immune system rejection, and addressing surgical complications.\n",
       "\n",
       "2) Digestive System Components:\n",
       "- Common digestive disorders include gastroesophageal reflux disease (GERD), irritable bowel syndrome (IBS), inflammatory bowel disease (IBD), and peptic ulcers. Causes may include genetic factors, lifestyle choices, stress, infections, or immune system dysfunction.\n",
       "- The gut microbiome comprises trillions of microorganisms that aid in digestion, nutrient absorption, and immune system function. It can also influence mental health and contribute to the prevention or development of various diseases.\n",
       "\n",
       "3) Sensory Organs:\n",
       "- Optical illusions work by exploiting the brain&#x27;s visual processing system, causing it to misinterpret sensory information. They reveal that our perception of reality can be influenced by factors such as context, contrast, and patterns.\n",
       "- Animals&#x27; sensory organs can differ significantly from humans&#x27;, offering unique capabilities. For example, dogs have a heightened sense of smell, eagles have exceptional long-distance vision, and bats use echolocation for navigation and foraging.\n",
       "\n",
       "4) Support and Movement:\n",
       "- Exercise and physical activity promote bone and muscle health by stimulating bone growth, increasing bone density, and strengthening muscles. This helps prevent age-related bone loss and reduces the risk of injury.\n",
       "- Spinal cord injuries can have varying effects depending on the location and severity of the injury. Injuries can result in temporary or permanent loss of sensation, mobility, and other bodily functions. Paraplegia (paralysis of the legs and lower body) and quadriplegia (paralysis of all four limbs) are examples of potential outcomes of spinal cord injuries.\n",
       "\n",
       "5) Body Fluids and Waste Management:\n",
       "- Blood types affect transfusions and organ transplants because of the presence of specific antigens on red blood cells. Incompatible blood types can cause an immune response, resulting in transfusion reactions or organ rejection.\n",
       "- Common bladder disorders include urinary incontinence, urinary tract infections (UTIs), interstitial cystitis, and bladder cancer. Treatments and management strategies can vary, including medication, lifestyle changes, physical therapy, or surgical interventions.&quot;,null}]</td><td>&quot;caseus_custom&quot;</td></tr></tbody></table></div>"
      ],
      "text/plain": [
       "shape: (1, 2)\n",
       "┌───────────────────────────────────┬───────────────┐\n",
       "│ conversations                     ┆ source        │\n",
       "│ ---                               ┆ ---           │\n",
       "│ list[struct[3]]                   ┆ str           │\n",
       "╞═══════════════════════════════════╪═══════════════╡\n",
       "│ [{\"human\",\"Given the following l… ┆ caseus_custom │\n",
       "└───────────────────────────────────┴───────────────┘"
      ]
     },
     "execution_count": 4,
     "metadata": {},
     "output_type": "execute_result"
    }
   ],
   "source": [
    "df = pl.read_parquet(dataset_path+\"_filtered.parquet\")\n",
    "df.head(1)\n"
   ]
  },
  {
   "cell_type": "code",
   "execution_count": 5,
   "metadata": {},
   "outputs": [
    {
     "data": {
      "text/html": [
       "<div><style>\n",
       ".dataframe > thead > tr,\n",
       ".dataframe > tbody > tr {\n",
       "  text-align: right;\n",
       "  white-space: pre-wrap;\n",
       "}\n",
       "</style>\n",
       "<small>shape: (2, 2)</small><table border=\"1\" class=\"dataframe\"><thead><tr><th>source</th><th>count</th></tr><tr><td>str</td><td>u32</td></tr></thead><tbody><tr><td>&quot;caseus_custom&quot;</td><td>2688</td></tr><tr><td>&quot;LMSys Chatbot …</td><td>3136</td></tr></tbody></table></div>"
      ],
      "text/plain": [
       "shape: (2, 2)\n",
       "┌─────────────────────┬───────┐\n",
       "│ source              ┆ count │\n",
       "│ ---                 ┆ ---   │\n",
       "│ str                 ┆ u32   │\n",
       "╞═════════════════════╪═══════╡\n",
       "│ caseus_custom       ┆ 2688  │\n",
       "│ LMSys Chatbot Arena ┆ 3136  │\n",
       "└─────────────────────┴───────┘"
      ]
     },
     "execution_count": 5,
     "metadata": {},
     "output_type": "execute_result"
    }
   ],
   "source": [
    "df[\"source\"].value_counts()"
   ]
  },
  {
   "cell_type": "code",
   "execution_count": 6,
   "metadata": {},
   "outputs": [],
   "source": [
    "df = df.with_columns(pl.col(\"conversations\").list.eval(pl.element().struct.json_encode()).list.join(\"\\n\"),(pl.col(\"source\")==\"caseus_custom\").alias(\"target\"))"
   ]
  },
  {
   "cell_type": "code",
   "execution_count": 7,
   "metadata": {},
   "outputs": [],
   "source": [
    "#check if the embedded df already exist at dataset_path+\"_embedded.parquet\"\n",
    "if not os.path.exists(dataset_path+\"_embedded_small_large.parquet\"):\n",
    "    embedded_df = cf.embed_columns(df, [\"conversations\"],models=[\"text-embedding-3-small\",\"text-embedding-3-large\"])\n",
    "    embedded_df.write_parquet(dataset_path+\"_embedded_small_large.parquet\")\n",
    "else:\n",
    "    embedded_df = pl.read_parquet(dataset_path+\"_embedded_small_large.parquet\")"
   ]
  },
  {
   "cell_type": "code",
   "execution_count": 8,
   "metadata": {},
   "outputs": [
    {
     "data": {
      "text/html": [
       "<div><style>\n",
       ".dataframe > thead > tr,\n",
       ".dataframe > tbody > tr {\n",
       "  text-align: right;\n",
       "  white-space: pre-wrap;\n",
       "}\n",
       "</style>\n",
       "<small>shape: (2, 2)</small><table border=\"1\" class=\"dataframe\"><thead><tr><th>target</th><th>count</th></tr><tr><td>bool</td><td>u32</td></tr></thead><tbody><tr><td>true</td><td>2688</td></tr><tr><td>false</td><td>3136</td></tr></tbody></table></div>"
      ],
      "text/plain": [
       "shape: (2, 2)\n",
       "┌────────┬───────┐\n",
       "│ target ┆ count │\n",
       "│ ---    ┆ ---   │\n",
       "│ bool   ┆ u32   │\n",
       "╞════════╪═══════╡\n",
       "│ true   ┆ 2688  │\n",
       "│ false  ┆ 3136  │\n",
       "└────────┴───────┘"
      ]
     },
     "execution_count": 8,
     "metadata": {},
     "output_type": "execute_result"
    }
   ],
   "source": [
    "df[\"target\"].value_counts()"
   ]
  },
  {
   "cell_type": "code",
   "execution_count": 9,
   "metadata": {},
   "outputs": [
    {
     "data": {
      "text/html": [
       "<div><style>\n",
       ".dataframe > thead > tr,\n",
       ".dataframe > tbody > tr {\n",
       "  text-align: right;\n",
       "  white-space: pre-wrap;\n",
       "}\n",
       "</style>\n",
       "<small>shape: (5_824, 6)</small><table border=\"1\" class=\"dataframe\"><thead><tr><th>cv_index</th><th>fold_0</th><th>fold_1</th><th>fold_2</th><th>fold_3</th><th>fold_4</th></tr><tr><td>u32</td><td>str</td><td>str</td><td>str</td><td>str</td><td>str</td></tr></thead><tbody><tr><td>4405</td><td>&quot;test&quot;</td><td>&quot;train&quot;</td><td>&quot;train&quot;</td><td>&quot;train&quot;</td><td>&quot;train&quot;</td></tr><tr><td>4389</td><td>&quot;test&quot;</td><td>&quot;train&quot;</td><td>&quot;train&quot;</td><td>&quot;train&quot;</td><td>&quot;train&quot;</td></tr><tr><td>1230</td><td>&quot;test&quot;</td><td>&quot;train&quot;</td><td>&quot;train&quot;</td><td>&quot;train&quot;</td><td>&quot;train&quot;</td></tr><tr><td>1493</td><td>&quot;test&quot;</td><td>&quot;train&quot;</td><td>&quot;train&quot;</td><td>&quot;train&quot;</td><td>&quot;train&quot;</td></tr><tr><td>3600</td><td>&quot;test&quot;</td><td>&quot;train&quot;</td><td>&quot;train&quot;</td><td>&quot;train&quot;</td><td>&quot;train&quot;</td></tr><tr><td>3649</td><td>&quot;test&quot;</td><td>&quot;train&quot;</td><td>&quot;train&quot;</td><td>&quot;train&quot;</td><td>&quot;train&quot;</td></tr><tr><td>775</td><td>&quot;test&quot;</td><td>&quot;train&quot;</td><td>&quot;train&quot;</td><td>&quot;train&quot;</td><td>&quot;train&quot;</td></tr><tr><td>2866</td><td>&quot;test&quot;</td><td>&quot;train&quot;</td><td>&quot;train&quot;</td><td>&quot;train&quot;</td><td>&quot;train&quot;</td></tr><tr><td>5200</td><td>&quot;test&quot;</td><td>&quot;train&quot;</td><td>&quot;train&quot;</td><td>&quot;train&quot;</td><td>&quot;train&quot;</td></tr><tr><td>5808</td><td>&quot;test&quot;</td><td>&quot;train&quot;</td><td>&quot;train&quot;</td><td>&quot;train&quot;</td><td>&quot;train&quot;</td></tr><tr><td>1929</td><td>&quot;test&quot;</td><td>&quot;train&quot;</td><td>&quot;train&quot;</td><td>&quot;train&quot;</td><td>&quot;train&quot;</td></tr><tr><td>536</td><td>&quot;test&quot;</td><td>&quot;train&quot;</td><td>&quot;train&quot;</td><td>&quot;train&quot;</td><td>&quot;train&quot;</td></tr><tr><td>&hellip;</td><td>&hellip;</td><td>&hellip;</td><td>&hellip;</td><td>&hellip;</td><td>&hellip;</td></tr><tr><td>2872</td><td>&quot;train&quot;</td><td>&quot;train&quot;</td><td>&quot;train&quot;</td><td>&quot;train&quot;</td><td>&quot;test&quot;</td></tr><tr><td>2948</td><td>&quot;train&quot;</td><td>&quot;train&quot;</td><td>&quot;train&quot;</td><td>&quot;train&quot;</td><td>&quot;test&quot;</td></tr><tr><td>1659</td><td>&quot;train&quot;</td><td>&quot;train&quot;</td><td>&quot;train&quot;</td><td>&quot;train&quot;</td><td>&quot;test&quot;</td></tr><tr><td>2724</td><td>&quot;train&quot;</td><td>&quot;train&quot;</td><td>&quot;train&quot;</td><td>&quot;train&quot;</td><td>&quot;test&quot;</td></tr><tr><td>649</td><td>&quot;train&quot;</td><td>&quot;train&quot;</td><td>&quot;train&quot;</td><td>&quot;train&quot;</td><td>&quot;test&quot;</td></tr><tr><td>5506</td><td>&quot;train&quot;</td><td>&quot;train&quot;</td><td>&quot;train&quot;</td><td>&quot;train&quot;</td><td>&quot;test&quot;</td></tr><tr><td>4575</td><td>&quot;train&quot;</td><td>&quot;train&quot;</td><td>&quot;train&quot;</td><td>&quot;train&quot;</td><td>&quot;test&quot;</td></tr><tr><td>2637</td><td>&quot;train&quot;</td><td>&quot;train&quot;</td><td>&quot;train&quot;</td><td>&quot;train&quot;</td><td>&quot;test&quot;</td></tr><tr><td>2652</td><td>&quot;train&quot;</td><td>&quot;train&quot;</td><td>&quot;train&quot;</td><td>&quot;train&quot;</td><td>&quot;test&quot;</td></tr><tr><td>734</td><td>&quot;train&quot;</td><td>&quot;train&quot;</td><td>&quot;train&quot;</td><td>&quot;train&quot;</td><td>&quot;test&quot;</td></tr><tr><td>2203</td><td>&quot;train&quot;</td><td>&quot;train&quot;</td><td>&quot;train&quot;</td><td>&quot;train&quot;</td><td>&quot;test&quot;</td></tr><tr><td>951</td><td>&quot;train&quot;</td><td>&quot;train&quot;</td><td>&quot;train&quot;</td><td>&quot;train&quot;</td><td>&quot;test&quot;</td></tr></tbody></table></div>"
      ],
      "text/plain": [
       "shape: (5_824, 6)\n",
       "┌──────────┬────────┬────────┬────────┬────────┬────────┐\n",
       "│ cv_index ┆ fold_0 ┆ fold_1 ┆ fold_2 ┆ fold_3 ┆ fold_4 │\n",
       "│ ---      ┆ ---    ┆ ---    ┆ ---    ┆ ---    ┆ ---    │\n",
       "│ u32      ┆ str    ┆ str    ┆ str    ┆ str    ┆ str    │\n",
       "╞══════════╪════════╪════════╪════════╪════════╪════════╡\n",
       "│ 4405     ┆ test   ┆ train  ┆ train  ┆ train  ┆ train  │\n",
       "│ 4389     ┆ test   ┆ train  ┆ train  ┆ train  ┆ train  │\n",
       "│ 1230     ┆ test   ┆ train  ┆ train  ┆ train  ┆ train  │\n",
       "│ 1493     ┆ test   ┆ train  ┆ train  ┆ train  ┆ train  │\n",
       "│ 3600     ┆ test   ┆ train  ┆ train  ┆ train  ┆ train  │\n",
       "│ …        ┆ …      ┆ …      ┆ …      ┆ …      ┆ …      │\n",
       "│ 2637     ┆ train  ┆ train  ┆ train  ┆ train  ┆ test   │\n",
       "│ 2652     ┆ train  ┆ train  ┆ train  ┆ train  ┆ test   │\n",
       "│ 734      ┆ train  ┆ train  ┆ train  ┆ train  ┆ test   │\n",
       "│ 2203     ┆ train  ┆ train  ┆ train  ┆ train  ┆ test   │\n",
       "│ 951      ┆ train  ┆ train  ┆ train  ┆ train  ┆ test   │\n",
       "└──────────┴────────┴────────┴────────┴────────┴────────┘"
      ]
     },
     "execution_count": 9,
     "metadata": {},
     "output_type": "execute_result"
    }
   ],
   "source": [
    "cf.vanilla_kfold(embedded_df,group=None,k=5)"
   ]
  },
  {
   "cell_type": "markdown",
   "metadata": {},
   "source": [
    "df:pl.DataFrame, cv_type: Tuple[str,str], group_outer:List[str],k_outer:int,group_inner:List[str],k_inner:int,r_outer:int =1, r_inner:int =1):"
   ]
  },
  {
   "cell_type": "code",
   "execution_count": 10,
   "metadata": {},
   "outputs": [],
   "source": [
    "models_dict = {\"RandomForest\": [{\"n_estimators\": 10, \"max_depth\": 5},{\"n_estimators\": 50, \"max_depth\": 10}]}\n",
    "inputs =[{\"numerical\":[\"conversations_text-embedding-3-small_embeddings\"]},\n",
    "         {\"numerical\":[\"conversations_text-embedding-3-large_embeddings\"]},\n",
    "         {\"numerical\":[\"conversations_text-embedding-3-small_embeddings\",\"conversations_text-embedding-3-large_embeddings\"]}]"
   ]
  },
  {
   "cell_type": "code",
   "execution_count": 11,
   "metadata": {},
   "outputs": [
    {
     "name": "stdout",
     "output_type": "stream",
     "text": [
      "cv_type: stratified\n",
      "cv_type: stratified\n",
      "['cv_index', 'target', 'outer_stratified_target_replica_0_fold_0', 'outer_stratified_target_replica_0_fold_1', 'outer_stratified_target_replica_0_fold_0_inner_stratified_target_replica_0_fold_0', 'outer_stratified_target_replica_0_fold_0_inner_stratified_target_replica_0_fold_1', 'outer_stratified_target_replica_0_fold_1_inner_stratified_target_replica_0_fold_0', 'outer_stratified_target_replica_0_fold_1_inner_stratified_target_replica_0_fold_1']\n",
      "Accuracy Test: 0.8664148351648352\n",
      "Accuracy Val: 0.8681318681318682\n",
      "MCC Test: 0.7315083611402093\n",
      "MCC Val: 0.7345117219313307\n",
      "Total CLS time: 00:00:00\n",
      "Accuracy Test: 0.9217032967032966\n",
      "Accuracy Val: 0.904532967032967\n",
      "MCC Test: 0.8430540660769534\n",
      "MCC Val: 0.8082364605363238\n",
      "Total CLS time: 00:00:01\n",
      "Accuracy Test: 0.8966346153846154\n",
      "Accuracy Val: 0.8866758241758241\n",
      "MCC Test: 0.7920470203546572\n",
      "MCC Val: 0.7718582256466936\n",
      "Total CLS time: 00:00:00\n",
      "Accuracy Test: 0.9409340659340659\n",
      "Accuracy Val: 0.9361263736263736\n",
      "MCC Test: 0.8812108312823249\n",
      "MCC Val: 0.8715735275750608\n",
      "Total CLS time: 00:00:02\n",
      "Accuracy Test: 0.8725961538461539\n",
      "Accuracy Val: 0.8557692307692307\n",
      "MCC Test: 0.7435624039795485\n",
      "MCC Val: 0.7095069491391514\n",
      "Total CLS time: 00:00:00\n",
      "Accuracy Test: 0.9316620879120879\n",
      "Accuracy Val: 0.9292582417582418\n",
      "MCC Test: 0.86276622579095\n",
      "MCC Val: 0.8578653833209066\n",
      "Total CLS time: 00:00:02\n",
      "Accuracy Test: 0.8612637362637363\n",
      "Accuracy Val: 0.8791208791208791\n",
      "MCC Test: 0.720821998720561\n",
      "MCC Val: 0.7565840038215913\n",
      "Total CLS time: 00:00:00\n",
      "Accuracy Test: 0.9268543956043956\n",
      "Accuracy Val: 0.9347527472527473\n",
      "MCC Test: 0.8531576407916059\n",
      "MCC Val: 0.8688025674727189\n",
      "Total CLS time: 00:00:01\n",
      "Accuracy Test: 0.8877060439560439\n",
      "Accuracy Val: 0.8921703296703297\n",
      "MCC Test: 0.7752305129469467\n",
      "MCC Val: 0.7858014554382404\n",
      "Total CLS time: 00:00:00\n",
      "Accuracy Test: 0.9481456043956044\n",
      "Accuracy Val: 0.9333791208791209\n",
      "MCC Test: 0.8958071212564268\n",
      "MCC Val: 0.8660763074282404\n",
      "Total CLS time: 00:00:02\n",
      "Accuracy Test: 0.8701923076923077\n",
      "Accuracy Val: 0.8832417582417582\n",
      "MCC Test: 0.7392739652035584\n",
      "MCC Val: 0.7651457878628563\n",
      "Total CLS time: 00:00:00\n",
      "Accuracy Test: 0.9409340659340659\n",
      "Accuracy Val: 0.9368131868131868\n",
      "MCC Test: 0.881143103274015\n",
      "MCC Val: 0.8729815428710669\n",
      "Total CLS time: 00:00:02\n",
      "Accuracy Test: 0.8698489010989011\n",
      "Accuracy Val: 0.885989010989011\n",
      "MCC Test: 0.7379213169760369\n",
      "MCC Val: 0.7704339927145575\n",
      "Total CLS time: 00:00:00\n",
      "Accuracy Test: 0.9110576923076923\n",
      "Accuracy Val: 0.9230769230769231\n",
      "MCC Test: 0.8209563170182055\n",
      "MCC Val: 0.8452678430973822\n",
      "Total CLS time: 00:00:01\n",
      "Accuracy Test: 0.8774038461538461\n",
      "Accuracy Val: 0.8839285714285714\n",
      "MCC Test: 0.7532023537676059\n",
      "MCC Val: 0.7665069943403142\n",
      "Total CLS time: 00:00:00\n",
      "Accuracy Test: 0.9354395604395604\n",
      "Accuracy Val: 0.9416208791208791\n",
      "MCC Test: 0.870055578665669\n",
      "MCC Val: 0.8827635247172326\n",
      "Total CLS time: 00:00:02\n",
      "Accuracy Test: 0.8832417582417582\n",
      "Accuracy Val: 0.8880494505494505\n",
      "MCC Test: 0.7648809537932094\n",
      "MCC Val: 0.774572941142606\n",
      "Total CLS time: 00:00:00\n",
      "Accuracy Test: 0.9354395604395604\n",
      "Accuracy Val: 0.9423076923076923\n",
      "MCC Test: 0.8701026723044446\n",
      "MCC Val: 0.883980594533454\n",
      "Total CLS time: 00:00:02\n",
      "Accuracy Test: 0.8540521978021978\n",
      "Accuracy Val: 0.8708791208791209\n",
      "MCC Test: 0.706111257804461\n",
      "MCC Val: 0.7413866032233584\n",
      "Total CLS time: 00:00:00\n",
      "Accuracy Test: 0.9196428571428571\n",
      "Accuracy Val: 0.9127747252747253\n",
      "MCC Test: 0.8384253232340465\n",
      "MCC Val: 0.8255065833701228\n",
      "Total CLS time: 00:00:01\n",
      "Accuracy Test: 0.8846153846153846\n",
      "Accuracy Val: 0.8839285714285714\n",
      "MCC Test: 0.7676664762997222\n",
      "MCC Val: 0.7665637715345831\n",
      "Total CLS time: 00:00:00\n",
      "Accuracy Test: 0.9350961538461539\n",
      "Accuracy Val: 0.9340659340659341\n",
      "MCC Test: 0.8693698712044238\n",
      "MCC Val: 0.8676044698372695\n",
      "Total CLS time: 00:00:02\n",
      "Accuracy Test: 0.8804945054945055\n",
      "Accuracy Val: 0.885989010989011\n",
      "MCC Test: 0.7603224940137746\n",
      "MCC Val: 0.7717112057624005\n",
      "Total CLS time: 00:00:00\n",
      "Accuracy Test: 0.9385302197802198\n",
      "Accuracy Val: 0.929945054945055\n",
      "MCC Test: 0.87637251329781\n",
      "MCC Val: 0.8598864580431901\n",
      "Total CLS time: 00:00:02\n",
      "Saving results to ..\\data_processed\\results_2024-02-16_20-53-21_test.parquet\n"
     ]
    }
   ],
   "source": [
    "results,pred=cf.train_nested_cv(df = embedded_df,\n",
    "                     cv_type=(\"stratified\",\"stratified\"),\n",
    "                     inputs=inputs,\n",
    "                     models=models_dict,\n",
    "                     group_outer=[\"target\"],\n",
    "                     k_outer = 2,\n",
    "                     group_inner=[\"target\"],\n",
    "                     k_inner = 2,\n",
    "                     r_outer=1,\n",
    "                     r_inner=1,\n",
    "                     save_name=\"test\")\n"
   ]
  },
  {
   "cell_type": "code",
   "execution_count": 14,
   "metadata": {},
   "outputs": [
    {
     "data": {
      "text/html": [
       "<div><style>\n",
       ".dataframe > thead > tr,\n",
       ".dataframe > tbody > tr {\n",
       "  text-align: right;\n",
       "  white-space: pre-wrap;\n",
       "}\n",
       "</style>\n",
       "<small>shape: (6, 12)</small><table border=\"1\" class=\"dataframe\"><thead><tr><th>classifier</th><th>classifier_hp</th><th>input_features_name</th><th>r_outer</th><th>r_inner</th><th>mcc_train</th><th>mcc_val</th><th>mcc_test</th><th>accuracy_train</th><th>accuracy_val</th><th>accuracy_test</th><th>n</th></tr><tr><td>str</td><td>str</td><td>str</td><td>i64</td><td>i64</td><td>f64</td><td>f64</td><td>f64</td><td>f64</td><td>f64</td><td>f64</td><td>u32</td></tr></thead><tbody><tr><td>&quot;RandomForest&quot;</td><td>&quot;n_estimators_5…</td><td>&quot;conversations_…</td><td>0</td><td>0</td><td>1.0</td><td>0.872004</td><td>0.879111</td><td>1.0</td><td>0.936298</td><td>0.939904</td><td>4</td></tr><tr><td>&quot;RandomForest&quot;</td><td>&quot;n_estimators_5…</td><td>&quot;conversations_…</td><td>0</td><td>0</td><td>0.999655</td><td>0.868678</td><td>0.872596</td><td>0.999828</td><td>0.934581</td><td>0.936641</td><td>4</td></tr><tr><td>&quot;RandomForest&quot;</td><td>&quot;n_estimators_5…</td><td>&quot;conversations_…</td><td>0</td><td>0</td><td>0.998964</td><td>0.836953</td><td>0.838898</td><td>0.999485</td><td>0.918784</td><td>0.919815</td><td>4</td></tr><tr><td>&quot;RandomForest&quot;</td><td>&quot;n_estimators_1…</td><td>&quot;conversations_…</td><td>0</td><td>0</td><td>0.934791</td><td>0.772683</td><td>0.772037</td><td>0.967548</td><td>0.886676</td><td>0.88659</td><td>4</td></tr><tr><td>&quot;RandomForest&quot;</td><td>&quot;n_estimators_1…</td><td>&quot;conversations_…</td><td>0</td><td>0</td><td>0.91648</td><td>0.755234</td><td>0.75201</td><td>0.958448</td><td>0.878262</td><td>0.876631</td><td>4</td></tr><tr><td>&quot;RandomForest&quot;</td><td>&quot;n_estimators_1…</td><td>&quot;conversations_…</td><td>0</td><td>0</td><td>0.901924</td><td>0.750729</td><td>0.724091</td><td>0.951236</td><td>0.87603</td><td>0.862895</td><td>4</td></tr></tbody></table></div>"
      ],
      "text/plain": [
       "shape: (6, 12)\n",
       "┌─────────────┬────────────┬────────────┬─────────┬───┬────────────┬────────────┬────────────┬─────┐\n",
       "│ classifier  ┆ classifier ┆ input_feat ┆ r_outer ┆ … ┆ accuracy_t ┆ accuracy_v ┆ accuracy_t ┆ n   │\n",
       "│ ---         ┆ _hp        ┆ ures_name  ┆ ---     ┆   ┆ rain       ┆ al         ┆ est        ┆ --- │\n",
       "│ str         ┆ ---        ┆ ---        ┆ i64     ┆   ┆ ---        ┆ ---        ┆ ---        ┆ u32 │\n",
       "│             ┆ str        ┆ str        ┆         ┆   ┆ f64        ┆ f64        ┆ f64        ┆     │\n",
       "╞═════════════╪════════════╪════════════╪═════════╪═══╪════════════╪════════════╪════════════╪═════╡\n",
       "│ RandomFores ┆ n_estimato ┆ conversati ┆ 0       ┆ … ┆ 1.0        ┆ 0.936298   ┆ 0.939904   ┆ 4   │\n",
       "│ t           ┆ rs_50_max_ ┆ ons_text-e ┆         ┆   ┆            ┆            ┆            ┆     │\n",
       "│             ┆ depth_10   ┆ mbedding-3 ┆         ┆   ┆            ┆            ┆            ┆     │\n",
       "│             ┆            ┆ -l…        ┆         ┆   ┆            ┆            ┆            ┆     │\n",
       "│ RandomFores ┆ n_estimato ┆ conversati ┆ 0       ┆ … ┆ 0.999828   ┆ 0.934581   ┆ 0.936641   ┆ 4   │\n",
       "│ t           ┆ rs_50_max_ ┆ ons_text-e ┆         ┆   ┆            ┆            ┆            ┆     │\n",
       "│             ┆ depth_10   ┆ mbedding-3 ┆         ┆   ┆            ┆            ┆            ┆     │\n",
       "│             ┆            ┆ -s…        ┆         ┆   ┆            ┆            ┆            ┆     │\n",
       "│ RandomFores ┆ n_estimato ┆ conversati ┆ 0       ┆ … ┆ 0.999485   ┆ 0.918784   ┆ 0.919815   ┆ 4   │\n",
       "│ t           ┆ rs_50_max_ ┆ ons_text-e ┆         ┆   ┆            ┆            ┆            ┆     │\n",
       "│             ┆ depth_10   ┆ mbedding-3 ┆         ┆   ┆            ┆            ┆            ┆     │\n",
       "│             ┆            ┆ -s…        ┆         ┆   ┆            ┆            ┆            ┆     │\n",
       "│ RandomFores ┆ n_estimato ┆ conversati ┆ 0       ┆ … ┆ 0.967548   ┆ 0.886676   ┆ 0.88659    ┆ 4   │\n",
       "│ t           ┆ rs_10_max_ ┆ ons_text-e ┆         ┆   ┆            ┆            ┆            ┆     │\n",
       "│             ┆ depth_5    ┆ mbedding-3 ┆         ┆   ┆            ┆            ┆            ┆     │\n",
       "│             ┆            ┆ -l…        ┆         ┆   ┆            ┆            ┆            ┆     │\n",
       "│ RandomFores ┆ n_estimato ┆ conversati ┆ 0       ┆ … ┆ 0.958448   ┆ 0.878262   ┆ 0.876631   ┆ 4   │\n",
       "│ t           ┆ rs_10_max_ ┆ ons_text-e ┆         ┆   ┆            ┆            ┆            ┆     │\n",
       "│             ┆ depth_5    ┆ mbedding-3 ┆         ┆   ┆            ┆            ┆            ┆     │\n",
       "│             ┆            ┆ -s…        ┆         ┆   ┆            ┆            ┆            ┆     │\n",
       "│ RandomFores ┆ n_estimato ┆ conversati ┆ 0       ┆ … ┆ 0.951236   ┆ 0.87603    ┆ 0.862895   ┆ 4   │\n",
       "│ t           ┆ rs_10_max_ ┆ ons_text-e ┆         ┆   ┆            ┆            ┆            ┆     │\n",
       "│             ┆ depth_5    ┆ mbedding-3 ┆         ┆   ┆            ┆            ┆            ┆     │\n",
       "│             ┆            ┆ -s…        ┆         ┆   ┆            ┆            ┆            ┆     │\n",
       "└─────────────┴────────────┴────────────┴─────────┴───┴────────────┴────────────┴────────────┴─────┘"
      ]
     },
     "execution_count": 14,
     "metadata": {},
     "output_type": "execute_result"
    }
   ],
   "source": [
    "summary = cf.results_summary(results,by_test_fold=True)\n",
    "summary"
   ]
  },
  {
   "cell_type": "code",
   "execution_count": 13,
   "metadata": {},
   "outputs": [
    {
     "name": "stdout",
     "output_type": "stream",
     "text": [
      "conversations_text-embedding-3-large_embeddings n_estimators_50_max_depth_10 0.8720044573894509\n",
      "conversations_text-embedding-3-small_embeddings_conversations_text-embedding-3-large_embeddings n_estimators_50_max_depth_10 0.8686784946921543\n",
      "conversations_text-embedding-3-small_embeddings n_estimators_50_max_depth_10 0.836953363619137\n",
      "conversations_text-embedding-3-large_embeddings n_estimators_10_max_depth_5 0.7726826117399578\n",
      "conversations_text-embedding-3-small_embeddings_conversations_text-embedding-3-large_embeddings n_estimators_10_max_depth_5 0.7552342209767535\n",
      "conversations_text-embedding-3-small_embeddings n_estimators_10_max_depth_5 0.7507290804227095\n"
     ]
    }
   ],
   "source": [
    "for res in summary.rows(named=True):\n",
    "    print(res[\"input_features_name\"],res[\"classifier_hp\"],res[\"mcc_val\"])"
   ]
  }
 ],
 "metadata": {
  "kernelspec": {
   "display_name": "Python 3",
   "language": "python",
   "name": "python3"
  },
  "language_info": {
   "codemirror_mode": {
    "name": "ipython",
    "version": 3
   },
   "file_extension": ".py",
   "mimetype": "text/x-python",
   "name": "python",
   "nbconvert_exporter": "python",
   "pygments_lexer": "ipython3",
   "version": "3.10.6"
  }
 },
 "nbformat": 4,
 "nbformat_minor": 2
}
