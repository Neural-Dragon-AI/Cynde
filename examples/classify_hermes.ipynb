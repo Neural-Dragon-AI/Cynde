{
 "cells": [
  {
   "cell_type": "code",
   "execution_count": 1,
   "metadata": {},
   "outputs": [],
   "source": [
    "from datasets import load_dataset\n",
    "import polars as pl\n",
    "import os\n",
    "import cynde.functional as cf"
   ]
  },
  {
   "cell_type": "code",
   "execution_count": 2,
   "metadata": {},
   "outputs": [
    {
     "name": "stdout",
     "output_type": "stream",
     "text": [
      "c:\\Users\\Tommaso\\Documents\\Dev\\Cynde\\cache\n"
     ]
    }
   ],
   "source": [
    "# Get the directory above the current directory\n",
    "above_dir = os.path.dirname(os.getcwd())\n",
    "\n",
    "# Specify the cache directory as 'data' subdirectory within the current directory\n",
    "cache_dir = os.path.join(above_dir, \"cache\")\n",
    "print(cache_dir)"
   ]
  },
  {
   "cell_type": "code",
   "execution_count": 3,
   "metadata": {},
   "outputs": [],
   "source": [
    "dataset_name = \"OpenHermes-2.5\"\n",
    "dataset_path = os.path.join(cache_dir, dataset_name)\n"
   ]
  },
  {
   "cell_type": "code",
   "execution_count": 4,
   "metadata": {},
   "outputs": [
    {
     "data": {
      "text/html": [
       "<div><style>\n",
       ".dataframe > thead > tr,\n",
       ".dataframe > tbody > tr {\n",
       "  text-align: right;\n",
       "  white-space: pre-wrap;\n",
       "}\n",
       "</style>\n",
       "<small>shape: (1, 2)</small><table border=\"1\" class=\"dataframe\"><thead><tr><th>conversations</th><th>source</th></tr><tr><td>list[struct[3]]</td><td>str</td></tr></thead><tbody><tr><td>[{&quot;human&quot;,&quot;Given the following list of words, categorize them into 5 categories by similarity: [&#x27;Heart&#x27;, &#x27;Liver&#x27;, &#x27;Kidney&#x27;, &#x27;Brain&#x27;, &#x27;Stomach&#x27;, &#x27;Skin&#x27;, &#x27;Lung&#x27;, &#x27;Muscle&#x27;, &#x27;Intestine&#x27;, &#x27;Bone&#x27;, &#x27;Pancreas&#x27;, &#x27;Blood&#x27;, &#x27;Eye&#x27;, &#x27;Ear&#x27;, &#x27;Nose&#x27;, &#x27;Mouth&#x27;, &#x27;Esophagus&#x27;, &#x27;Throat&#x27;, &#x27;Spinal Cord&#x27;, &#x27;Bladder&#x27;]&quot;,null}, {&quot;gpt&quot;,&quot;Here are the given words categorized into 5 groups based on their similarity:\n",
       "\n",
       "1. Vital Organs:\n",
       "- Heart\n",
       "- Liver\n",
       "- Kidney\n",
       "- Lung\n",
       "- Pancreas\n",
       "\n",
       "2. Digestive System Components:\n",
       "- Stomach\n",
       "- Intestine\n",
       "- Esophagus\n",
       "- Throat\n",
       "- Mouth\n",
       "\n",
       "3. Sensory Organs:\n",
       "- Eye\n",
       "- Ear\n",
       "- Nose\n",
       "\n",
       "4. Support and Movement:\n",
       "- Bone\n",
       "- Muscle\n",
       "- Spinal Cord\n",
       "- Skin\n",
       "\n",
       "5. Body Fluids and Waste Management:\n",
       "- Blood\n",
       "- Bladder&quot;,null}, … {&quot;gpt&quot;,&quot;1) Vital Organs:\n",
       "- Diseases or disorders affecting one vital organ can impact the functioning of others. For example, heart failure can lead to fluid buildup in the lungs, affecting their function. Liver disease can cause toxins to accumulate in the bloodstream, potentially affecting brain function. Kidney disease can lead to electrolyte imbalances, which can impact heart function.\n",
       "- Organ transplantation involves replacing a damaged organ with a healthy one from a donor. Examples include heart, liver, kidney, lung, and pancreas transplants. Challenges include finding compatible donors, managing immune system rejection, and addressing surgical complications.\n",
       "\n",
       "2) Digestive System Components:\n",
       "- Common digestive disorders include gastroesophageal reflux disease (GERD), irritable bowel syndrome (IBS), inflammatory bowel disease (IBD), and peptic ulcers. Causes may include genetic factors, lifestyle choices, stress, infections, or immune system dysfunction.\n",
       "- The gut microbiome comprises trillions of microorganisms that aid in digestion, nutrient absorption, and immune system function. It can also influence mental health and contribute to the prevention or development of various diseases.\n",
       "\n",
       "3) Sensory Organs:\n",
       "- Optical illusions work by exploiting the brain&#x27;s visual processing system, causing it to misinterpret sensory information. They reveal that our perception of reality can be influenced by factors such as context, contrast, and patterns.\n",
       "- Animals&#x27; sensory organs can differ significantly from humans&#x27;, offering unique capabilities. For example, dogs have a heightened sense of smell, eagles have exceptional long-distance vision, and bats use echolocation for navigation and foraging.\n",
       "\n",
       "4) Support and Movement:\n",
       "- Exercise and physical activity promote bone and muscle health by stimulating bone growth, increasing bone density, and strengthening muscles. This helps prevent age-related bone loss and reduces the risk of injury.\n",
       "- Spinal cord injuries can have varying effects depending on the location and severity of the injury. Injuries can result in temporary or permanent loss of sensation, mobility, and other bodily functions. Paraplegia (paralysis of the legs and lower body) and quadriplegia (paralysis of all four limbs) are examples of potential outcomes of spinal cord injuries.\n",
       "\n",
       "5) Body Fluids and Waste Management:\n",
       "- Blood types affect transfusions and organ transplants because of the presence of specific antigens on red blood cells. Incompatible blood types can cause an immune response, resulting in transfusion reactions or organ rejection.\n",
       "- Common bladder disorders include urinary incontinence, urinary tract infections (UTIs), interstitial cystitis, and bladder cancer. Treatments and management strategies can vary, including medication, lifestyle changes, physical therapy, or surgical interventions.&quot;,null}]</td><td>&quot;caseus_custom&quot;</td></tr></tbody></table></div>"
      ],
      "text/plain": [
       "shape: (1, 2)\n",
       "┌───────────────────────────────────┬───────────────┐\n",
       "│ conversations                     ┆ source        │\n",
       "│ ---                               ┆ ---           │\n",
       "│ list[struct[3]]                   ┆ str           │\n",
       "╞═══════════════════════════════════╪═══════════════╡\n",
       "│ [{\"human\",\"Given the following l… ┆ caseus_custom │\n",
       "└───────────────────────────────────┴───────────────┘"
      ]
     },
     "execution_count": 4,
     "metadata": {},
     "output_type": "execute_result"
    }
   ],
   "source": [
    "df = pl.read_parquet(dataset_path+\"_filtered.parquet\")\n",
    "df.head(1)\n"
   ]
  },
  {
   "cell_type": "code",
   "execution_count": 5,
   "metadata": {},
   "outputs": [
    {
     "data": {
      "text/html": [
       "<div><style>\n",
       ".dataframe > thead > tr,\n",
       ".dataframe > tbody > tr {\n",
       "  text-align: right;\n",
       "  white-space: pre-wrap;\n",
       "}\n",
       "</style>\n",
       "<small>shape: (2, 2)</small><table border=\"1\" class=\"dataframe\"><thead><tr><th>source</th><th>count</th></tr><tr><td>str</td><td>u32</td></tr></thead><tbody><tr><td>&quot;caseus_custom&quot;</td><td>2688</td></tr><tr><td>&quot;LMSys Chatbot …</td><td>3136</td></tr></tbody></table></div>"
      ],
      "text/plain": [
       "shape: (2, 2)\n",
       "┌─────────────────────┬───────┐\n",
       "│ source              ┆ count │\n",
       "│ ---                 ┆ ---   │\n",
       "│ str                 ┆ u32   │\n",
       "╞═════════════════════╪═══════╡\n",
       "│ caseus_custom       ┆ 2688  │\n",
       "│ LMSys Chatbot Arena ┆ 3136  │\n",
       "└─────────────────────┴───────┘"
      ]
     },
     "execution_count": 5,
     "metadata": {},
     "output_type": "execute_result"
    }
   ],
   "source": [
    "df[\"source\"].value_counts()"
   ]
  },
  {
   "cell_type": "code",
   "execution_count": 6,
   "metadata": {},
   "outputs": [],
   "source": [
    "df = df.with_columns(pl.col(\"conversations\").list.eval(pl.element().struct.json_encode()).list.join(\"\\n\"),(pl.col(\"source\")==\"caseus_custom\").alias(\"target\"))"
   ]
  },
  {
   "cell_type": "code",
   "execution_count": 7,
   "metadata": {},
   "outputs": [
    {
     "name": "stdout",
     "output_type": "stream",
     "text": [
      "Creating embeddings for column conversations\n",
      "Processing 5824 chunks of text in batches\n",
      "Processed  0 cunks of text out of 5824\n",
      "Processed  100 cunks of text out of 5824\n",
      "Processed  200 cunks of text out of 5824\n",
      "Processed  300 cunks of text out of 5824\n",
      "Processed  400 cunks of text out of 5824\n",
      "Processed  500 cunks of text out of 5824\n",
      "Processed  600 cunks of text out of 5824\n",
      "Processed  700 cunks of text out of 5824\n",
      "Processed  800 cunks of text out of 5824\n",
      "Processed  900 cunks of text out of 5824\n",
      "Processed  1000 cunks of text out of 5824\n",
      "Processed  1100 cunks of text out of 5824\n",
      "Processed  1200 cunks of text out of 5824\n",
      "Processed  1300 cunks of text out of 5824\n",
      "Processed  1400 cunks of text out of 5824\n",
      "Processed  1500 cunks of text out of 5824\n",
      "Processed  1600 cunks of text out of 5824\n",
      "Processed  1700 cunks of text out of 5824\n",
      "Processed  1800 cunks of text out of 5824\n",
      "Processed  1900 cunks of text out of 5824\n",
      "Processed  2000 cunks of text out of 5824\n",
      "Processed  2100 cunks of text out of 5824\n",
      "Processed  2200 cunks of text out of 5824\n",
      "Processed  2300 cunks of text out of 5824\n",
      "Processed  2400 cunks of text out of 5824\n",
      "Processed  2500 cunks of text out of 5824\n",
      "Processed  2600 cunks of text out of 5824\n",
      "Processed  2700 cunks of text out of 5824\n",
      "Processed  2800 cunks of text out of 5824\n",
      "Processed  2900 cunks of text out of 5824\n",
      "Processed  3000 cunks of text out of 5824\n",
      "Processed  3100 cunks of text out of 5824\n",
      "Processed  3200 cunks of text out of 5824\n",
      "Processed  3300 cunks of text out of 5824\n",
      "Processed  3400 cunks of text out of 5824\n",
      "Processed  3500 cunks of text out of 5824\n",
      "Processed  3600 cunks of text out of 5824\n",
      "Processed  3700 cunks of text out of 5824\n",
      "Processed  3800 cunks of text out of 5824\n",
      "Processed  3900 cunks of text out of 5824\n",
      "Processed  4000 cunks of text out of 5824\n",
      "Processed  4100 cunks of text out of 5824\n",
      "Processed  4200 cunks of text out of 5824\n",
      "Processed  4300 cunks of text out of 5824\n",
      "Processed  4400 cunks of text out of 5824\n",
      "Processed  4500 cunks of text out of 5824\n",
      "Processed  4600 cunks of text out of 5824\n",
      "Processed  4700 cunks of text out of 5824\n",
      "Processed  4800 cunks of text out of 5824\n",
      "Processed  4900 cunks of text out of 5824\n",
      "Processed  5000 cunks of text out of 5824\n",
      "Processed  5100 cunks of text out of 5824\n",
      "Processed  5200 cunks of text out of 5824\n",
      "Processed  5300 cunks of text out of 5824\n",
      "Processed  5400 cunks of text out of 5824\n",
      "Processed  5500 cunks of text out of 5824\n",
      "Processed  5600 cunks of text out of 5824\n",
      "Processed  5700 cunks of text out of 5824\n",
      "Processed  5800 cunks of text out of 5824\n",
      "Embedding Processing took 103.97993540763855 seconds\n",
      "Creating embeddings for column conversations\n",
      "Processing 5824 chunks of text in batches\n",
      "Processed  0 cunks of text out of 5824\n",
      "Processed  100 cunks of text out of 5824\n",
      "Processed  200 cunks of text out of 5824\n",
      "Processed  300 cunks of text out of 5824\n",
      "Processed  400 cunks of text out of 5824\n",
      "Processed  500 cunks of text out of 5824\n",
      "Processed  600 cunks of text out of 5824\n",
      "Processed  700 cunks of text out of 5824\n",
      "Processed  800 cunks of text out of 5824\n",
      "Processed  900 cunks of text out of 5824\n",
      "Processed  1000 cunks of text out of 5824\n",
      "Processed  1100 cunks of text out of 5824\n",
      "Processed  1200 cunks of text out of 5824\n",
      "Processed  1300 cunks of text out of 5824\n",
      "Processed  1400 cunks of text out of 5824\n",
      "Processed  1500 cunks of text out of 5824\n",
      "Processed  1600 cunks of text out of 5824\n",
      "Processed  1700 cunks of text out of 5824\n",
      "Processed  1800 cunks of text out of 5824\n",
      "Processed  1900 cunks of text out of 5824\n",
      "Processed  2000 cunks of text out of 5824\n",
      "Processed  2100 cunks of text out of 5824\n",
      "Processed  2200 cunks of text out of 5824\n",
      "Processed  2300 cunks of text out of 5824\n",
      "Processed  2400 cunks of text out of 5824\n",
      "Processed  2500 cunks of text out of 5824\n",
      "Processed  2600 cunks of text out of 5824\n",
      "Processed  2700 cunks of text out of 5824\n",
      "Processed  2800 cunks of text out of 5824\n",
      "Processed  2900 cunks of text out of 5824\n",
      "Processed  3000 cunks of text out of 5824\n",
      "Processed  3100 cunks of text out of 5824\n",
      "Processed  3200 cunks of text out of 5824\n",
      "Processed  3300 cunks of text out of 5824\n",
      "Processed  3400 cunks of text out of 5824\n",
      "Processed  3500 cunks of text out of 5824\n",
      "Processed  3600 cunks of text out of 5824\n",
      "Processed  3700 cunks of text out of 5824\n",
      "Processed  3800 cunks of text out of 5824\n",
      "Processed  3900 cunks of text out of 5824\n",
      "Processed  4000 cunks of text out of 5824\n",
      "Processed  4100 cunks of text out of 5824\n",
      "Processed  4200 cunks of text out of 5824\n",
      "Processed  4300 cunks of text out of 5824\n",
      "Processed  4400 cunks of text out of 5824\n",
      "Processed  4500 cunks of text out of 5824\n",
      "Processed  4600 cunks of text out of 5824\n",
      "Processed  4700 cunks of text out of 5824\n",
      "Processed  4800 cunks of text out of 5824\n",
      "Processed  4900 cunks of text out of 5824\n",
      "Processed  5000 cunks of text out of 5824\n",
      "Processed  5100 cunks of text out of 5824\n",
      "Processed  5200 cunks of text out of 5824\n",
      "Processed  5300 cunks of text out of 5824\n",
      "Processed  5400 cunks of text out of 5824\n",
      "Processed  5500 cunks of text out of 5824\n",
      "Processed  5600 cunks of text out of 5824\n",
      "Processed  5700 cunks of text out of 5824\n",
      "Processed  5800 cunks of text out of 5824\n",
      "Embedding Processing took 198.64915227890015 seconds\n"
     ]
    }
   ],
   "source": [
    "#check if the embedded df already exist at dataset_path+\"_embedded.parquet\"\n",
    "if not os.path.exists(dataset_path+\"_embedded_small_large.parquet\"):\n",
    "    embedded_df = cf.embed_columns(df, [\"conversations\"],models=[\"text-embedding-3-small\",\"text-embedding-3-large\"])\n",
    "    embedded_df.write_parquet(dataset_path+\"_embedded.parquet\")\n",
    "else:\n",
    "    embedded_df = pl.read_parquet(dataset_path+\"_embedded_small_large.parquet\")"
   ]
  },
  {
   "cell_type": "code",
   "execution_count": 8,
   "metadata": {},
   "outputs": [
    {
     "data": {
      "text/html": [
       "<div><style>\n",
       ".dataframe > thead > tr,\n",
       ".dataframe > tbody > tr {\n",
       "  text-align: right;\n",
       "  white-space: pre-wrap;\n",
       "}\n",
       "</style>\n",
       "<small>shape: (2, 2)</small><table border=\"1\" class=\"dataframe\"><thead><tr><th>target</th><th>count</th></tr><tr><td>bool</td><td>u32</td></tr></thead><tbody><tr><td>false</td><td>3136</td></tr><tr><td>true</td><td>2688</td></tr></tbody></table></div>"
      ],
      "text/plain": [
       "shape: (2, 2)\n",
       "┌────────┬───────┐\n",
       "│ target ┆ count │\n",
       "│ ---    ┆ ---   │\n",
       "│ bool   ┆ u32   │\n",
       "╞════════╪═══════╡\n",
       "│ false  ┆ 3136  │\n",
       "│ true   ┆ 2688  │\n",
       "└────────┴───────┘"
      ]
     },
     "execution_count": 8,
     "metadata": {},
     "output_type": "execute_result"
    }
   ],
   "source": [
    "df[\"target\"].value_counts()"
   ]
  },
  {
   "cell_type": "code",
   "execution_count": 9,
   "metadata": {},
   "outputs": [
    {
     "data": {
      "text/html": [
       "<div><style>\n",
       ".dataframe > thead > tr,\n",
       ".dataframe > tbody > tr {\n",
       "  text-align: right;\n",
       "  white-space: pre-wrap;\n",
       "}\n",
       "</style>\n",
       "<small>shape: (5_824, 6)</small><table border=\"1\" class=\"dataframe\"><thead><tr><th>cv_index</th><th>fold_0</th><th>fold_1</th><th>fold_2</th><th>fold_3</th><th>fold_4</th></tr><tr><td>u32</td><td>str</td><td>str</td><td>str</td><td>str</td><td>str</td></tr></thead><tbody><tr><td>4545</td><td>&quot;test&quot;</td><td>&quot;train&quot;</td><td>&quot;train&quot;</td><td>&quot;train&quot;</td><td>&quot;train&quot;</td></tr><tr><td>1088</td><td>&quot;test&quot;</td><td>&quot;train&quot;</td><td>&quot;train&quot;</td><td>&quot;train&quot;</td><td>&quot;train&quot;</td></tr><tr><td>4574</td><td>&quot;test&quot;</td><td>&quot;train&quot;</td><td>&quot;train&quot;</td><td>&quot;train&quot;</td><td>&quot;train&quot;</td></tr><tr><td>5418</td><td>&quot;test&quot;</td><td>&quot;train&quot;</td><td>&quot;train&quot;</td><td>&quot;train&quot;</td><td>&quot;train&quot;</td></tr><tr><td>4749</td><td>&quot;test&quot;</td><td>&quot;train&quot;</td><td>&quot;train&quot;</td><td>&quot;train&quot;</td><td>&quot;train&quot;</td></tr><tr><td>5640</td><td>&quot;test&quot;</td><td>&quot;train&quot;</td><td>&quot;train&quot;</td><td>&quot;train&quot;</td><td>&quot;train&quot;</td></tr><tr><td>2049</td><td>&quot;test&quot;</td><td>&quot;train&quot;</td><td>&quot;train&quot;</td><td>&quot;train&quot;</td><td>&quot;train&quot;</td></tr><tr><td>3642</td><td>&quot;test&quot;</td><td>&quot;train&quot;</td><td>&quot;train&quot;</td><td>&quot;train&quot;</td><td>&quot;train&quot;</td></tr><tr><td>366</td><td>&quot;test&quot;</td><td>&quot;train&quot;</td><td>&quot;train&quot;</td><td>&quot;train&quot;</td><td>&quot;train&quot;</td></tr><tr><td>3989</td><td>&quot;test&quot;</td><td>&quot;train&quot;</td><td>&quot;train&quot;</td><td>&quot;train&quot;</td><td>&quot;train&quot;</td></tr><tr><td>341</td><td>&quot;test&quot;</td><td>&quot;train&quot;</td><td>&quot;train&quot;</td><td>&quot;train&quot;</td><td>&quot;train&quot;</td></tr><tr><td>3795</td><td>&quot;test&quot;</td><td>&quot;train&quot;</td><td>&quot;train&quot;</td><td>&quot;train&quot;</td><td>&quot;train&quot;</td></tr><tr><td>&hellip;</td><td>&hellip;</td><td>&hellip;</td><td>&hellip;</td><td>&hellip;</td><td>&hellip;</td></tr><tr><td>1506</td><td>&quot;train&quot;</td><td>&quot;train&quot;</td><td>&quot;train&quot;</td><td>&quot;train&quot;</td><td>&quot;test&quot;</td></tr><tr><td>5784</td><td>&quot;train&quot;</td><td>&quot;train&quot;</td><td>&quot;train&quot;</td><td>&quot;train&quot;</td><td>&quot;test&quot;</td></tr><tr><td>4856</td><td>&quot;train&quot;</td><td>&quot;train&quot;</td><td>&quot;train&quot;</td><td>&quot;train&quot;</td><td>&quot;test&quot;</td></tr><tr><td>3796</td><td>&quot;train&quot;</td><td>&quot;train&quot;</td><td>&quot;train&quot;</td><td>&quot;train&quot;</td><td>&quot;test&quot;</td></tr><tr><td>2023</td><td>&quot;train&quot;</td><td>&quot;train&quot;</td><td>&quot;train&quot;</td><td>&quot;train&quot;</td><td>&quot;test&quot;</td></tr><tr><td>641</td><td>&quot;train&quot;</td><td>&quot;train&quot;</td><td>&quot;train&quot;</td><td>&quot;train&quot;</td><td>&quot;test&quot;</td></tr><tr><td>5786</td><td>&quot;train&quot;</td><td>&quot;train&quot;</td><td>&quot;train&quot;</td><td>&quot;train&quot;</td><td>&quot;test&quot;</td></tr><tr><td>1358</td><td>&quot;train&quot;</td><td>&quot;train&quot;</td><td>&quot;train&quot;</td><td>&quot;train&quot;</td><td>&quot;test&quot;</td></tr><tr><td>2128</td><td>&quot;train&quot;</td><td>&quot;train&quot;</td><td>&quot;train&quot;</td><td>&quot;train&quot;</td><td>&quot;test&quot;</td></tr><tr><td>2960</td><td>&quot;train&quot;</td><td>&quot;train&quot;</td><td>&quot;train&quot;</td><td>&quot;train&quot;</td><td>&quot;test&quot;</td></tr><tr><td>3283</td><td>&quot;train&quot;</td><td>&quot;train&quot;</td><td>&quot;train&quot;</td><td>&quot;train&quot;</td><td>&quot;test&quot;</td></tr><tr><td>2327</td><td>&quot;train&quot;</td><td>&quot;train&quot;</td><td>&quot;train&quot;</td><td>&quot;train&quot;</td><td>&quot;test&quot;</td></tr></tbody></table></div>"
      ],
      "text/plain": [
       "shape: (5_824, 6)\n",
       "┌──────────┬────────┬────────┬────────┬────────┬────────┐\n",
       "│ cv_index ┆ fold_0 ┆ fold_1 ┆ fold_2 ┆ fold_3 ┆ fold_4 │\n",
       "│ ---      ┆ ---    ┆ ---    ┆ ---    ┆ ---    ┆ ---    │\n",
       "│ u32      ┆ str    ┆ str    ┆ str    ┆ str    ┆ str    │\n",
       "╞══════════╪════════╪════════╪════════╪════════╪════════╡\n",
       "│ 4545     ┆ test   ┆ train  ┆ train  ┆ train  ┆ train  │\n",
       "│ 1088     ┆ test   ┆ train  ┆ train  ┆ train  ┆ train  │\n",
       "│ 4574     ┆ test   ┆ train  ┆ train  ┆ train  ┆ train  │\n",
       "│ 5418     ┆ test   ┆ train  ┆ train  ┆ train  ┆ train  │\n",
       "│ 4749     ┆ test   ┆ train  ┆ train  ┆ train  ┆ train  │\n",
       "│ …        ┆ …      ┆ …      ┆ …      ┆ …      ┆ …      │\n",
       "│ 1358     ┆ train  ┆ train  ┆ train  ┆ train  ┆ test   │\n",
       "│ 2128     ┆ train  ┆ train  ┆ train  ┆ train  ┆ test   │\n",
       "│ 2960     ┆ train  ┆ train  ┆ train  ┆ train  ┆ test   │\n",
       "│ 3283     ┆ train  ┆ train  ┆ train  ┆ train  ┆ test   │\n",
       "│ 2327     ┆ train  ┆ train  ┆ train  ┆ train  ┆ test   │\n",
       "└──────────┴────────┴────────┴────────┴────────┴────────┘"
      ]
     },
     "execution_count": 9,
     "metadata": {},
     "output_type": "execute_result"
    }
   ],
   "source": [
    "cf.vanilla_kfold(embedded_df,group=None,k=5)"
   ]
  },
  {
   "cell_type": "markdown",
   "metadata": {},
   "source": [
    "df:pl.DataFrame, cv_type: Tuple[str,str], group_outer:List[str],k_outer:int,group_inner:List[str],k_inner:int,r_outer:int =1, r_inner:int =1):"
   ]
  },
  {
   "cell_type": "code",
   "execution_count": 16,
   "metadata": {},
   "outputs": [],
   "source": [
    "models_dict = {\"RandomForest\": [{\"n_estimators\": 10, \"max_depth\": 5},{\"n_estimators\": 50, \"max_depth\": 10}]}\n",
    "inputs =[{\"numerical\":[\"conversations_text-embedding-3-small_embeddings\"]},\n",
    "         {\"numerical\":[\"conversations_text-embedding-3-large_embeddings\"]},\n",
    "         {\"numerical\":[\"conversations_text-embedding-3-small_embeddings\",\"conversations_text-embedding-3-large_embeddings\"]}]"
   ]
  },
  {
   "cell_type": "code",
   "execution_count": 17,
   "metadata": {},
   "outputs": [
    {
     "name": "stdout",
     "output_type": "stream",
     "text": [
      "cv_type: stratified\n",
      "cv_type: stratified\n",
      "['target', 'cv_index', 'outer_stratified_target_replica_0_fold_0', 'outer_stratified_target_replica_0_fold_1', 'outer_stratified_target_replica_0_fold_0_inner_stratified_target_replica_0_fold_0', 'outer_stratified_target_replica_0_fold_0_inner_stratified_target_replica_0_fold_1', 'outer_stratified_target_replica_0_fold_1_inner_stratified_target_replica_0_fold_0', 'outer_stratified_target_replica_0_fold_1_inner_stratified_target_replica_0_fold_1']\n",
      "Accuracy Test: 0.8526785714285714\n",
      "Accuracy Val: 0.8756868131868132\n",
      "MCC Test: 0.7032592110128256\n",
      "MCC Val: 0.749661323711889\n",
      "Total CLS time: 00:00:00\n",
      "Accuracy Test: 0.9234203296703297\n",
      "Accuracy Val: 0.9230769230769231\n",
      "MCC Test: 0.8462546307685739\n",
      "MCC Val: 0.8454744360830863\n",
      "Total CLS time: 00:00:01\n",
      "Accuracy Test: 0.8945741758241759\n",
      "Accuracy Val: 0.8907967032967034\n",
      "MCC Test: 0.7879325008361916\n",
      "MCC Val: 0.7801434338503428\n",
      "Total CLS time: 00:00:00\n",
      "Accuracy Test: 0.9429945054945055\n",
      "Accuracy Val: 0.9429945054945055\n",
      "MCC Test: 0.88542832808677\n",
      "MCC Val: 0.8853180216606523\n",
      "Total CLS time: 00:00:02\n",
      "Accuracy Test: 0.8873626373626373\n",
      "Accuracy Val: 0.8914835164835165\n",
      "MCC Test: 0.7736839101348802\n",
      "MCC Val: 0.7816529626196066\n",
      "Total CLS time: 00:00:00\n",
      "Accuracy Test: 0.939217032967033\n",
      "Accuracy Val: 0.9313186813186813\n",
      "MCC Test: 0.8781786951894425\n",
      "MCC Val: 0.861855940603945\n",
      "Total CLS time: 00:00:02\n",
      "Accuracy Test: 0.8471840659340659\n",
      "Accuracy Val: 0.8379120879120879\n",
      "MCC Test: 0.6921548981827718\n",
      "MCC Val: 0.6734279978246749\n",
      "Total CLS time: 00:00:00\n",
      "Accuracy Test: 0.9127747252747253\n",
      "Accuracy Val: 0.9134615384615384\n",
      "MCC Test: 0.8248660469267122\n",
      "MCC Val: 0.8259465339173713\n",
      "Total CLS time: 00:00:01\n",
      "Accuracy Test: 0.8739697802197802\n",
      "Accuracy Val: 0.8708791208791209\n",
      "MCC Test: 0.7463388828684567\n",
      "MCC Val: 0.7401020421513239\n",
      "Total CLS time: 00:00:00\n",
      "Accuracy Test: 0.9375\n",
      "Accuracy Val: 0.9436813186813187\n",
      "MCC Test: 0.8751804584785353\n",
      "MCC Val: 0.8874668956159635\n",
      "Total CLS time: 00:00:02\n",
      "Accuracy Test: 0.8671016483516484\n",
      "Accuracy Val: 0.8763736263736264\n",
      "MCC Test: 0.7324384010941732\n",
      "MCC Val: 0.7510737980173203\n",
      "Total CLS time: 00:00:00\n",
      "Accuracy Test: 0.9378434065934066\n",
      "Accuracy Val: 0.9361263736263736\n",
      "MCC Test: 0.8754451512026912\n",
      "MCC Val: 0.8717328913825476\n",
      "Total CLS time: 00:00:02\n",
      "Accuracy Test: 0.8664148351648352\n",
      "Accuracy Val: 0.8701923076923077\n",
      "MCC Test: 0.7316807580508752\n",
      "MCC Val: 0.7390280074469375\n",
      "Total CLS time: 00:00:00\n",
      "Accuracy Test: 0.917239010989011\n",
      "Accuracy Val: 0.9100274725274725\n",
      "MCC Test: 0.8335846497355831\n",
      "MCC Val: 0.8191422654095373\n",
      "Total CLS time: 00:00:01\n",
      "Accuracy Test: 0.8980082417582418\n",
      "Accuracy Val: 0.8976648351648352\n",
      "MCC Test: 0.7946455614277311\n",
      "MCC Val: 0.7939866447094892\n",
      "Total CLS time: 00:00:00\n",
      "Accuracy Test: 0.9423076923076923\n",
      "Accuracy Val: 0.9423076923076923\n",
      "MCC Test: 0.883980594533454\n",
      "MCC Val: 0.8841808840618554\n",
      "Total CLS time: 00:00:02\n",
      "Accuracy Test: 0.8832417582417582\n",
      "Accuracy Val: 0.8804945054945055\n",
      "MCC Test: 0.7652369797191466\n",
      "MCC Val: 0.7595904149266836\n",
      "Total CLS time: 00:00:00\n",
      "Accuracy Test: 0.9326923076923077\n",
      "Accuracy Val: 0.9320054945054945\n",
      "MCC Test: 0.8645437905629924\n",
      "MCC Val: 0.8636246792092195\n",
      "Total CLS time: 00:00:03\n",
      "Accuracy Test: 0.8791208791208791\n",
      "Accuracy Val: 0.864010989010989\n",
      "MCC Test: 0.7566793425686797\n",
      "MCC Val: 0.7264115451529038\n",
      "Total CLS time: 00:00:00\n",
      "Accuracy Test: 0.9196428571428571\n",
      "Accuracy Val: 0.9306318681318682\n",
      "MCC Test: 0.8385373194022732\n",
      "MCC Val: 0.8603709500973639\n",
      "Total CLS time: 00:00:01\n",
      "Accuracy Test: 0.8828983516483516\n",
      "Accuracy Val: 0.8853021978021978\n",
      "MCC Test: 0.7645586360768274\n",
      "MCC Val: 0.7690638209979476\n",
      "Total CLS time: 00:00:00\n",
      "Accuracy Test: 0.9340659340659341\n",
      "Accuracy Val: 0.9519230769230769\n",
      "MCC Test: 0.8673470104131245\n",
      "MCC Val: 0.9032467735179279\n",
      "Total CLS time: 00:00:02\n",
      "Accuracy Test: 0.8873626373626373\n",
      "Accuracy Val: 0.8743131868131868\n",
      "MCC Test: 0.7732388162459717\n",
      "MCC Val: 0.7470225340934347\n",
      "Total CLS time: 00:00:00\n",
      "Accuracy Test: 0.9388736263736264\n",
      "Accuracy Val: 0.9326923076923077\n",
      "MCC Test: 0.877074243657331\n",
      "MCC Val: 0.8646264962982702\n",
      "Total CLS time: 00:00:02\n",
      "Saving results to ..\\data_processed\\results_2024-02-16_18-31-41_test.parquet\n"
     ]
    }
   ],
   "source": [
    "results,pred=cf.train_nested_cv(df = embedded_df,\n",
    "                     cv_type=(\"stratified\",\"stratified\"),\n",
    "                     inputs=inputs,\n",
    "                     models=models_dict,\n",
    "                     group_outer=[\"target\"],\n",
    "                     k_outer = 2,\n",
    "                     group_inner=[\"target\"],\n",
    "                     k_inner = 2,\n",
    "                     r_outer=1,\n",
    "                     r_inner=1,\n",
    "                     save_name=\"test\")\n"
   ]
  },
  {
   "cell_type": "code",
   "execution_count": 18,
   "metadata": {},
   "outputs": [
    {
     "data": {
      "text/html": [
       "<div><style>\n",
       ".dataframe > thead > tr,\n",
       ".dataframe > tbody > tr {\n",
       "  text-align: right;\n",
       "  white-space: pre-wrap;\n",
       "}\n",
       "</style>\n",
       "<small>shape: (24, 22)</small><table border=\"1\" class=\"dataframe\"><thead><tr><th>classifier</th><th>classifier_hp</th><th>fold_name</th><th>pred_name</th><th>input_features_name</th><th>accuracy_train</th><th>accuracy_val</th><th>accuracy_test</th><th>mcc_train</th><th>mcc_val</th><th>mcc_test</th><th>train_index</th><th>val_index</th><th>test_index</th><th>train_time</th><th>pred_time</th><th>eval_time</th><th>total_cls_time</th><th>k_outer</th><th>k_inner</th><th>r_outer</th><th>r_inner</th></tr><tr><td>str</td><td>str</td><td>str</td><td>str</td><td>str</td><td>f64</td><td>f64</td><td>f64</td><td>f64</td><td>f64</td><td>f64</td><td>list[u32]</td><td>list[u32]</td><td>list[u32]</td><td>str</td><td>str</td><td>str</td><td>str</td><td>i64</td><td>i64</td><td>i64</td><td>i64</td></tr></thead><tbody><tr><td>&quot;RandomForest&quot;</td><td>&quot;n_estimators_1…</td><td>&quot;outer_stratifi…</td><td>&quot;outer_stratifi…</td><td>&quot;conversations_…</td><td>0.946429</td><td>0.875687</td><td>0.852679</td><td>0.892332</td><td>0.749661</td><td>0.703259</td><td>[9, 10, … 5821]</td><td>[2, 4, … 5819]</td><td>[0, 1, … 5823]</td><td>&quot;00:00:00&quot;</td><td>&quot;00:00:00&quot;</td><td>&quot;00:00:00&quot;</td><td>&quot;00:00:00&quot;</td><td>0</td><td>0</td><td>0</td><td>0</td></tr><tr><td>&quot;RandomForest&quot;</td><td>&quot;n_estimators_5…</td><td>&quot;outer_stratifi…</td><td>&quot;outer_stratifi…</td><td>&quot;conversations_…</td><td>1.0</td><td>0.923077</td><td>0.92342</td><td>1.0</td><td>0.845474</td><td>0.846255</td><td>[9, 10, … 5821]</td><td>[2, 4, … 5819]</td><td>[0, 1, … 5823]</td><td>&quot;00:00:01&quot;</td><td>&quot;00:00:00&quot;</td><td>&quot;00:00:00&quot;</td><td>&quot;00:00:01&quot;</td><td>0</td><td>0</td><td>0</td><td>0</td></tr><tr><td>&quot;RandomForest&quot;</td><td>&quot;n_estimators_1…</td><td>&quot;outer_stratifi…</td><td>&quot;outer_stratifi…</td><td>&quot;conversations_…</td><td>0.959478</td><td>0.890797</td><td>0.894574</td><td>0.918456</td><td>0.780143</td><td>0.787933</td><td>[9, 10, … 5821]</td><td>[2, 4, … 5819]</td><td>[0, 1, … 5823]</td><td>&quot;00:00:00&quot;</td><td>&quot;00:00:00&quot;</td><td>&quot;00:00:00&quot;</td><td>&quot;00:00:00&quot;</td><td>0</td><td>0</td><td>0</td><td>0</td></tr><tr><td>&quot;RandomForest&quot;</td><td>&quot;n_estimators_5…</td><td>&quot;outer_stratifi…</td><td>&quot;outer_stratifi…</td><td>&quot;conversations_…</td><td>0.999313</td><td>0.942995</td><td>0.942995</td><td>0.998619</td><td>0.885318</td><td>0.885428</td><td>[9, 10, … 5821]</td><td>[2, 4, … 5819]</td><td>[0, 1, … 5823]</td><td>&quot;00:00:02&quot;</td><td>&quot;00:00:00&quot;</td><td>&quot;00:00:00&quot;</td><td>&quot;00:00:02&quot;</td><td>0</td><td>0</td><td>0</td><td>0</td></tr><tr><td>&quot;RandomForest&quot;</td><td>&quot;n_estimators_1…</td><td>&quot;outer_stratifi…</td><td>&quot;outer_stratifi…</td><td>&quot;conversations_…</td><td>0.967033</td><td>0.891484</td><td>0.887363</td><td>0.933691</td><td>0.781653</td><td>0.773684</td><td>[9, 10, … 5821]</td><td>[2, 4, … 5819]</td><td>[0, 1, … 5823]</td><td>&quot;00:00:00&quot;</td><td>&quot;00:00:00&quot;</td><td>&quot;00:00:00&quot;</td><td>&quot;00:00:00&quot;</td><td>0</td><td>0</td><td>0</td><td>0</td></tr><tr><td>&quot;RandomForest&quot;</td><td>&quot;n_estimators_5…</td><td>&quot;outer_stratifi…</td><td>&quot;outer_stratifi…</td><td>&quot;conversations_…</td><td>1.0</td><td>0.931319</td><td>0.939217</td><td>1.0</td><td>0.861856</td><td>0.878179</td><td>[9, 10, … 5821]</td><td>[2, 4, … 5819]</td><td>[0, 1, … 5823]</td><td>&quot;00:00:02&quot;</td><td>&quot;00:00:00&quot;</td><td>&quot;00:00:00&quot;</td><td>&quot;00:00:02&quot;</td><td>0</td><td>0</td><td>0</td><td>0</td></tr><tr><td>&quot;RandomForest&quot;</td><td>&quot;n_estimators_1…</td><td>&quot;outer_stratifi…</td><td>&quot;outer_stratifi…</td><td>&quot;conversations_…</td><td>0.945055</td><td>0.837912</td><td>0.847184</td><td>0.889422</td><td>0.673428</td><td>0.692155</td><td>[2, 4, … 5819]</td><td>[9, 10, … 5821]</td><td>[0, 1, … 5823]</td><td>&quot;00:00:00&quot;</td><td>&quot;00:00:00&quot;</td><td>&quot;00:00:00&quot;</td><td>&quot;00:00:00&quot;</td><td>0</td><td>1</td><td>0</td><td>0</td></tr><tr><td>&quot;RandomForest&quot;</td><td>&quot;n_estimators_5…</td><td>&quot;outer_stratifi…</td><td>&quot;outer_stratifi…</td><td>&quot;conversations_…</td><td>0.998626</td><td>0.913462</td><td>0.912775</td><td>0.997241</td><td>0.825947</td><td>0.824866</td><td>[2, 4, … 5819]</td><td>[9, 10, … 5821]</td><td>[0, 1, … 5823]</td><td>&quot;00:00:01&quot;</td><td>&quot;00:00:00&quot;</td><td>&quot;00:00:00&quot;</td><td>&quot;00:00:01&quot;</td><td>0</td><td>1</td><td>0</td><td>0</td></tr><tr><td>&quot;RandomForest&quot;</td><td>&quot;n_estimators_1…</td><td>&quot;outer_stratifi…</td><td>&quot;outer_stratifi…</td><td>&quot;conversations_…</td><td>0.956731</td><td>0.870879</td><td>0.87397</td><td>0.912982</td><td>0.740102</td><td>0.746339</td><td>[2, 4, … 5819]</td><td>[9, 10, … 5821]</td><td>[0, 1, … 5823]</td><td>&quot;00:00:00&quot;</td><td>&quot;00:00:00&quot;</td><td>&quot;00:00:00&quot;</td><td>&quot;00:00:00&quot;</td><td>0</td><td>1</td><td>0</td><td>0</td></tr><tr><td>&quot;RandomForest&quot;</td><td>&quot;n_estimators_5…</td><td>&quot;outer_stratifi…</td><td>&quot;outer_stratifi…</td><td>&quot;conversations_…</td><td>1.0</td><td>0.943681</td><td>0.9375</td><td>1.0</td><td>0.887467</td><td>0.87518</td><td>[2, 4, … 5819]</td><td>[9, 10, … 5821]</td><td>[0, 1, … 5823]</td><td>&quot;00:00:02&quot;</td><td>&quot;00:00:00&quot;</td><td>&quot;00:00:00&quot;</td><td>&quot;00:00:02&quot;</td><td>0</td><td>1</td><td>0</td><td>0</td></tr><tr><td>&quot;RandomForest&quot;</td><td>&quot;n_estimators_1…</td><td>&quot;outer_stratifi…</td><td>&quot;outer_stratifi…</td><td>&quot;conversations_…</td><td>0.966346</td><td>0.876374</td><td>0.867102</td><td>0.932299</td><td>0.751074</td><td>0.732438</td><td>[2, 4, … 5819]</td><td>[9, 10, … 5821]</td><td>[0, 1, … 5823]</td><td>&quot;00:00:00&quot;</td><td>&quot;00:00:00&quot;</td><td>&quot;00:00:00&quot;</td><td>&quot;00:00:00&quot;</td><td>0</td><td>1</td><td>0</td><td>0</td></tr><tr><td>&quot;RandomForest&quot;</td><td>&quot;n_estimators_5…</td><td>&quot;outer_stratifi…</td><td>&quot;outer_stratifi…</td><td>&quot;conversations_…</td><td>1.0</td><td>0.936126</td><td>0.937843</td><td>1.0</td><td>0.871733</td><td>0.875445</td><td>[2, 4, … 5819]</td><td>[9, 10, … 5821]</td><td>[0, 1, … 5823]</td><td>&quot;00:00:02&quot;</td><td>&quot;00:00:00&quot;</td><td>&quot;00:00:00&quot;</td><td>&quot;00:00:02&quot;</td><td>0</td><td>1</td><td>0</td><td>0</td></tr><tr><td>&quot;RandomForest&quot;</td><td>&quot;n_estimators_1…</td><td>&quot;outer_stratifi…</td><td>&quot;outer_stratifi…</td><td>&quot;conversations_…</td><td>0.949863</td><td>0.870192</td><td>0.866415</td><td>0.899195</td><td>0.739028</td><td>0.731681</td><td>[0, 1, … 5822]</td><td>[6, 18, … 5823]</td><td>[2, 4, … 5821]</td><td>&quot;00:00:00&quot;</td><td>&quot;00:00:00&quot;</td><td>&quot;00:00:00&quot;</td><td>&quot;00:00:00&quot;</td><td>1</td><td>0</td><td>0</td><td>0</td></tr><tr><td>&quot;RandomForest&quot;</td><td>&quot;n_estimators_5…</td><td>&quot;outer_stratifi…</td><td>&quot;outer_stratifi…</td><td>&quot;conversations_…</td><td>1.0</td><td>0.910027</td><td>0.917239</td><td>1.0</td><td>0.819142</td><td>0.833585</td><td>[0, 1, … 5822]</td><td>[6, 18, … 5823]</td><td>[2, 4, … 5821]</td><td>&quot;00:00:01&quot;</td><td>&quot;00:00:00&quot;</td><td>&quot;00:00:00&quot;</td><td>&quot;00:00:01&quot;</td><td>1</td><td>0</td><td>0</td><td>0</td></tr><tr><td>&quot;RandomForest&quot;</td><td>&quot;n_estimators_1…</td><td>&quot;outer_stratifi…</td><td>&quot;outer_stratifi…</td><td>&quot;conversations_…</td><td>0.974588</td><td>0.897665</td><td>0.898008</td><td>0.948995</td><td>0.793987</td><td>0.794646</td><td>[0, 1, … 5822]</td><td>[6, 18, … 5823]</td><td>[2, 4, … 5821]</td><td>&quot;00:00:00&quot;</td><td>&quot;00:00:00&quot;</td><td>&quot;00:00:00&quot;</td><td>&quot;00:00:00&quot;</td><td>1</td><td>0</td><td>0</td><td>0</td></tr><tr><td>&quot;RandomForest&quot;</td><td>&quot;n_estimators_5…</td><td>&quot;outer_stratifi…</td><td>&quot;outer_stratifi…</td><td>&quot;conversations_…</td><td>1.0</td><td>0.942308</td><td>0.942308</td><td>1.0</td><td>0.884181</td><td>0.883981</td><td>[0, 1, … 5822]</td><td>[6, 18, … 5823]</td><td>[2, 4, … 5821]</td><td>&quot;00:00:02&quot;</td><td>&quot;00:00:00&quot;</td><td>&quot;00:00:00&quot;</td><td>&quot;00:00:02&quot;</td><td>1</td><td>0</td><td>0</td><td>0</td></tr><tr><td>&quot;RandomForest&quot;</td><td>&quot;n_estimators_1…</td><td>&quot;outer_stratifi…</td><td>&quot;outer_stratifi…</td><td>&quot;conversations_…</td><td>0.967033</td><td>0.880495</td><td>0.883242</td><td>0.933717</td><td>0.75959</td><td>0.765237</td><td>[0, 1, … 5822]</td><td>[6, 18, … 5823]</td><td>[2, 4, … 5821]</td><td>&quot;00:00:00&quot;</td><td>&quot;00:00:00&quot;</td><td>&quot;00:00:00&quot;</td><td>&quot;00:00:00&quot;</td><td>1</td><td>0</td><td>0</td><td>0</td></tr><tr><td>&quot;RandomForest&quot;</td><td>&quot;n_estimators_5…</td><td>&quot;outer_stratifi…</td><td>&quot;outer_stratifi…</td><td>&quot;conversations_…</td><td>1.0</td><td>0.932005</td><td>0.932692</td><td>1.0</td><td>0.863625</td><td>0.864544</td><td>[0, 1, … 5822]</td><td>[6, 18, … 5823]</td><td>[2, 4, … 5821]</td><td>&quot;00:00:02&quot;</td><td>&quot;00:00:00&quot;</td><td>&quot;00:00:00&quot;</td><td>&quot;00:00:03&quot;</td><td>1</td><td>0</td><td>0</td><td>0</td></tr><tr><td>&quot;RandomForest&quot;</td><td>&quot;n_estimators_1…</td><td>&quot;outer_stratifi…</td><td>&quot;outer_stratifi…</td><td>&quot;conversations_…</td><td>0.959478</td><td>0.864011</td><td>0.879121</td><td>0.918509</td><td>0.726412</td><td>0.756679</td><td>[6, 18, … 5823]</td><td>[0, 1, … 5822]</td><td>[2, 4, … 5821]</td><td>&quot;00:00:00&quot;</td><td>&quot;00:00:00&quot;</td><td>&quot;00:00:00&quot;</td><td>&quot;00:00:00&quot;</td><td>1</td><td>1</td><td>0</td><td>0</td></tr><tr><td>&quot;RandomForest&quot;</td><td>&quot;n_estimators_5…</td><td>&quot;outer_stratifi…</td><td>&quot;outer_stratifi…</td><td>&quot;conversations_…</td><td>0.999313</td><td>0.930632</td><td>0.919643</td><td>0.998619</td><td>0.860371</td><td>0.838537</td><td>[6, 18, … 5823]</td><td>[0, 1, … 5822]</td><td>[2, 4, … 5821]</td><td>&quot;00:00:01&quot;</td><td>&quot;00:00:00&quot;</td><td>&quot;00:00:00&quot;</td><td>&quot;00:00:01&quot;</td><td>1</td><td>1</td><td>0</td><td>0</td></tr><tr><td>&quot;RandomForest&quot;</td><td>&quot;n_estimators_1…</td><td>&quot;outer_stratifi…</td><td>&quot;outer_stratifi…</td><td>&quot;conversations_…</td><td>0.961538</td><td>0.885302</td><td>0.882898</td><td>0.92261</td><td>0.769064</td><td>0.764559</td><td>[6, 18, … 5823]</td><td>[0, 1, … 5822]</td><td>[2, 4, … 5821]</td><td>&quot;00:00:00&quot;</td><td>&quot;00:00:00&quot;</td><td>&quot;00:00:00&quot;</td><td>&quot;00:00:00&quot;</td><td>1</td><td>1</td><td>0</td><td>0</td></tr><tr><td>&quot;RandomForest&quot;</td><td>&quot;n_estimators_5…</td><td>&quot;outer_stratifi…</td><td>&quot;outer_stratifi…</td><td>&quot;conversations_…</td><td>1.0</td><td>0.951923</td><td>0.934066</td><td>1.0</td><td>0.903247</td><td>0.867347</td><td>[6, 18, … 5823]</td><td>[0, 1, … 5822]</td><td>[2, 4, … 5821]</td><td>&quot;00:00:02&quot;</td><td>&quot;00:00:00&quot;</td><td>&quot;00:00:00&quot;</td><td>&quot;00:00:02&quot;</td><td>1</td><td>1</td><td>0</td><td>0</td></tr><tr><td>&quot;RandomForest&quot;</td><td>&quot;n_estimators_1…</td><td>&quot;outer_stratifi…</td><td>&quot;outer_stratifi…</td><td>&quot;conversations_…</td><td>0.965659</td><td>0.874313</td><td>0.887363</td><td>0.93091</td><td>0.747023</td><td>0.773239</td><td>[6, 18, … 5823]</td><td>[0, 1, … 5822]</td><td>[2, 4, … 5821]</td><td>&quot;00:00:00&quot;</td><td>&quot;00:00:00&quot;</td><td>&quot;00:00:00&quot;</td><td>&quot;00:00:00&quot;</td><td>1</td><td>1</td><td>0</td><td>0</td></tr><tr><td>&quot;RandomForest&quot;</td><td>&quot;n_estimators_5…</td><td>&quot;outer_stratifi…</td><td>&quot;outer_stratifi…</td><td>&quot;conversations_…</td><td>1.0</td><td>0.932692</td><td>0.938874</td><td>1.0</td><td>0.864626</td><td>0.877074</td><td>[6, 18, … 5823]</td><td>[0, 1, … 5822]</td><td>[2, 4, … 5821]</td><td>&quot;00:00:02&quot;</td><td>&quot;00:00:00&quot;</td><td>&quot;00:00:00&quot;</td><td>&quot;00:00:02&quot;</td><td>1</td><td>1</td><td>0</td><td>0</td></tr></tbody></table></div>"
      ],
      "text/plain": [
       "shape: (24, 22)\n",
       "┌─────────────┬─────────────┬─────────────┬────────────┬───┬─────────┬─────────┬─────────┬─────────┐\n",
       "│ classifier  ┆ classifier_ ┆ fold_name   ┆ pred_name  ┆ … ┆ k_outer ┆ k_inner ┆ r_outer ┆ r_inner │\n",
       "│ ---         ┆ hp          ┆ ---         ┆ ---        ┆   ┆ ---     ┆ ---     ┆ ---     ┆ ---     │\n",
       "│ str         ┆ ---         ┆ str         ┆ str        ┆   ┆ i64     ┆ i64     ┆ i64     ┆ i64     │\n",
       "│             ┆ str         ┆             ┆            ┆   ┆         ┆         ┆         ┆         │\n",
       "╞═════════════╪═════════════╪═════════════╪════════════╪═══╪═════════╪═════════╪═════════╪═════════╡\n",
       "│ RandomFores ┆ n_estimator ┆ outer_strat ┆ outer_stra ┆ … ┆ 0       ┆ 0       ┆ 0       ┆ 0       │\n",
       "│ t           ┆ s_10_max_de ┆ ified_targe ┆ tified_tar ┆   ┆         ┆         ┆         ┆         │\n",
       "│             ┆ pth_5       ┆ t_replica_… ┆ get_replic ┆   ┆         ┆         ┆         ┆         │\n",
       "│             ┆             ┆             ┆ a_…        ┆   ┆         ┆         ┆         ┆         │\n",
       "│ RandomFores ┆ n_estimator ┆ outer_strat ┆ outer_stra ┆ … ┆ 0       ┆ 0       ┆ 0       ┆ 0       │\n",
       "│ t           ┆ s_50_max_de ┆ ified_targe ┆ tified_tar ┆   ┆         ┆         ┆         ┆         │\n",
       "│             ┆ pth_10      ┆ t_replica_… ┆ get_replic ┆   ┆         ┆         ┆         ┆         │\n",
       "│             ┆             ┆             ┆ a_…        ┆   ┆         ┆         ┆         ┆         │\n",
       "│ RandomFores ┆ n_estimator ┆ outer_strat ┆ outer_stra ┆ … ┆ 0       ┆ 0       ┆ 0       ┆ 0       │\n",
       "│ t           ┆ s_10_max_de ┆ ified_targe ┆ tified_tar ┆   ┆         ┆         ┆         ┆         │\n",
       "│             ┆ pth_5       ┆ t_replica_… ┆ get_replic ┆   ┆         ┆         ┆         ┆         │\n",
       "│             ┆             ┆             ┆ a_…        ┆   ┆         ┆         ┆         ┆         │\n",
       "│ RandomFores ┆ n_estimator ┆ outer_strat ┆ outer_stra ┆ … ┆ 0       ┆ 0       ┆ 0       ┆ 0       │\n",
       "│ t           ┆ s_50_max_de ┆ ified_targe ┆ tified_tar ┆   ┆         ┆         ┆         ┆         │\n",
       "│             ┆ pth_10      ┆ t_replica_… ┆ get_replic ┆   ┆         ┆         ┆         ┆         │\n",
       "│             ┆             ┆             ┆ a_…        ┆   ┆         ┆         ┆         ┆         │\n",
       "│ RandomFores ┆ n_estimator ┆ outer_strat ┆ outer_stra ┆ … ┆ 0       ┆ 0       ┆ 0       ┆ 0       │\n",
       "│ t           ┆ s_10_max_de ┆ ified_targe ┆ tified_tar ┆   ┆         ┆         ┆         ┆         │\n",
       "│             ┆ pth_5       ┆ t_replica_… ┆ get_replic ┆   ┆         ┆         ┆         ┆         │\n",
       "│             ┆             ┆             ┆ a_…        ┆   ┆         ┆         ┆         ┆         │\n",
       "│ …           ┆ …           ┆ …           ┆ …          ┆ … ┆ …       ┆ …       ┆ …       ┆ …       │\n",
       "│ RandomFores ┆ n_estimator ┆ outer_strat ┆ outer_stra ┆ … ┆ 1       ┆ 1       ┆ 0       ┆ 0       │\n",
       "│ t           ┆ s_50_max_de ┆ ified_targe ┆ tified_tar ┆   ┆         ┆         ┆         ┆         │\n",
       "│             ┆ pth_10      ┆ t_replica_… ┆ get_replic ┆   ┆         ┆         ┆         ┆         │\n",
       "│             ┆             ┆             ┆ a_…        ┆   ┆         ┆         ┆         ┆         │\n",
       "│ RandomFores ┆ n_estimator ┆ outer_strat ┆ outer_stra ┆ … ┆ 1       ┆ 1       ┆ 0       ┆ 0       │\n",
       "│ t           ┆ s_10_max_de ┆ ified_targe ┆ tified_tar ┆   ┆         ┆         ┆         ┆         │\n",
       "│             ┆ pth_5       ┆ t_replica_… ┆ get_replic ┆   ┆         ┆         ┆         ┆         │\n",
       "│             ┆             ┆             ┆ a_…        ┆   ┆         ┆         ┆         ┆         │\n",
       "│ RandomFores ┆ n_estimator ┆ outer_strat ┆ outer_stra ┆ … ┆ 1       ┆ 1       ┆ 0       ┆ 0       │\n",
       "│ t           ┆ s_50_max_de ┆ ified_targe ┆ tified_tar ┆   ┆         ┆         ┆         ┆         │\n",
       "│             ┆ pth_10      ┆ t_replica_… ┆ get_replic ┆   ┆         ┆         ┆         ┆         │\n",
       "│             ┆             ┆             ┆ a_…        ┆   ┆         ┆         ┆         ┆         │\n",
       "│ RandomFores ┆ n_estimator ┆ outer_strat ┆ outer_stra ┆ … ┆ 1       ┆ 1       ┆ 0       ┆ 0       │\n",
       "│ t           ┆ s_10_max_de ┆ ified_targe ┆ tified_tar ┆   ┆         ┆         ┆         ┆         │\n",
       "│             ┆ pth_5       ┆ t_replica_… ┆ get_replic ┆   ┆         ┆         ┆         ┆         │\n",
       "│             ┆             ┆             ┆ a_…        ┆   ┆         ┆         ┆         ┆         │\n",
       "│ RandomFores ┆ n_estimator ┆ outer_strat ┆ outer_stra ┆ … ┆ 1       ┆ 1       ┆ 0       ┆ 0       │\n",
       "│ t           ┆ s_50_max_de ┆ ified_targe ┆ tified_tar ┆   ┆         ┆         ┆         ┆         │\n",
       "│             ┆ pth_10      ┆ t_replica_… ┆ get_replic ┆   ┆         ┆         ┆         ┆         │\n",
       "│             ┆             ┆             ┆ a_…        ┆   ┆         ┆         ┆         ┆         │\n",
       "└─────────────┴─────────────┴─────────────┴────────────┴───┴─────────┴─────────┴─────────┴─────────┘"
      ]
     },
     "execution_count": 18,
     "metadata": {},
     "output_type": "execute_result"
    }
   ],
   "source": [
    "results"
   ]
  },
  {
   "cell_type": "code",
   "execution_count": 19,
   "metadata": {},
   "outputs": [
    {
     "data": {
      "text/html": [
       "<div><style>\n",
       ".dataframe > thead > tr,\n",
       ".dataframe > tbody > tr {\n",
       "  text-align: right;\n",
       "  white-space: pre-wrap;\n",
       "}\n",
       "</style>\n",
       "<small>shape: (5_824, 32)</small><table border=\"1\" class=\"dataframe\"><thead><tr><th>target</th><th>cv_index</th><th>outer_stratified_target_replica_0_fold_0</th><th>outer_stratified_target_replica_0_fold_1</th><th>outer_stratified_target_replica_0_fold_0_inner_stratified_target_replica_0_fold_0</th><th>outer_stratified_target_replica_0_fold_0_inner_stratified_target_replica_0_fold_1</th><th>outer_stratified_target_replica_0_fold_1_inner_stratified_target_replica_0_fold_0</th><th>outer_stratified_target_replica_0_fold_1_inner_stratified_target_replica_0_fold_1</th><th>outer_stratified_target_replica_0_fold_0_inner_stratified_target_replica_0_fold_0_conversations_text-embedding-3-small_embeddings_RandomForest_n_estimators_10_max_depth_5_y_pred</th><th>outer_stratified_target_replica_0_fold_0_inner_stratified_target_replica_0_fold_0_conversations_text-embedding-3-small_embeddings_RandomForest_n_estimators_50_max_depth_10_y_pred</th><th>outer_stratified_target_replica_0_fold_0_inner_stratified_target_replica_0_fold_0_conversations_text-embedding-3-large_embeddings_RandomForest_n_estimators_10_max_depth_5_y_pred</th><th>outer_stratified_target_replica_0_fold_0_inner_stratified_target_replica_0_fold_0_conversations_text-embedding-3-large_embeddings_RandomForest_n_estimators_50_max_depth_10_y_pred</th><th>outer_stratified_target_replica_0_fold_0_inner_stratified_target_replica_0_fold_0_conversations_text-embedding-3-small_embeddings_conversations_text-embedding-3-large_embeddings_RandomForest_n_estimators_10_max_depth_5_y_pred</th><th>outer_stratified_target_replica_0_fold_0_inner_stratified_target_replica_0_fold_0_conversations_text-embedding-3-small_embeddings_conversations_text-embedding-3-large_embeddings_RandomForest_n_estimators_50_max_depth_10_y_pred</th><th>outer_stratified_target_replica_0_fold_0_inner_stratified_target_replica_0_fold_1_conversations_text-embedding-3-small_embeddings_RandomForest_n_estimators_10_max_depth_5_y_pred</th><th>outer_stratified_target_replica_0_fold_0_inner_stratified_target_replica_0_fold_1_conversations_text-embedding-3-small_embeddings_RandomForest_n_estimators_50_max_depth_10_y_pred</th><th>outer_stratified_target_replica_0_fold_0_inner_stratified_target_replica_0_fold_1_conversations_text-embedding-3-large_embeddings_RandomForest_n_estimators_10_max_depth_5_y_pred</th><th>outer_stratified_target_replica_0_fold_0_inner_stratified_target_replica_0_fold_1_conversations_text-embedding-3-large_embeddings_RandomForest_n_estimators_50_max_depth_10_y_pred</th><th>outer_stratified_target_replica_0_fold_0_inner_stratified_target_replica_0_fold_1_conversations_text-embedding-3-small_embeddings_conversations_text-embedding-3-large_embeddings_RandomForest_n_estimators_10_max_depth_5_y_pred</th><th>outer_stratified_target_replica_0_fold_0_inner_stratified_target_replica_0_fold_1_conversations_text-embedding-3-small_embeddings_conversations_text-embedding-3-large_embeddings_RandomForest_n_estimators_50_max_depth_10_y_pred</th><th>outer_stratified_target_replica_0_fold_1_inner_stratified_target_replica_0_fold_0_conversations_text-embedding-3-small_embeddings_RandomForest_n_estimators_10_max_depth_5_y_pred</th><th>outer_stratified_target_replica_0_fold_1_inner_stratified_target_replica_0_fold_0_conversations_text-embedding-3-small_embeddings_RandomForest_n_estimators_50_max_depth_10_y_pred</th><th>outer_stratified_target_replica_0_fold_1_inner_stratified_target_replica_0_fold_0_conversations_text-embedding-3-large_embeddings_RandomForest_n_estimators_10_max_depth_5_y_pred</th><th>outer_stratified_target_replica_0_fold_1_inner_stratified_target_replica_0_fold_0_conversations_text-embedding-3-large_embeddings_RandomForest_n_estimators_50_max_depth_10_y_pred</th><th>outer_stratified_target_replica_0_fold_1_inner_stratified_target_replica_0_fold_0_conversations_text-embedding-3-small_embeddings_conversations_text-embedding-3-large_embeddings_RandomForest_n_estimators_10_max_depth_5_y_pred</th><th>outer_stratified_target_replica_0_fold_1_inner_stratified_target_replica_0_fold_0_conversations_text-embedding-3-small_embeddings_conversations_text-embedding-3-large_embeddings_RandomForest_n_estimators_50_max_depth_10_y_pred</th><th>outer_stratified_target_replica_0_fold_1_inner_stratified_target_replica_0_fold_1_conversations_text-embedding-3-small_embeddings_RandomForest_n_estimators_10_max_depth_5_y_pred</th><th>outer_stratified_target_replica_0_fold_1_inner_stratified_target_replica_0_fold_1_conversations_text-embedding-3-small_embeddings_RandomForest_n_estimators_50_max_depth_10_y_pred</th><th>outer_stratified_target_replica_0_fold_1_inner_stratified_target_replica_0_fold_1_conversations_text-embedding-3-large_embeddings_RandomForest_n_estimators_10_max_depth_5_y_pred</th><th>outer_stratified_target_replica_0_fold_1_inner_stratified_target_replica_0_fold_1_conversations_text-embedding-3-large_embeddings_RandomForest_n_estimators_50_max_depth_10_y_pred</th><th>outer_stratified_target_replica_0_fold_1_inner_stratified_target_replica_0_fold_1_conversations_text-embedding-3-small_embeddings_conversations_text-embedding-3-large_embeddings_RandomForest_n_estimators_10_max_depth_5_y_pred</th><th>outer_stratified_target_replica_0_fold_1_inner_stratified_target_replica_0_fold_1_conversations_text-embedding-3-small_embeddings_conversations_text-embedding-3-large_embeddings_RandomForest_n_estimators_50_max_depth_10_y_pred</th></tr><tr><td>bool</td><td>u32</td><td>str</td><td>str</td><td>str</td><td>str</td><td>str</td><td>str</td><td>bool</td><td>bool</td><td>bool</td><td>bool</td><td>bool</td><td>bool</td><td>bool</td><td>bool</td><td>bool</td><td>bool</td><td>bool</td><td>bool</td><td>bool</td><td>bool</td><td>bool</td><td>bool</td><td>bool</td><td>bool</td><td>bool</td><td>bool</td><td>bool</td><td>bool</td><td>bool</td><td>bool</td></tr></thead><tbody><tr><td>true</td><td>0</td><td>&quot;test&quot;</td><td>&quot;dev&quot;</td><td>&quot;test&quot;</td><td>&quot;test&quot;</td><td>&quot;train&quot;</td><td>&quot;val&quot;</td><td>false</td><td>false</td><td>false</td><td>false</td><td>true</td><td>false</td><td>false</td><td>false</td><td>false</td><td>true</td><td>false</td><td>false</td><td>true</td><td>true</td><td>true</td><td>true</td><td>false</td><td>true</td><td>false</td><td>false</td><td>false</td><td>false</td><td>false</td><td>false</td></tr><tr><td>true</td><td>1</td><td>&quot;test&quot;</td><td>&quot;dev&quot;</td><td>&quot;test&quot;</td><td>&quot;test&quot;</td><td>&quot;train&quot;</td><td>&quot;val&quot;</td><td>false</td><td>false</td><td>false</td><td>false</td><td>false</td><td>false</td><td>false</td><td>false</td><td>false</td><td>false</td><td>false</td><td>false</td><td>false</td><td>true</td><td>true</td><td>true</td><td>false</td><td>true</td><td>false</td><td>false</td><td>false</td><td>false</td><td>false</td><td>false</td></tr><tr><td>true</td><td>2</td><td>&quot;dev&quot;</td><td>&quot;test&quot;</td><td>&quot;val&quot;</td><td>&quot;train&quot;</td><td>&quot;test&quot;</td><td>&quot;test&quot;</td><td>false</td><td>false</td><td>false</td><td>false</td><td>true</td><td>false</td><td>false</td><td>true</td><td>false</td><td>true</td><td>true</td><td>true</td><td>false</td><td>false</td><td>false</td><td>false</td><td>false</td><td>false</td><td>false</td><td>false</td><td>false</td><td>false</td><td>false</td><td>false</td></tr><tr><td>true</td><td>3</td><td>&quot;test&quot;</td><td>&quot;dev&quot;</td><td>&quot;test&quot;</td><td>&quot;test&quot;</td><td>&quot;train&quot;</td><td>&quot;val&quot;</td><td>false</td><td>false</td><td>false</td><td>false</td><td>false</td><td>false</td><td>true</td><td>false</td><td>false</td><td>true</td><td>false</td><td>true</td><td>false</td><td>true</td><td>false</td><td>true</td><td>false</td><td>true</td><td>false</td><td>false</td><td>false</td><td>true</td><td>true</td><td>false</td></tr><tr><td>true</td><td>4</td><td>&quot;dev&quot;</td><td>&quot;test&quot;</td><td>&quot;val&quot;</td><td>&quot;train&quot;</td><td>&quot;test&quot;</td><td>&quot;test&quot;</td><td>false</td><td>false</td><td>false</td><td>false</td><td>false</td><td>false</td><td>false</td><td>true</td><td>true</td><td>true</td><td>false</td><td>true</td><td>false</td><td>false</td><td>false</td><td>false</td><td>false</td><td>false</td><td>false</td><td>false</td><td>false</td><td>false</td><td>false</td><td>false</td></tr><tr><td>true</td><td>5</td><td>&quot;test&quot;</td><td>&quot;dev&quot;</td><td>&quot;test&quot;</td><td>&quot;test&quot;</td><td>&quot;train&quot;</td><td>&quot;val&quot;</td><td>false</td><td>false</td><td>false</td><td>false</td><td>false</td><td>false</td><td>false</td><td>false</td><td>false</td><td>false</td><td>false</td><td>false</td><td>false</td><td>true</td><td>true</td><td>true</td><td>false</td><td>true</td><td>false</td><td>false</td><td>false</td><td>false</td><td>false</td><td>false</td></tr><tr><td>true</td><td>6</td><td>&quot;test&quot;</td><td>&quot;dev&quot;</td><td>&quot;test&quot;</td><td>&quot;test&quot;</td><td>&quot;val&quot;</td><td>&quot;train&quot;</td><td>false</td><td>false</td><td>false</td><td>false</td><td>false</td><td>false</td><td>false</td><td>false</td><td>false</td><td>false</td><td>false</td><td>false</td><td>false</td><td>false</td><td>false</td><td>false</td><td>false</td><td>false</td><td>false</td><td>false</td><td>false</td><td>true</td><td>true</td><td>true</td></tr><tr><td>true</td><td>7</td><td>&quot;dev&quot;</td><td>&quot;test&quot;</td><td>&quot;val&quot;</td><td>&quot;train&quot;</td><td>&quot;test&quot;</td><td>&quot;test&quot;</td><td>false</td><td>false</td><td>false</td><td>true</td><td>false</td><td>false</td><td>false</td><td>true</td><td>false</td><td>true</td><td>false</td><td>true</td><td>false</td><td>false</td><td>false</td><td>false</td><td>false</td><td>false</td><td>false</td><td>false</td><td>false</td><td>false</td><td>true</td><td>false</td></tr><tr><td>true</td><td>8</td><td>&quot;test&quot;</td><td>&quot;dev&quot;</td><td>&quot;test&quot;</td><td>&quot;test&quot;</td><td>&quot;train&quot;</td><td>&quot;val&quot;</td><td>false</td><td>false</td><td>false</td><td>false</td><td>false</td><td>false</td><td>false</td><td>false</td><td>false</td><td>false</td><td>false</td><td>false</td><td>true</td><td>true</td><td>true</td><td>true</td><td>false</td><td>true</td><td>false</td><td>false</td><td>false</td><td>false</td><td>false</td><td>false</td></tr><tr><td>true</td><td>9</td><td>&quot;dev&quot;</td><td>&quot;test&quot;</td><td>&quot;train&quot;</td><td>&quot;val&quot;</td><td>&quot;test&quot;</td><td>&quot;test&quot;</td><td>false</td><td>true</td><td>true</td><td>true</td><td>false</td><td>true</td><td>false</td><td>false</td><td>false</td><td>false</td><td>false</td><td>true</td><td>false</td><td>false</td><td>false</td><td>false</td><td>false</td><td>false</td><td>false</td><td>false</td><td>false</td><td>false</td><td>true</td><td>false</td></tr><tr><td>true</td><td>10</td><td>&quot;dev&quot;</td><td>&quot;test&quot;</td><td>&quot;train&quot;</td><td>&quot;val&quot;</td><td>&quot;test&quot;</td><td>&quot;test&quot;</td><td>false</td><td>true</td><td>true</td><td>true</td><td>true</td><td>true</td><td>false</td><td>false</td><td>false</td><td>false</td><td>false</td><td>false</td><td>false</td><td>false</td><td>false</td><td>false</td><td>false</td><td>false</td><td>false</td><td>false</td><td>false</td><td>false</td><td>false</td><td>false</td></tr><tr><td>true</td><td>11</td><td>&quot;dev&quot;</td><td>&quot;test&quot;</td><td>&quot;train&quot;</td><td>&quot;val&quot;</td><td>&quot;test&quot;</td><td>&quot;test&quot;</td><td>false</td><td>true</td><td>false</td><td>true</td><td>false</td><td>true</td><td>false</td><td>false</td><td>false</td><td>false</td><td>false</td><td>false</td><td>false</td><td>false</td><td>false</td><td>false</td><td>false</td><td>false</td><td>false</td><td>false</td><td>false</td><td>false</td><td>false</td><td>false</td></tr><tr><td>&hellip;</td><td>&hellip;</td><td>&hellip;</td><td>&hellip;</td><td>&hellip;</td><td>&hellip;</td><td>&hellip;</td><td>&hellip;</td><td>&hellip;</td><td>&hellip;</td><td>&hellip;</td><td>&hellip;</td><td>&hellip;</td><td>&hellip;</td><td>&hellip;</td><td>&hellip;</td><td>&hellip;</td><td>&hellip;</td><td>&hellip;</td><td>&hellip;</td><td>&hellip;</td><td>&hellip;</td><td>&hellip;</td><td>&hellip;</td><td>&hellip;</td><td>&hellip;</td><td>&hellip;</td><td>&hellip;</td><td>&hellip;</td><td>&hellip;</td><td>&hellip;</td><td>&hellip;</td></tr><tr><td>false</td><td>5812</td><td>&quot;test&quot;</td><td>&quot;dev&quot;</td><td>&quot;test&quot;</td><td>&quot;test&quot;</td><td>&quot;val&quot;</td><td>&quot;train&quot;</td><td>false</td><td>false</td><td>false</td><td>false</td><td>false</td><td>false</td><td>false</td><td>false</td><td>false</td><td>false</td><td>false</td><td>false</td><td>false</td><td>false</td><td>false</td><td>false</td><td>false</td><td>false</td><td>false</td><td>false</td><td>false</td><td>false</td><td>false</td><td>false</td></tr><tr><td>false</td><td>5813</td><td>&quot;dev&quot;</td><td>&quot;test&quot;</td><td>&quot;train&quot;</td><td>&quot;val&quot;</td><td>&quot;test&quot;</td><td>&quot;test&quot;</td><td>false</td><td>false</td><td>false</td><td>false</td><td>false</td><td>false</td><td>false</td><td>false</td><td>false</td><td>false</td><td>false</td><td>false</td><td>false</td><td>false</td><td>false</td><td>false</td><td>false</td><td>false</td><td>false</td><td>false</td><td>true</td><td>false</td><td>false</td><td>false</td></tr><tr><td>false</td><td>5814</td><td>&quot;test&quot;</td><td>&quot;dev&quot;</td><td>&quot;test&quot;</td><td>&quot;test&quot;</td><td>&quot;val&quot;</td><td>&quot;train&quot;</td><td>false</td><td>false</td><td>false</td><td>false</td><td>false</td><td>false</td><td>false</td><td>false</td><td>false</td><td>false</td><td>false</td><td>false</td><td>false</td><td>false</td><td>false</td><td>false</td><td>false</td><td>false</td><td>false</td><td>false</td><td>false</td><td>false</td><td>false</td><td>false</td></tr><tr><td>false</td><td>5815</td><td>&quot;test&quot;</td><td>&quot;dev&quot;</td><td>&quot;test&quot;</td><td>&quot;test&quot;</td><td>&quot;val&quot;</td><td>&quot;train&quot;</td><td>false</td><td>false</td><td>false</td><td>false</td><td>false</td><td>false</td><td>false</td><td>false</td><td>false</td><td>false</td><td>false</td><td>false</td><td>false</td><td>false</td><td>false</td><td>false</td><td>false</td><td>false</td><td>false</td><td>false</td><td>false</td><td>false</td><td>false</td><td>false</td></tr><tr><td>false</td><td>5816</td><td>&quot;test&quot;</td><td>&quot;dev&quot;</td><td>&quot;test&quot;</td><td>&quot;test&quot;</td><td>&quot;train&quot;</td><td>&quot;val&quot;</td><td>false</td><td>false</td><td>false</td><td>false</td><td>false</td><td>false</td><td>false</td><td>false</td><td>false</td><td>false</td><td>false</td><td>false</td><td>false</td><td>false</td><td>false</td><td>false</td><td>false</td><td>false</td><td>false</td><td>false</td><td>false</td><td>false</td><td>false</td><td>false</td></tr><tr><td>false</td><td>5817</td><td>&quot;test&quot;</td><td>&quot;dev&quot;</td><td>&quot;test&quot;</td><td>&quot;test&quot;</td><td>&quot;train&quot;</td><td>&quot;val&quot;</td><td>true</td><td>true</td><td>true</td><td>true</td><td>true</td><td>false</td><td>true</td><td>true</td><td>true</td><td>false</td><td>true</td><td>true</td><td>true</td><td>false</td><td>false</td><td>false</td><td>false</td><td>false</td><td>true</td><td>true</td><td>true</td><td>true</td><td>false</td><td>true</td></tr><tr><td>false</td><td>5818</td><td>&quot;dev&quot;</td><td>&quot;test&quot;</td><td>&quot;val&quot;</td><td>&quot;train&quot;</td><td>&quot;test&quot;</td><td>&quot;test&quot;</td><td>false</td><td>false</td><td>false</td><td>false</td><td>false</td><td>false</td><td>false</td><td>false</td><td>false</td><td>false</td><td>false</td><td>false</td><td>false</td><td>false</td><td>false</td><td>true</td><td>false</td><td>false</td><td>false</td><td>false</td><td>false</td><td>false</td><td>false</td><td>false</td></tr><tr><td>false</td><td>5819</td><td>&quot;dev&quot;</td><td>&quot;test&quot;</td><td>&quot;val&quot;</td><td>&quot;train&quot;</td><td>&quot;test&quot;</td><td>&quot;test&quot;</td><td>false</td><td>false</td><td>true</td><td>false</td><td>true</td><td>false</td><td>false</td><td>false</td><td>false</td><td>false</td><td>false</td><td>false</td><td>false</td><td>false</td><td>true</td><td>false</td><td>true</td><td>false</td><td>false</td><td>false</td><td>true</td><td>false</td><td>false</td><td>false</td></tr><tr><td>false</td><td>5820</td><td>&quot;dev&quot;</td><td>&quot;test&quot;</td><td>&quot;train&quot;</td><td>&quot;val&quot;</td><td>&quot;test&quot;</td><td>&quot;test&quot;</td><td>false</td><td>false</td><td>false</td><td>false</td><td>false</td><td>false</td><td>false</td><td>false</td><td>false</td><td>false</td><td>false</td><td>false</td><td>false</td><td>false</td><td>false</td><td>false</td><td>false</td><td>false</td><td>false</td><td>false</td><td>false</td><td>false</td><td>false</td><td>false</td></tr><tr><td>false</td><td>5821</td><td>&quot;dev&quot;</td><td>&quot;test&quot;</td><td>&quot;train&quot;</td><td>&quot;val&quot;</td><td>&quot;test&quot;</td><td>&quot;test&quot;</td><td>false</td><td>false</td><td>false</td><td>false</td><td>false</td><td>false</td><td>false</td><td>false</td><td>false</td><td>false</td><td>false</td><td>false</td><td>false</td><td>false</td><td>false</td><td>false</td><td>false</td><td>false</td><td>false</td><td>false</td><td>false</td><td>false</td><td>false</td><td>false</td></tr><tr><td>false</td><td>5822</td><td>&quot;test&quot;</td><td>&quot;dev&quot;</td><td>&quot;test&quot;</td><td>&quot;test&quot;</td><td>&quot;train&quot;</td><td>&quot;val&quot;</td><td>false</td><td>false</td><td>false</td><td>false</td><td>false</td><td>false</td><td>false</td><td>false</td><td>false</td><td>false</td><td>false</td><td>false</td><td>false</td><td>false</td><td>false</td><td>false</td><td>false</td><td>false</td><td>false</td><td>false</td><td>false</td><td>false</td><td>false</td><td>false</td></tr><tr><td>false</td><td>5823</td><td>&quot;test&quot;</td><td>&quot;dev&quot;</td><td>&quot;test&quot;</td><td>&quot;test&quot;</td><td>&quot;val&quot;</td><td>&quot;train&quot;</td><td>false</td><td>false</td><td>false</td><td>false</td><td>false</td><td>false</td><td>false</td><td>false</td><td>false</td><td>false</td><td>false</td><td>false</td><td>false</td><td>false</td><td>false</td><td>false</td><td>false</td><td>false</td><td>false</td><td>false</td><td>false</td><td>false</td><td>false</td><td>false</td></tr></tbody></table></div>"
      ],
      "text/plain": [
       "shape: (5_824, 32)\n",
       "┌────────┬──────────┬────────────┬────────────┬───┬────────────┬───────────┬───────────┬───────────┐\n",
       "│ target ┆ cv_index ┆ outer_stra ┆ outer_stra ┆ … ┆ outer_stra ┆ outer_str ┆ outer_str ┆ outer_str │\n",
       "│ ---    ┆ ---      ┆ tified_tar ┆ tified_tar ┆   ┆ tified_tar ┆ atified_t ┆ atified_t ┆ atified_t │\n",
       "│ bool   ┆ u32      ┆ get_replic ┆ get_replic ┆   ┆ get_replic ┆ arget_rep ┆ arget_rep ┆ arget_rep │\n",
       "│        ┆          ┆ a_…        ┆ a_…        ┆   ┆ a_…        ┆ lica_…    ┆ lica_…    ┆ lica_…    │\n",
       "│        ┆          ┆ ---        ┆ ---        ┆   ┆ ---        ┆ ---       ┆ ---       ┆ ---       │\n",
       "│        ┆          ┆ str        ┆ str        ┆   ┆ bool       ┆ bool      ┆ bool      ┆ bool      │\n",
       "╞════════╪══════════╪════════════╪════════════╪═══╪════════════╪═══════════╪═══════════╪═══════════╡\n",
       "│ true   ┆ 0        ┆ test       ┆ dev        ┆ … ┆ false      ┆ false     ┆ false     ┆ false     │\n",
       "│ true   ┆ 1        ┆ test       ┆ dev        ┆ … ┆ false      ┆ false     ┆ false     ┆ false     │\n",
       "│ true   ┆ 2        ┆ dev        ┆ test       ┆ … ┆ false      ┆ false     ┆ false     ┆ false     │\n",
       "│ true   ┆ 3        ┆ test       ┆ dev        ┆ … ┆ false      ┆ true      ┆ true      ┆ false     │\n",
       "│ true   ┆ 4        ┆ dev        ┆ test       ┆ … ┆ false      ┆ false     ┆ false     ┆ false     │\n",
       "│ …      ┆ …        ┆ …          ┆ …          ┆ … ┆ …          ┆ …         ┆ …         ┆ …         │\n",
       "│ false  ┆ 5819     ┆ dev        ┆ test       ┆ … ┆ true       ┆ false     ┆ false     ┆ false     │\n",
       "│ false  ┆ 5820     ┆ dev        ┆ test       ┆ … ┆ false      ┆ false     ┆ false     ┆ false     │\n",
       "│ false  ┆ 5821     ┆ dev        ┆ test       ┆ … ┆ false      ┆ false     ┆ false     ┆ false     │\n",
       "│ false  ┆ 5822     ┆ test       ┆ dev        ┆ … ┆ false      ┆ false     ┆ false     ┆ false     │\n",
       "│ false  ┆ 5823     ┆ test       ┆ dev        ┆ … ┆ false      ┆ false     ┆ false     ┆ false     │\n",
       "└────────┴──────────┴────────────┴────────────┴───┴────────────┴───────────┴───────────┴───────────┘"
      ]
     },
     "execution_count": 19,
     "metadata": {},
     "output_type": "execute_result"
    }
   ],
   "source": [
    "pred"
   ]
  },
  {
   "cell_type": "code",
   "execution_count": null,
   "metadata": {},
   "outputs": [],
   "source": []
  }
 ],
 "metadata": {
  "kernelspec": {
   "display_name": "Python 3",
   "language": "python",
   "name": "python3"
  },
  "language_info": {
   "codemirror_mode": {
    "name": "ipython",
    "version": 3
   },
   "file_extension": ".py",
   "mimetype": "text/x-python",
   "name": "python",
   "nbconvert_exporter": "python",
   "pygments_lexer": "ipython3",
   "version": "3.10.6"
  }
 },
 "nbformat": 4,
 "nbformat_minor": 2
}
