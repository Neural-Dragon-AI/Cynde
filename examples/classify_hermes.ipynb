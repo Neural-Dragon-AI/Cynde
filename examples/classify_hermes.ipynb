{
 "cells": [
  {
   "cell_type": "code",
   "execution_count": 1,
   "metadata": {},
   "outputs": [],
   "source": [
    "from datasets import load_dataset\n",
    "import polars as pl\n",
    "import os\n",
    "import cynde.functional as cf"
   ]
  },
  {
   "cell_type": "code",
   "execution_count": 2,
   "metadata": {},
   "outputs": [
    {
     "name": "stdout",
     "output_type": "stream",
     "text": [
      "c:\\Users\\Tommaso\\Documents\\Dev\\Cynde\\cache\n",
      "c:\\Users\\Tommaso\\Documents\\Dev\\Cynde\n"
     ]
    }
   ],
   "source": [
    "# Get the directory above the current directory\n",
    "base_path = os.path.dirname(os.getcwd())\n",
    "\n",
    "# Specify the cache directory as 'data' subdirectory within the current directory\n",
    "cache_dir = os.path.join(base_path, \"cache\")\n",
    "print(cache_dir)\n",
    "print(base_path)"
   ]
  },
  {
   "cell_type": "code",
   "execution_count": 3,
   "metadata": {},
   "outputs": [],
   "source": [
    "dataset_name = \"OpenHermes-2.5\"\n",
    "dataset_path = os.path.join(cache_dir, dataset_name)\n"
   ]
  },
  {
   "cell_type": "code",
   "execution_count": 4,
   "metadata": {},
   "outputs": [
    {
     "data": {
      "text/html": [
       "<div><style>\n",
       ".dataframe > thead > tr,\n",
       ".dataframe > tbody > tr {\n",
       "  text-align: right;\n",
       "  white-space: pre-wrap;\n",
       "}\n",
       "</style>\n",
       "<small>shape: (1, 2)</small><table border=\"1\" class=\"dataframe\"><thead><tr><th>conversations</th><th>source</th></tr><tr><td>list[struct[3]]</td><td>str</td></tr></thead><tbody><tr><td>[{&quot;human&quot;,&quot;Given the following list of words, categorize them into 5 categories by similarity: [&#x27;Heart&#x27;, &#x27;Liver&#x27;, &#x27;Kidney&#x27;, &#x27;Brain&#x27;, &#x27;Stomach&#x27;, &#x27;Skin&#x27;, &#x27;Lung&#x27;, &#x27;Muscle&#x27;, &#x27;Intestine&#x27;, &#x27;Bone&#x27;, &#x27;Pancreas&#x27;, &#x27;Blood&#x27;, &#x27;Eye&#x27;, &#x27;Ear&#x27;, &#x27;Nose&#x27;, &#x27;Mouth&#x27;, &#x27;Esophagus&#x27;, &#x27;Throat&#x27;, &#x27;Spinal Cord&#x27;, &#x27;Bladder&#x27;]&quot;,null}, {&quot;gpt&quot;,&quot;Here are the given words categorized into 5 groups based on their similarity:\n",
       "\n",
       "1. Vital Organs:\n",
       "- Heart\n",
       "- Liver\n",
       "- Kidney\n",
       "- Lung\n",
       "- Pancreas\n",
       "\n",
       "2. Digestive System Components:\n",
       "- Stomach\n",
       "- Intestine\n",
       "- Esophagus\n",
       "- Throat\n",
       "- Mouth\n",
       "\n",
       "3. Sensory Organs:\n",
       "- Eye\n",
       "- Ear\n",
       "- Nose\n",
       "\n",
       "4. Support and Movement:\n",
       "- Bone\n",
       "- Muscle\n",
       "- Spinal Cord\n",
       "- Skin\n",
       "\n",
       "5. Body Fluids and Waste Management:\n",
       "- Blood\n",
       "- Bladder&quot;,null}, … {&quot;gpt&quot;,&quot;1) Vital Organs:\n",
       "- Diseases or disorders affecting one vital organ can impact the functioning of others. For example, heart failure can lead to fluid buildup in the lungs, affecting their function. Liver disease can cause toxins to accumulate in the bloodstream, potentially affecting brain function. Kidney disease can lead to electrolyte imbalances, which can impact heart function.\n",
       "- Organ transplantation involves replacing a damaged organ with a healthy one from a donor. Examples include heart, liver, kidney, lung, and pancreas transplants. Challenges include finding compatible donors, managing immune system rejection, and addressing surgical complications.\n",
       "\n",
       "2) Digestive System Components:\n",
       "- Common digestive disorders include gastroesophageal reflux disease (GERD), irritable bowel syndrome (IBS), inflammatory bowel disease (IBD), and peptic ulcers. Causes may include genetic factors, lifestyle choices, stress, infections, or immune system dysfunction.\n",
       "- The gut microbiome comprises trillions of microorganisms that aid in digestion, nutrient absorption, and immune system function. It can also influence mental health and contribute to the prevention or development of various diseases.\n",
       "\n",
       "3) Sensory Organs:\n",
       "- Optical illusions work by exploiting the brain&#x27;s visual processing system, causing it to misinterpret sensory information. They reveal that our perception of reality can be influenced by factors such as context, contrast, and patterns.\n",
       "- Animals&#x27; sensory organs can differ significantly from humans&#x27;, offering unique capabilities. For example, dogs have a heightened sense of smell, eagles have exceptional long-distance vision, and bats use echolocation for navigation and foraging.\n",
       "\n",
       "4) Support and Movement:\n",
       "- Exercise and physical activity promote bone and muscle health by stimulating bone growth, increasing bone density, and strengthening muscles. This helps prevent age-related bone loss and reduces the risk of injury.\n",
       "- Spinal cord injuries can have varying effects depending on the location and severity of the injury. Injuries can result in temporary or permanent loss of sensation, mobility, and other bodily functions. Paraplegia (paralysis of the legs and lower body) and quadriplegia (paralysis of all four limbs) are examples of potential outcomes of spinal cord injuries.\n",
       "\n",
       "5) Body Fluids and Waste Management:\n",
       "- Blood types affect transfusions and organ transplants because of the presence of specific antigens on red blood cells. Incompatible blood types can cause an immune response, resulting in transfusion reactions or organ rejection.\n",
       "- Common bladder disorders include urinary incontinence, urinary tract infections (UTIs), interstitial cystitis, and bladder cancer. Treatments and management strategies can vary, including medication, lifestyle changes, physical therapy, or surgical interventions.&quot;,null}]</td><td>&quot;caseus_custom&quot;</td></tr></tbody></table></div>"
      ],
      "text/plain": [
       "shape: (1, 2)\n",
       "┌───────────────────────────────────┬───────────────┐\n",
       "│ conversations                     ┆ source        │\n",
       "│ ---                               ┆ ---           │\n",
       "│ list[struct[3]]                   ┆ str           │\n",
       "╞═══════════════════════════════════╪═══════════════╡\n",
       "│ [{\"human\",\"Given the following l… ┆ caseus_custom │\n",
       "└───────────────────────────────────┴───────────────┘"
      ]
     },
     "execution_count": 4,
     "metadata": {},
     "output_type": "execute_result"
    }
   ],
   "source": [
    "df = pl.read_parquet(dataset_path+\"_filtered.parquet\")\n",
    "df.head(1)\n"
   ]
  },
  {
   "cell_type": "code",
   "execution_count": 5,
   "metadata": {},
   "outputs": [
    {
     "data": {
      "text/html": [
       "<div><style>\n",
       ".dataframe > thead > tr,\n",
       ".dataframe > tbody > tr {\n",
       "  text-align: right;\n",
       "  white-space: pre-wrap;\n",
       "}\n",
       "</style>\n",
       "<small>shape: (2, 2)</small><table border=\"1\" class=\"dataframe\"><thead><tr><th>source</th><th>count</th></tr><tr><td>str</td><td>u32</td></tr></thead><tbody><tr><td>&quot;LMSys Chatbot …</td><td>3136</td></tr><tr><td>&quot;caseus_custom&quot;</td><td>2688</td></tr></tbody></table></div>"
      ],
      "text/plain": [
       "shape: (2, 2)\n",
       "┌─────────────────────┬───────┐\n",
       "│ source              ┆ count │\n",
       "│ ---                 ┆ ---   │\n",
       "│ str                 ┆ u32   │\n",
       "╞═════════════════════╪═══════╡\n",
       "│ LMSys Chatbot Arena ┆ 3136  │\n",
       "│ caseus_custom       ┆ 2688  │\n",
       "└─────────────────────┴───────┘"
      ]
     },
     "execution_count": 5,
     "metadata": {},
     "output_type": "execute_result"
    }
   ],
   "source": [
    "df[\"source\"].value_counts()"
   ]
  },
  {
   "cell_type": "code",
   "execution_count": 6,
   "metadata": {},
   "outputs": [],
   "source": [
    "df = df.with_columns(pl.col(\"conversations\").list.eval(pl.element().struct.json_encode()).list.join(\"\\n\"),(pl.col(\"source\")==\"caseus_custom\").alias(\"target\"))"
   ]
  },
  {
   "cell_type": "code",
   "execution_count": 7,
   "metadata": {},
   "outputs": [],
   "source": [
    "#check if the embedded df already exist at dataset_path+\"_embedded.parquet\"\n",
    "if not os.path.exists(dataset_path+\"_embedded_small_large.parquet\"):\n",
    "    embedded_df = cf.embed_columns(df, [\"conversations\"],models=[\"text-embedding-3-small\",\"text-embedding-3-large\"])\n",
    "    embedded_df.write_parquet(dataset_path+\"_embedded_small_large.parquet\")\n",
    "else:\n",
    "    embedded_df = pl.read_parquet(dataset_path+\"_embedded_small_large.parquet\")"
   ]
  },
  {
   "cell_type": "code",
   "execution_count": 8,
   "metadata": {},
   "outputs": [
    {
     "data": {
      "text/html": [
       "<div><style>\n",
       ".dataframe > thead > tr,\n",
       ".dataframe > tbody > tr {\n",
       "  text-align: right;\n",
       "  white-space: pre-wrap;\n",
       "}\n",
       "</style>\n",
       "<small>shape: (2, 2)</small><table border=\"1\" class=\"dataframe\"><thead><tr><th>target</th><th>count</th></tr><tr><td>bool</td><td>u32</td></tr></thead><tbody><tr><td>false</td><td>3136</td></tr><tr><td>true</td><td>2688</td></tr></tbody></table></div>"
      ],
      "text/plain": [
       "shape: (2, 2)\n",
       "┌────────┬───────┐\n",
       "│ target ┆ count │\n",
       "│ ---    ┆ ---   │\n",
       "│ bool   ┆ u32   │\n",
       "╞════════╪═══════╡\n",
       "│ false  ┆ 3136  │\n",
       "│ true   ┆ 2688  │\n",
       "└────────┴───────┘"
      ]
     },
     "execution_count": 8,
     "metadata": {},
     "output_type": "execute_result"
    }
   ],
   "source": [
    "df[\"target\"].value_counts()"
   ]
  },
  {
   "cell_type": "code",
   "execution_count": 9,
   "metadata": {},
   "outputs": [
    {
     "data": {
      "text/html": [
       "<div><style>\n",
       ".dataframe > thead > tr,\n",
       ".dataframe > tbody > tr {\n",
       "  text-align: right;\n",
       "  white-space: pre-wrap;\n",
       "}\n",
       "</style>\n",
       "<small>shape: (5_824, 6)</small><table border=\"1\" class=\"dataframe\"><thead><tr><th>cv_index</th><th>fold_0</th><th>fold_1</th><th>fold_2</th><th>fold_3</th><th>fold_4</th></tr><tr><td>u32</td><td>str</td><td>str</td><td>str</td><td>str</td><td>str</td></tr></thead><tbody><tr><td>2011</td><td>&quot;test&quot;</td><td>&quot;train&quot;</td><td>&quot;train&quot;</td><td>&quot;train&quot;</td><td>&quot;train&quot;</td></tr><tr><td>2951</td><td>&quot;test&quot;</td><td>&quot;train&quot;</td><td>&quot;train&quot;</td><td>&quot;train&quot;</td><td>&quot;train&quot;</td></tr><tr><td>2920</td><td>&quot;test&quot;</td><td>&quot;train&quot;</td><td>&quot;train&quot;</td><td>&quot;train&quot;</td><td>&quot;train&quot;</td></tr><tr><td>1551</td><td>&quot;test&quot;</td><td>&quot;train&quot;</td><td>&quot;train&quot;</td><td>&quot;train&quot;</td><td>&quot;train&quot;</td></tr><tr><td>2864</td><td>&quot;test&quot;</td><td>&quot;train&quot;</td><td>&quot;train&quot;</td><td>&quot;train&quot;</td><td>&quot;train&quot;</td></tr><tr><td>5201</td><td>&quot;test&quot;</td><td>&quot;train&quot;</td><td>&quot;train&quot;</td><td>&quot;train&quot;</td><td>&quot;train&quot;</td></tr><tr><td>3533</td><td>&quot;test&quot;</td><td>&quot;train&quot;</td><td>&quot;train&quot;</td><td>&quot;train&quot;</td><td>&quot;train&quot;</td></tr><tr><td>5577</td><td>&quot;test&quot;</td><td>&quot;train&quot;</td><td>&quot;train&quot;</td><td>&quot;train&quot;</td><td>&quot;train&quot;</td></tr><tr><td>2482</td><td>&quot;test&quot;</td><td>&quot;train&quot;</td><td>&quot;train&quot;</td><td>&quot;train&quot;</td><td>&quot;train&quot;</td></tr><tr><td>1265</td><td>&quot;test&quot;</td><td>&quot;train&quot;</td><td>&quot;train&quot;</td><td>&quot;train&quot;</td><td>&quot;train&quot;</td></tr><tr><td>1475</td><td>&quot;test&quot;</td><td>&quot;train&quot;</td><td>&quot;train&quot;</td><td>&quot;train&quot;</td><td>&quot;train&quot;</td></tr><tr><td>1619</td><td>&quot;test&quot;</td><td>&quot;train&quot;</td><td>&quot;train&quot;</td><td>&quot;train&quot;</td><td>&quot;train&quot;</td></tr><tr><td>&hellip;</td><td>&hellip;</td><td>&hellip;</td><td>&hellip;</td><td>&hellip;</td><td>&hellip;</td></tr><tr><td>770</td><td>&quot;train&quot;</td><td>&quot;train&quot;</td><td>&quot;train&quot;</td><td>&quot;train&quot;</td><td>&quot;test&quot;</td></tr><tr><td>1270</td><td>&quot;train&quot;</td><td>&quot;train&quot;</td><td>&quot;train&quot;</td><td>&quot;train&quot;</td><td>&quot;test&quot;</td></tr><tr><td>3575</td><td>&quot;train&quot;</td><td>&quot;train&quot;</td><td>&quot;train&quot;</td><td>&quot;train&quot;</td><td>&quot;test&quot;</td></tr><tr><td>2019</td><td>&quot;train&quot;</td><td>&quot;train&quot;</td><td>&quot;train&quot;</td><td>&quot;train&quot;</td><td>&quot;test&quot;</td></tr><tr><td>5511</td><td>&quot;train&quot;</td><td>&quot;train&quot;</td><td>&quot;train&quot;</td><td>&quot;train&quot;</td><td>&quot;test&quot;</td></tr><tr><td>2925</td><td>&quot;train&quot;</td><td>&quot;train&quot;</td><td>&quot;train&quot;</td><td>&quot;train&quot;</td><td>&quot;test&quot;</td></tr><tr><td>2442</td><td>&quot;train&quot;</td><td>&quot;train&quot;</td><td>&quot;train&quot;</td><td>&quot;train&quot;</td><td>&quot;test&quot;</td></tr><tr><td>878</td><td>&quot;train&quot;</td><td>&quot;train&quot;</td><td>&quot;train&quot;</td><td>&quot;train&quot;</td><td>&quot;test&quot;</td></tr><tr><td>93</td><td>&quot;train&quot;</td><td>&quot;train&quot;</td><td>&quot;train&quot;</td><td>&quot;train&quot;</td><td>&quot;test&quot;</td></tr><tr><td>5628</td><td>&quot;train&quot;</td><td>&quot;train&quot;</td><td>&quot;train&quot;</td><td>&quot;train&quot;</td><td>&quot;test&quot;</td></tr><tr><td>4175</td><td>&quot;train&quot;</td><td>&quot;train&quot;</td><td>&quot;train&quot;</td><td>&quot;train&quot;</td><td>&quot;test&quot;</td></tr><tr><td>5737</td><td>&quot;train&quot;</td><td>&quot;train&quot;</td><td>&quot;train&quot;</td><td>&quot;train&quot;</td><td>&quot;test&quot;</td></tr></tbody></table></div>"
      ],
      "text/plain": [
       "shape: (5_824, 6)\n",
       "┌──────────┬────────┬────────┬────────┬────────┬────────┐\n",
       "│ cv_index ┆ fold_0 ┆ fold_1 ┆ fold_2 ┆ fold_3 ┆ fold_4 │\n",
       "│ ---      ┆ ---    ┆ ---    ┆ ---    ┆ ---    ┆ ---    │\n",
       "│ u32      ┆ str    ┆ str    ┆ str    ┆ str    ┆ str    │\n",
       "╞══════════╪════════╪════════╪════════╪════════╪════════╡\n",
       "│ 2011     ┆ test   ┆ train  ┆ train  ┆ train  ┆ train  │\n",
       "│ 2951     ┆ test   ┆ train  ┆ train  ┆ train  ┆ train  │\n",
       "│ 2920     ┆ test   ┆ train  ┆ train  ┆ train  ┆ train  │\n",
       "│ 1551     ┆ test   ┆ train  ┆ train  ┆ train  ┆ train  │\n",
       "│ 2864     ┆ test   ┆ train  ┆ train  ┆ train  ┆ train  │\n",
       "│ …        ┆ …      ┆ …      ┆ …      ┆ …      ┆ …      │\n",
       "│ 878      ┆ train  ┆ train  ┆ train  ┆ train  ┆ test   │\n",
       "│ 93       ┆ train  ┆ train  ┆ train  ┆ train  ┆ test   │\n",
       "│ 5628     ┆ train  ┆ train  ┆ train  ┆ train  ┆ test   │\n",
       "│ 4175     ┆ train  ┆ train  ┆ train  ┆ train  ┆ test   │\n",
       "│ 5737     ┆ train  ┆ train  ┆ train  ┆ train  ┆ test   │\n",
       "└──────────┴────────┴────────┴────────┴────────┴────────┘"
      ]
     },
     "execution_count": 9,
     "metadata": {},
     "output_type": "execute_result"
    }
   ],
   "source": [
    "cf.vanilla_kfold(embedded_df,group=None,k=5)"
   ]
  },
  {
   "cell_type": "markdown",
   "metadata": {},
   "source": [
    "df:pl.DataFrame, cv_type: Tuple[str,str], group_outer:List[str],k_outer:int,group_inner:List[str],k_inner:int,r_outer:int =1, r_inner:int =1):"
   ]
  },
  {
   "cell_type": "code",
   "execution_count": 10,
   "metadata": {},
   "outputs": [],
   "source": [
    "models_dict = {\"RandomForest\": [{\"n_estimators\": 10, \"max_depth\": 5},{\"n_estimators\": 50, \"max_depth\": 10}]}\n",
    "# models_dict = {\"RandomForest\": [{\"n_estimators\": 10, \"max_depth\": 5}]}\n",
    "inputs =[{\"numerical\":[\"conversations_text-embedding-3-small_embeddings\"]},\n",
    "         {\"numerical\":[\"conversations_text-embedding-3-large_embeddings\"]},\n",
    "         {\"numerical\":[\"conversations_text-embedding-3-small_embeddings\",\"conversations_text-embedding-3-large_embeddings\"]}]\n",
    "# inputs = [inputs[0]]\n"
   ]
  },
  {
   "cell_type": "code",
   "execution_count": 11,
   "metadata": {},
   "outputs": [],
   "source": [
    "# results,pred=cf.train_nested_cv(df = embedded_df,\n",
    "#                      cv_type=(\"stratified\",\"stratified\"),\n",
    "#                      inputs=inputs,\n",
    "#                      models=models_dict,\n",
    "#                      group_outer=[\"target\"],\n",
    "#                      k_outer = 2,\n",
    "#                      group_inner=[\"target\"],\n",
    "#                      k_inner = 2,\n",
    "#                      r_outer=1,\n",
    "#                      r_inner=1,\n",
    "#                      save_name=\"test\",\n",
    "#                      base_path=base_path,)\n"
   ]
  },
  {
   "cell_type": "code",
   "execution_count": 12,
   "metadata": {},
   "outputs": [],
   "source": [
    "# summary = cf.results_summary(results,by_test_fold=True)\n",
    "# summary"
   ]
  },
  {
   "cell_type": "code",
   "execution_count": 13,
   "metadata": {},
   "outputs": [],
   "source": [
    "# for res in summary.sort(by=\"mcc_val\",descending=True).rows(named=True):\n",
    "#     print(res[\"input_features_name\"],res[\"classifier_hp\"],res[\"mcc_val\"])"
   ]
  },
  {
   "cell_type": "code",
   "execution_count": 14,
   "metadata": {},
   "outputs": [],
   "source": [
    "# results,pred=cf.train_nested_cv_simple(df = embedded_df,\n",
    "#                      cv_type=(\"stratified\",\"stratified\"),\n",
    "#                      inputs=inputs,\n",
    "#                      models=models_dict,\n",
    "#                      group_outer=[\"target\"],\n",
    "#                      k_outer = 2,\n",
    "#                      group_inner=[\"target\"],\n",
    "#                      k_inner = 2,\n",
    "#                      r_outer=1,\n",
    "#                      r_inner=1,\n",
    "#                      save_name=\"test\",\n",
    "#                      base_path=base_path,)"
   ]
  },
  {
   "cell_type": "code",
   "execution_count": 15,
   "metadata": {},
   "outputs": [],
   "source": [
    "# summary = cf.results_summary(results,by_test_fold=True)\n",
    "# summary"
   ]
  },
  {
   "cell_type": "code",
   "execution_count": 23,
   "metadata": {},
   "outputs": [
    {
     "name": "stdout",
     "output_type": "stream",
     "text": [
      "cv_type: stratified\n",
      "cv_type: stratified\n",
      "cv_creation_time: 0.10102152824401855\n",
      "fit_time: 138.0366189479828\n",
      "average time per fold: 3.4509154736995695\n",
      "aggregation_time: 0.0004992485046386719\n",
      "Saving results to c:\\Users\\Tommaso\\Documents\\Dev\\Cynde\\data_processed\\results_2024-02-26_15-46-42_test.parquet\n",
      "save_time: 2.110860824584961\n",
      "total_time: 140.2490005493164\n",
      "Total average time per fold: 3.50622501373291\n"
     ]
    }
   ],
   "source": [
    "results,pred=cf.train_nested_cv_simple(df = embedded_df,\n",
    "                     cv_type=(\"stratified\",\"stratified\"),\n",
    "                     inputs=inputs,\n",
    "                     models=models_dict,\n",
    "                     group_outer=[\"target\"],\n",
    "                     k_outer = 2,\n",
    "                     group_inner=[\"target\"],\n",
    "                     k_inner = 2,\n",
    "                     r_outer=10,\n",
    "                     r_inner=1,\n",
    "                     save_name=\"test\",\n",
    "                     base_path=base_path,\n",
    "                     skip_class=True)# "
   ]
  },
  {
   "cell_type": "code",
   "execution_count": 21,
   "metadata": {},
   "outputs": [
    {
     "name": "stdout",
     "output_type": "stream",
     "text": [
      "cv_type: stratified\n",
      "cv_type: stratified\n",
      "cv_creation_time: 0.1010141372680664\n",
      "fit_time: 455.80155086517334\n",
      "average time per fold: 11.395038771629334\n",
      "aggregation_time: 0.130018949508667\n",
      "Saving results to c:\\Users\\Tommaso\\Documents\\Dev\\Cynde\\data_processed\\results_2024-02-26_15-37-37_test.parquet\n",
      "save_time: 4.233220815658569\n",
      "total_time: 460.26580476760864\n",
      "Total average time per fold: 11.506645119190216\n"
     ]
    }
   ],
   "source": [
    "results,pred=cf.train_nested_cv_simple(df = embedded_df,\n",
    "                     cv_type=(\"stratified\",\"stratified\"),\n",
    "                     inputs=inputs,\n",
    "                     models=models_dict,\n",
    "                     group_outer=[\"target\"],\n",
    "                     k_outer = 2,\n",
    "                     group_inner=[\"target\"],\n",
    "                     k_inner = 2,\n",
    "                     r_outer=10,\n",
    "                     r_inner=1,\n",
    "                     save_name=\"test\",\n",
    "                     base_path=base_path,\n",
    "                     skip_class=False)# "
   ]
  },
  {
   "cell_type": "code",
   "execution_count": 25,
   "metadata": {},
   "outputs": [
    {
     "name": "stdout",
     "output_type": "stream",
     "text": [
      "cv_type: stratified\n",
      "cv_type: stratified\n",
      "results schema:  OrderedDict([('classifier', String), ('classifier_hp', String), ('fold_name', String), ('pred_name', String), ('input_features_name', String), ('accuracy_train', Float64), ('accuracy_val', Float64), ('accuracy_test', Float64), ('mcc_train', Float64), ('mcc_val', Float64), ('mcc_test', Float64), ('train_index', List(UInt32)), ('val_index', List(UInt32)), ('test_index', List(UInt32)), ('train_time', String), ('pred_time', String), ('eval_time', String), ('total_cls_time', String), ('k_outer', Int64), ('k_inner', Int64), ('r_outer', Int64), ('r_inner', Int64)])\n",
      "results shape: (0, 22)\n",
      "Feature array shape for conversations_text-embedding-3-small_embeddings: (5824, 1536)\n",
      "Feature array shape for conversations_text-embedding-3-large_embeddings: (5824, 3072)\n",
      "Feature array shape for conversations_text-embedding-3-small_embeddings_conversations_text-embedding-3-large_embeddings: (5824, 4608)\n",
      "Preprocessing completed in 3.3631350994110107 seconds\n",
      "Folds generation and model fitting completed in 6.591411352157593 seconds\n",
      "Average time per fold: 0.1647852838039398\n",
      "Aggregation of results completed in 0.0 seconds\n",
      "Saving results to c:\\Users\\Tommaso\\Documents\\Dev\\Cynde\\data_processed\\results_2024-02-26_15-47-26_test.parquet\n",
      "Saving results completed in 2.10050106048584 seconds\n",
      "Total training and processing time: 12.179049253463745 seconds\n",
      "Total average time per fold: 0.30447623133659363 seconds\n"
     ]
    }
   ],
   "source": [
    "results,pred=cf.train_nested_cv_from_np(df = embedded_df,\n",
    "                     cv_type=(\"stratified\",\"stratified\"),\n",
    "                     inputs=inputs,\n",
    "                     models=models_dict,\n",
    "                     group_outer=[\"target\"],\n",
    "                     k_outer = 2,\n",
    "                     group_inner=[\"target\"],\n",
    "                     k_inner = 2,\n",
    "                     r_outer=10,\n",
    "                     r_inner=1,\n",
    "                     save_name=\"test\",\n",
    "                     base_path=base_path,\n",
    "                     skip_class=True)"
   ]
  },
  {
   "cell_type": "code",
   "execution_count": 22,
   "metadata": {},
   "outputs": [
    {
     "name": "stdout",
     "output_type": "stream",
     "text": [
      "cv_type: stratified\n",
      "cv_type: stratified\n",
      "results schema:  OrderedDict([('classifier', String), ('classifier_hp', String), ('fold_name', String), ('pred_name', String), ('input_features_name', String), ('accuracy_train', Float64), ('accuracy_val', Float64), ('accuracy_test', Float64), ('mcc_train', Float64), ('mcc_val', Float64), ('mcc_test', Float64), ('train_index', List(UInt32)), ('val_index', List(UInt32)), ('test_index', List(UInt32)), ('train_time', String), ('pred_time', String), ('eval_time', String), ('total_cls_time', String), ('k_outer', Int64), ('k_inner', Int64), ('r_outer', Int64), ('r_inner', Int64)])\n",
      "results shape: (0, 22)\n",
      "Feature array shape for conversations_text-embedding-3-small_embeddings: (5824, 1536)\n",
      "Feature array shape for conversations_text-embedding-3-large_embeddings: (5824, 3072)\n",
      "Feature array shape for conversations_text-embedding-3-small_embeddings_conversations_text-embedding-3-large_embeddings: (5824, 4608)\n",
      "Preprocessing completed in 3.4060003757476807 seconds\n",
      "Folds generation and model fitting completed in 334.23896741867065 seconds\n",
      "Average time per fold: 8.355974185466767\n",
      "Aggregation of results completed in 0.12001705169677734 seconds\n",
      "Saving results to c:\\Users\\Tommaso\\Documents\\Dev\\Cynde\\data_processed\\results_2024-02-26_15-43-19_test.parquet\n",
      "Saving results completed in 4.235713481903076 seconds\n",
      "Total training and processing time: 342.11071252822876 seconds\n",
      "Total average time per fold: 8.552767813205719 seconds\n"
     ]
    }
   ],
   "source": [
    "results,pred=cf.train_nested_cv_from_np(df = embedded_df,\n",
    "                     cv_type=(\"stratified\",\"stratified\"),\n",
    "                     inputs=inputs,\n",
    "                     models=models_dict,\n",
    "                     group_outer=[\"target\"],\n",
    "                     k_outer = 2,\n",
    "                     group_inner=[\"target\"],\n",
    "                     k_inner = 2,\n",
    "                     r_outer=10,\n",
    "                     r_inner=1,\n",
    "                     save_name=\"test\",\n",
    "                     base_path=base_path,\n",
    "                     skip_class=False)"
   ]
  },
  {
   "cell_type": "code",
   "execution_count": 18,
   "metadata": {},
   "outputs": [
    {
     "data": {
      "text/html": [
       "<div><style>\n",
       ".dataframe > thead > tr,\n",
       ".dataframe > tbody > tr {\n",
       "  text-align: right;\n",
       "  white-space: pre-wrap;\n",
       "}\n",
       "</style>\n",
       "<small>shape: (6, 12)</small><table border=\"1\" class=\"dataframe\"><thead><tr><th>classifier</th><th>classifier_hp</th><th>input_features_name</th><th>r_outer</th><th>r_inner</th><th>mcc_train</th><th>mcc_val</th><th>mcc_test</th><th>accuracy_train</th><th>accuracy_val</th><th>accuracy_test</th><th>n</th></tr><tr><td>str</td><td>str</td><td>str</td><td>i64</td><td>i64</td><td>f64</td><td>f64</td><td>f64</td><td>f64</td><td>f64</td><td>f64</td><td>u32</td></tr></thead><tbody><tr><td>&quot;RandomForest&quot;</td><td>&quot;n_estimators_5…</td><td>&quot;conversations_…</td><td>0</td><td>0</td><td>0.999655</td><td>0.876838</td><td>0.878368</td><td>0.999828</td><td>0.938702</td><td>0.939475</td><td>4</td></tr><tr><td>&quot;RandomForest&quot;</td><td>&quot;n_estimators_5…</td><td>&quot;conversations_…</td><td>0</td><td>0</td><td>0.999655</td><td>0.875123</td><td>0.868604</td><td>0.999828</td><td>0.937843</td><td>0.934581</td><td>4</td></tr><tr><td>&quot;RandomForest&quot;</td><td>&quot;n_estimators_5…</td><td>&quot;conversations_…</td><td>0</td><td>0</td><td>0.999655</td><td>0.829189</td><td>0.836273</td><td>0.999828</td><td>0.915007</td><td>0.918441</td><td>4</td></tr><tr><td>&quot;RandomForest&quot;</td><td>&quot;n_estimators_1…</td><td>&quot;conversations_…</td><td>0</td><td>0</td><td>0.930615</td><td>0.77381</td><td>0.774594</td><td>0.965488</td><td>0.887534</td><td>0.887964</td><td>4</td></tr><tr><td>&quot;RandomForest&quot;</td><td>&quot;n_estimators_1…</td><td>&quot;conversations_…</td><td>0</td><td>0</td><td>0.928554</td><td>0.768298</td><td>0.765439</td><td>0.964457</td><td>0.884787</td><td>0.883328</td><td>4</td></tr><tr><td>&quot;RandomForest&quot;</td><td>&quot;n_estimators_1…</td><td>&quot;conversations_…</td><td>0</td><td>0</td><td>0.893987</td><td>0.727273</td><td>0.720735</td><td>0.947287</td><td>0.864354</td><td>0.861178</td><td>4</td></tr></tbody></table></div>"
      ],
      "text/plain": [
       "shape: (6, 12)\n",
       "┌─────────────┬────────────┬────────────┬─────────┬───┬────────────┬────────────┬────────────┬─────┐\n",
       "│ classifier  ┆ classifier ┆ input_feat ┆ r_outer ┆ … ┆ accuracy_t ┆ accuracy_v ┆ accuracy_t ┆ n   │\n",
       "│ ---         ┆ _hp        ┆ ures_name  ┆ ---     ┆   ┆ rain       ┆ al         ┆ est        ┆ --- │\n",
       "│ str         ┆ ---        ┆ ---        ┆ i64     ┆   ┆ ---        ┆ ---        ┆ ---        ┆ u32 │\n",
       "│             ┆ str        ┆ str        ┆         ┆   ┆ f64        ┆ f64        ┆ f64        ┆     │\n",
       "╞═════════════╪════════════╪════════════╪═════════╪═══╪════════════╪════════════╪════════════╪═════╡\n",
       "│ RandomFores ┆ n_estimato ┆ conversati ┆ 0       ┆ … ┆ 0.999828   ┆ 0.938702   ┆ 0.939475   ┆ 4   │\n",
       "│ t           ┆ rs_50_max_ ┆ ons_text-e ┆         ┆   ┆            ┆            ┆            ┆     │\n",
       "│             ┆ depth_10   ┆ mbedding-3 ┆         ┆   ┆            ┆            ┆            ┆     │\n",
       "│             ┆            ┆ -l…        ┆         ┆   ┆            ┆            ┆            ┆     │\n",
       "│ RandomFores ┆ n_estimato ┆ conversati ┆ 0       ┆ … ┆ 0.999828   ┆ 0.937843   ┆ 0.934581   ┆ 4   │\n",
       "│ t           ┆ rs_50_max_ ┆ ons_text-e ┆         ┆   ┆            ┆            ┆            ┆     │\n",
       "│             ┆ depth_10   ┆ mbedding-3 ┆         ┆   ┆            ┆            ┆            ┆     │\n",
       "│             ┆            ┆ -s…        ┆         ┆   ┆            ┆            ┆            ┆     │\n",
       "│ RandomFores ┆ n_estimato ┆ conversati ┆ 0       ┆ … ┆ 0.999828   ┆ 0.915007   ┆ 0.918441   ┆ 4   │\n",
       "│ t           ┆ rs_50_max_ ┆ ons_text-e ┆         ┆   ┆            ┆            ┆            ┆     │\n",
       "│             ┆ depth_10   ┆ mbedding-3 ┆         ┆   ┆            ┆            ┆            ┆     │\n",
       "│             ┆            ┆ -s…        ┆         ┆   ┆            ┆            ┆            ┆     │\n",
       "│ RandomFores ┆ n_estimato ┆ conversati ┆ 0       ┆ … ┆ 0.965488   ┆ 0.887534   ┆ 0.887964   ┆ 4   │\n",
       "│ t           ┆ rs_10_max_ ┆ ons_text-e ┆         ┆   ┆            ┆            ┆            ┆     │\n",
       "│             ┆ depth_5    ┆ mbedding-3 ┆         ┆   ┆            ┆            ┆            ┆     │\n",
       "│             ┆            ┆ -s…        ┆         ┆   ┆            ┆            ┆            ┆     │\n",
       "│ RandomFores ┆ n_estimato ┆ conversati ┆ 0       ┆ … ┆ 0.964457   ┆ 0.884787   ┆ 0.883328   ┆ 4   │\n",
       "│ t           ┆ rs_10_max_ ┆ ons_text-e ┆         ┆   ┆            ┆            ┆            ┆     │\n",
       "│             ┆ depth_5    ┆ mbedding-3 ┆         ┆   ┆            ┆            ┆            ┆     │\n",
       "│             ┆            ┆ -l…        ┆         ┆   ┆            ┆            ┆            ┆     │\n",
       "│ RandomFores ┆ n_estimato ┆ conversati ┆ 0       ┆ … ┆ 0.947287   ┆ 0.864354   ┆ 0.861178   ┆ 4   │\n",
       "│ t           ┆ rs_10_max_ ┆ ons_text-e ┆         ┆   ┆            ┆            ┆            ┆     │\n",
       "│             ┆ depth_5    ┆ mbedding-3 ┆         ┆   ┆            ┆            ┆            ┆     │\n",
       "│             ┆            ┆ -s…        ┆         ┆   ┆            ┆            ┆            ┆     │\n",
       "└─────────────┴────────────┴────────────┴─────────┴───┴────────────┴────────────┴────────────┴─────┘"
      ]
     },
     "execution_count": 18,
     "metadata": {},
     "output_type": "execute_result"
    }
   ],
   "source": [
    "summary = cf.results_summary(results,by_test_fold=True)\n",
    "summary"
   ]
  }
 ],
 "metadata": {
  "kernelspec": {
   "display_name": "Python 3",
   "language": "python",
   "name": "python3"
  },
  "language_info": {
   "codemirror_mode": {
    "name": "ipython",
    "version": 3
   },
   "file_extension": ".py",
   "mimetype": "text/x-python",
   "name": "python",
   "nbconvert_exporter": "python",
   "pygments_lexer": "ipython3",
   "version": "3.10.6"
  }
 },
 "nbformat": 4,
 "nbformat_minor": 2
}
