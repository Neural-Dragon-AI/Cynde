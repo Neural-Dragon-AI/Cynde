{
 "cells": [
  {
   "cell_type": "code",
   "execution_count": 1,
   "metadata": {},
   "outputs": [],
   "source": [
    "from datasets import load_dataset\n",
    "import polars as pl\n",
    "import os\n",
    "import cynde.functional as cf"
   ]
  },
  {
   "cell_type": "code",
   "execution_count": 2,
   "metadata": {},
   "outputs": [
    {
     "name": "stdout",
     "output_type": "stream",
     "text": [
      "c:\\Users\\Tommaso\\Documents\\Dev\\Cynde\\cache\n"
     ]
    }
   ],
   "source": [
    "# Get the directory above the current directory\n",
    "above_dir = os.path.dirname(os.getcwd())\n",
    "\n",
    "# Specify the cache directory as 'data' subdirectory within the current directory\n",
    "cache_dir = os.path.join(above_dir, \"cache\")\n",
    "print(cache_dir)"
   ]
  },
  {
   "cell_type": "code",
   "execution_count": 3,
   "metadata": {},
   "outputs": [],
   "source": [
    "dataset_name = \"OpenHermes-2.5\"\n",
    "dataset_path = os.path.join(cache_dir, dataset_name)\n"
   ]
  },
  {
   "cell_type": "code",
   "execution_count": 4,
   "metadata": {},
   "outputs": [
    {
     "data": {
      "text/html": [
       "<div><style>\n",
       ".dataframe > thead > tr,\n",
       ".dataframe > tbody > tr {\n",
       "  text-align: right;\n",
       "  white-space: pre-wrap;\n",
       "}\n",
       "</style>\n",
       "<small>shape: (1, 2)</small><table border=\"1\" class=\"dataframe\"><thead><tr><th>conversations</th><th>source</th></tr><tr><td>list[struct[3]]</td><td>str</td></tr></thead><tbody><tr><td>[{&quot;human&quot;,&quot;Given the following list of words, categorize them into 5 categories by similarity: [&#x27;Heart&#x27;, &#x27;Liver&#x27;, &#x27;Kidney&#x27;, &#x27;Brain&#x27;, &#x27;Stomach&#x27;, &#x27;Skin&#x27;, &#x27;Lung&#x27;, &#x27;Muscle&#x27;, &#x27;Intestine&#x27;, &#x27;Bone&#x27;, &#x27;Pancreas&#x27;, &#x27;Blood&#x27;, &#x27;Eye&#x27;, &#x27;Ear&#x27;, &#x27;Nose&#x27;, &#x27;Mouth&#x27;, &#x27;Esophagus&#x27;, &#x27;Throat&#x27;, &#x27;Spinal Cord&#x27;, &#x27;Bladder&#x27;]&quot;,null}, {&quot;gpt&quot;,&quot;Here are the given words categorized into 5 groups based on their similarity:\n",
       "\n",
       "1. Vital Organs:\n",
       "- Heart\n",
       "- Liver\n",
       "- Kidney\n",
       "- Lung\n",
       "- Pancreas\n",
       "\n",
       "2. Digestive System Components:\n",
       "- Stomach\n",
       "- Intestine\n",
       "- Esophagus\n",
       "- Throat\n",
       "- Mouth\n",
       "\n",
       "3. Sensory Organs:\n",
       "- Eye\n",
       "- Ear\n",
       "- Nose\n",
       "\n",
       "4. Support and Movement:\n",
       "- Bone\n",
       "- Muscle\n",
       "- Spinal Cord\n",
       "- Skin\n",
       "\n",
       "5. Body Fluids and Waste Management:\n",
       "- Blood\n",
       "- Bladder&quot;,null}, … {&quot;gpt&quot;,&quot;1) Vital Organs:\n",
       "- Diseases or disorders affecting one vital organ can impact the functioning of others. For example, heart failure can lead to fluid buildup in the lungs, affecting their function. Liver disease can cause toxins to accumulate in the bloodstream, potentially affecting brain function. Kidney disease can lead to electrolyte imbalances, which can impact heart function.\n",
       "- Organ transplantation involves replacing a damaged organ with a healthy one from a donor. Examples include heart, liver, kidney, lung, and pancreas transplants. Challenges include finding compatible donors, managing immune system rejection, and addressing surgical complications.\n",
       "\n",
       "2) Digestive System Components:\n",
       "- Common digestive disorders include gastroesophageal reflux disease (GERD), irritable bowel syndrome (IBS), inflammatory bowel disease (IBD), and peptic ulcers. Causes may include genetic factors, lifestyle choices, stress, infections, or immune system dysfunction.\n",
       "- The gut microbiome comprises trillions of microorganisms that aid in digestion, nutrient absorption, and immune system function. It can also influence mental health and contribute to the prevention or development of various diseases.\n",
       "\n",
       "3) Sensory Organs:\n",
       "- Optical illusions work by exploiting the brain&#x27;s visual processing system, causing it to misinterpret sensory information. They reveal that our perception of reality can be influenced by factors such as context, contrast, and patterns.\n",
       "- Animals&#x27; sensory organs can differ significantly from humans&#x27;, offering unique capabilities. For example, dogs have a heightened sense of smell, eagles have exceptional long-distance vision, and bats use echolocation for navigation and foraging.\n",
       "\n",
       "4) Support and Movement:\n",
       "- Exercise and physical activity promote bone and muscle health by stimulating bone growth, increasing bone density, and strengthening muscles. This helps prevent age-related bone loss and reduces the risk of injury.\n",
       "- Spinal cord injuries can have varying effects depending on the location and severity of the injury. Injuries can result in temporary or permanent loss of sensation, mobility, and other bodily functions. Paraplegia (paralysis of the legs and lower body) and quadriplegia (paralysis of all four limbs) are examples of potential outcomes of spinal cord injuries.\n",
       "\n",
       "5) Body Fluids and Waste Management:\n",
       "- Blood types affect transfusions and organ transplants because of the presence of specific antigens on red blood cells. Incompatible blood types can cause an immune response, resulting in transfusion reactions or organ rejection.\n",
       "- Common bladder disorders include urinary incontinence, urinary tract infections (UTIs), interstitial cystitis, and bladder cancer. Treatments and management strategies can vary, including medication, lifestyle changes, physical therapy, or surgical interventions.&quot;,null}]</td><td>&quot;caseus_custom&quot;</td></tr></tbody></table></div>"
      ],
      "text/plain": [
       "shape: (1, 2)\n",
       "┌───────────────────────────────────┬───────────────┐\n",
       "│ conversations                     ┆ source        │\n",
       "│ ---                               ┆ ---           │\n",
       "│ list[struct[3]]                   ┆ str           │\n",
       "╞═══════════════════════════════════╪═══════════════╡\n",
       "│ [{\"human\",\"Given the following l… ┆ caseus_custom │\n",
       "└───────────────────────────────────┴───────────────┘"
      ]
     },
     "execution_count": 4,
     "metadata": {},
     "output_type": "execute_result"
    }
   ],
   "source": [
    "df = pl.read_parquet(dataset_path+\"_filtered.parquet\")\n",
    "df.head(1)\n"
   ]
  },
  {
   "cell_type": "code",
   "execution_count": 5,
   "metadata": {},
   "outputs": [
    {
     "data": {
      "text/html": [
       "<div><style>\n",
       ".dataframe > thead > tr,\n",
       ".dataframe > tbody > tr {\n",
       "  text-align: right;\n",
       "  white-space: pre-wrap;\n",
       "}\n",
       "</style>\n",
       "<small>shape: (2, 2)</small><table border=\"1\" class=\"dataframe\"><thead><tr><th>source</th><th>count</th></tr><tr><td>str</td><td>u32</td></tr></thead><tbody><tr><td>&quot;caseus_custom&quot;</td><td>2688</td></tr><tr><td>&quot;LMSys Chatbot …</td><td>3136</td></tr></tbody></table></div>"
      ],
      "text/plain": [
       "shape: (2, 2)\n",
       "┌─────────────────────┬───────┐\n",
       "│ source              ┆ count │\n",
       "│ ---                 ┆ ---   │\n",
       "│ str                 ┆ u32   │\n",
       "╞═════════════════════╪═══════╡\n",
       "│ caseus_custom       ┆ 2688  │\n",
       "│ LMSys Chatbot Arena ┆ 3136  │\n",
       "└─────────────────────┴───────┘"
      ]
     },
     "execution_count": 5,
     "metadata": {},
     "output_type": "execute_result"
    }
   ],
   "source": [
    "df[\"source\"].value_counts()"
   ]
  },
  {
   "cell_type": "code",
   "execution_count": 6,
   "metadata": {},
   "outputs": [],
   "source": [
    "df = df.with_columns(pl.col(\"conversations\").list.eval(pl.element().struct.json_encode()).list.join(\"\\n\"),(pl.col(\"source\")==\"caseus_custom\").alias(\"target\"))"
   ]
  },
  {
   "cell_type": "code",
   "execution_count": 7,
   "metadata": {},
   "outputs": [],
   "source": [
    "#check if the embedded df already exist at dataset_path+\"_embedded.parquet\"\n",
    "if not os.path.exists(dataset_path+\"_embedded_small_large.parquet\"):\n",
    "    embedded_df = cf.embed_columns(df, [\"conversations\"],models=[\"text-embedding-3-small\",\"text-embedding-3-large\"])\n",
    "    embedded_df.write_parquet(dataset_path+\"_embedded_small_large.parquet\")\n",
    "else:\n",
    "    embedded_df = pl.read_parquet(dataset_path+\"_embedded_small_large.parquet\")"
   ]
  },
  {
   "cell_type": "code",
   "execution_count": 8,
   "metadata": {},
   "outputs": [
    {
     "data": {
      "text/html": [
       "<div><style>\n",
       ".dataframe > thead > tr,\n",
       ".dataframe > tbody > tr {\n",
       "  text-align: right;\n",
       "  white-space: pre-wrap;\n",
       "}\n",
       "</style>\n",
       "<small>shape: (2, 2)</small><table border=\"1\" class=\"dataframe\"><thead><tr><th>target</th><th>count</th></tr><tr><td>bool</td><td>u32</td></tr></thead><tbody><tr><td>true</td><td>2688</td></tr><tr><td>false</td><td>3136</td></tr></tbody></table></div>"
      ],
      "text/plain": [
       "shape: (2, 2)\n",
       "┌────────┬───────┐\n",
       "│ target ┆ count │\n",
       "│ ---    ┆ ---   │\n",
       "│ bool   ┆ u32   │\n",
       "╞════════╪═══════╡\n",
       "│ true   ┆ 2688  │\n",
       "│ false  ┆ 3136  │\n",
       "└────────┴───────┘"
      ]
     },
     "execution_count": 8,
     "metadata": {},
     "output_type": "execute_result"
    }
   ],
   "source": [
    "df[\"target\"].value_counts()"
   ]
  },
  {
   "cell_type": "code",
   "execution_count": 9,
   "metadata": {},
   "outputs": [
    {
     "data": {
      "text/html": [
       "<div><style>\n",
       ".dataframe > thead > tr,\n",
       ".dataframe > tbody > tr {\n",
       "  text-align: right;\n",
       "  white-space: pre-wrap;\n",
       "}\n",
       "</style>\n",
       "<small>shape: (5_824, 6)</small><table border=\"1\" class=\"dataframe\"><thead><tr><th>cv_index</th><th>fold_0</th><th>fold_1</th><th>fold_2</th><th>fold_3</th><th>fold_4</th></tr><tr><td>u32</td><td>str</td><td>str</td><td>str</td><td>str</td><td>str</td></tr></thead><tbody><tr><td>943</td><td>&quot;test&quot;</td><td>&quot;train&quot;</td><td>&quot;train&quot;</td><td>&quot;train&quot;</td><td>&quot;train&quot;</td></tr><tr><td>2729</td><td>&quot;test&quot;</td><td>&quot;train&quot;</td><td>&quot;train&quot;</td><td>&quot;train&quot;</td><td>&quot;train&quot;</td></tr><tr><td>2223</td><td>&quot;test&quot;</td><td>&quot;train&quot;</td><td>&quot;train&quot;</td><td>&quot;train&quot;</td><td>&quot;train&quot;</td></tr><tr><td>4291</td><td>&quot;test&quot;</td><td>&quot;train&quot;</td><td>&quot;train&quot;</td><td>&quot;train&quot;</td><td>&quot;train&quot;</td></tr><tr><td>1022</td><td>&quot;test&quot;</td><td>&quot;train&quot;</td><td>&quot;train&quot;</td><td>&quot;train&quot;</td><td>&quot;train&quot;</td></tr><tr><td>3305</td><td>&quot;test&quot;</td><td>&quot;train&quot;</td><td>&quot;train&quot;</td><td>&quot;train&quot;</td><td>&quot;train&quot;</td></tr><tr><td>4465</td><td>&quot;test&quot;</td><td>&quot;train&quot;</td><td>&quot;train&quot;</td><td>&quot;train&quot;</td><td>&quot;train&quot;</td></tr><tr><td>3784</td><td>&quot;test&quot;</td><td>&quot;train&quot;</td><td>&quot;train&quot;</td><td>&quot;train&quot;</td><td>&quot;train&quot;</td></tr><tr><td>2899</td><td>&quot;test&quot;</td><td>&quot;train&quot;</td><td>&quot;train&quot;</td><td>&quot;train&quot;</td><td>&quot;train&quot;</td></tr><tr><td>625</td><td>&quot;test&quot;</td><td>&quot;train&quot;</td><td>&quot;train&quot;</td><td>&quot;train&quot;</td><td>&quot;train&quot;</td></tr><tr><td>20</td><td>&quot;test&quot;</td><td>&quot;train&quot;</td><td>&quot;train&quot;</td><td>&quot;train&quot;</td><td>&quot;train&quot;</td></tr><tr><td>2720</td><td>&quot;test&quot;</td><td>&quot;train&quot;</td><td>&quot;train&quot;</td><td>&quot;train&quot;</td><td>&quot;train&quot;</td></tr><tr><td>&hellip;</td><td>&hellip;</td><td>&hellip;</td><td>&hellip;</td><td>&hellip;</td><td>&hellip;</td></tr><tr><td>2888</td><td>&quot;train&quot;</td><td>&quot;train&quot;</td><td>&quot;train&quot;</td><td>&quot;train&quot;</td><td>&quot;test&quot;</td></tr><tr><td>5277</td><td>&quot;train&quot;</td><td>&quot;train&quot;</td><td>&quot;train&quot;</td><td>&quot;train&quot;</td><td>&quot;test&quot;</td></tr><tr><td>3576</td><td>&quot;train&quot;</td><td>&quot;train&quot;</td><td>&quot;train&quot;</td><td>&quot;train&quot;</td><td>&quot;test&quot;</td></tr><tr><td>2460</td><td>&quot;train&quot;</td><td>&quot;train&quot;</td><td>&quot;train&quot;</td><td>&quot;train&quot;</td><td>&quot;test&quot;</td></tr><tr><td>3313</td><td>&quot;train&quot;</td><td>&quot;train&quot;</td><td>&quot;train&quot;</td><td>&quot;train&quot;</td><td>&quot;test&quot;</td></tr><tr><td>4441</td><td>&quot;train&quot;</td><td>&quot;train&quot;</td><td>&quot;train&quot;</td><td>&quot;train&quot;</td><td>&quot;test&quot;</td></tr><tr><td>4920</td><td>&quot;train&quot;</td><td>&quot;train&quot;</td><td>&quot;train&quot;</td><td>&quot;train&quot;</td><td>&quot;test&quot;</td></tr><tr><td>2212</td><td>&quot;train&quot;</td><td>&quot;train&quot;</td><td>&quot;train&quot;</td><td>&quot;train&quot;</td><td>&quot;test&quot;</td></tr><tr><td>620</td><td>&quot;train&quot;</td><td>&quot;train&quot;</td><td>&quot;train&quot;</td><td>&quot;train&quot;</td><td>&quot;test&quot;</td></tr><tr><td>2886</td><td>&quot;train&quot;</td><td>&quot;train&quot;</td><td>&quot;train&quot;</td><td>&quot;train&quot;</td><td>&quot;test&quot;</td></tr><tr><td>801</td><td>&quot;train&quot;</td><td>&quot;train&quot;</td><td>&quot;train&quot;</td><td>&quot;train&quot;</td><td>&quot;test&quot;</td></tr><tr><td>4358</td><td>&quot;train&quot;</td><td>&quot;train&quot;</td><td>&quot;train&quot;</td><td>&quot;train&quot;</td><td>&quot;test&quot;</td></tr></tbody></table></div>"
      ],
      "text/plain": [
       "shape: (5_824, 6)\n",
       "┌──────────┬────────┬────────┬────────┬────────┬────────┐\n",
       "│ cv_index ┆ fold_0 ┆ fold_1 ┆ fold_2 ┆ fold_3 ┆ fold_4 │\n",
       "│ ---      ┆ ---    ┆ ---    ┆ ---    ┆ ---    ┆ ---    │\n",
       "│ u32      ┆ str    ┆ str    ┆ str    ┆ str    ┆ str    │\n",
       "╞══════════╪════════╪════════╪════════╪════════╪════════╡\n",
       "│ 943      ┆ test   ┆ train  ┆ train  ┆ train  ┆ train  │\n",
       "│ 2729     ┆ test   ┆ train  ┆ train  ┆ train  ┆ train  │\n",
       "│ 2223     ┆ test   ┆ train  ┆ train  ┆ train  ┆ train  │\n",
       "│ 4291     ┆ test   ┆ train  ┆ train  ┆ train  ┆ train  │\n",
       "│ 1022     ┆ test   ┆ train  ┆ train  ┆ train  ┆ train  │\n",
       "│ …        ┆ …      ┆ …      ┆ …      ┆ …      ┆ …      │\n",
       "│ 2212     ┆ train  ┆ train  ┆ train  ┆ train  ┆ test   │\n",
       "│ 620      ┆ train  ┆ train  ┆ train  ┆ train  ┆ test   │\n",
       "│ 2886     ┆ train  ┆ train  ┆ train  ┆ train  ┆ test   │\n",
       "│ 801      ┆ train  ┆ train  ┆ train  ┆ train  ┆ test   │\n",
       "│ 4358     ┆ train  ┆ train  ┆ train  ┆ train  ┆ test   │\n",
       "└──────────┴────────┴────────┴────────┴────────┴────────┘"
      ]
     },
     "execution_count": 9,
     "metadata": {},
     "output_type": "execute_result"
    }
   ],
   "source": [
    "cf.vanilla_kfold(embedded_df,group=None,k=5)"
   ]
  },
  {
   "cell_type": "markdown",
   "metadata": {},
   "source": [
    "df:pl.DataFrame, cv_type: Tuple[str,str], group_outer:List[str],k_outer:int,group_inner:List[str],k_inner:int,r_outer:int =1, r_inner:int =1):"
   ]
  },
  {
   "cell_type": "code",
   "execution_count": 10,
   "metadata": {},
   "outputs": [],
   "source": [
    "models_dict = {\"RandomForest\": [{\"n_estimators\": 10, \"max_depth\": 5},{\"n_estimators\": 50, \"max_depth\": 10}]}\n",
    "inputs =[{\"numerical\":[\"conversations_text-embedding-3-small_embeddings\"]},\n",
    "         {\"numerical\":[\"conversations_text-embedding-3-large_embeddings\"]},\n",
    "         {\"numerical\":[\"conversations_text-embedding-3-small_embeddings\",\"conversations_text-embedding-3-large_embeddings\"]}]"
   ]
  },
  {
   "cell_type": "code",
   "execution_count": 11,
   "metadata": {},
   "outputs": [
    {
     "name": "stdout",
     "output_type": "stream",
     "text": [
      "cv_type: stratified\n",
      "cv_type: stratified\n",
      "['target', 'cv_index', 'outer_stratified_target_replica_0_fold_0', 'outer_stratified_target_replica_0_fold_1', 'outer_stratified_target_replica_0_fold_0_inner_stratified_target_replica_0_fold_0', 'outer_stratified_target_replica_0_fold_0_inner_stratified_target_replica_0_fold_1', 'outer_stratified_target_replica_0_fold_1_inner_stratified_target_replica_0_fold_0', 'outer_stratified_target_replica_0_fold_1_inner_stratified_target_replica_0_fold_1']\n",
      "Accuracy Test: 0.8729395604395604\n",
      "Accuracy Val: 0.8633241758241759\n",
      "MCC Test: 0.7441075503514313\n",
      "MCC Val: 0.7247126421509431\n",
      "Total CLS time: 00:00:00\n",
      "Accuracy Test: 0.9103708791208791\n",
      "Accuracy Val: 0.9189560439560439\n",
      "MCC Test: 0.8195632322386872\n",
      "MCC Val: 0.8369930128626445\n",
      "Total CLS time: 00:00:01\n",
      "Accuracy Test: 0.8863324175824175\n",
      "Accuracy Val: 0.8853021978021978\n",
      "MCC Test: 0.7718324552445832\n",
      "MCC Val: 0.7696335692960288\n",
      "Total CLS time: 00:00:00\n",
      "Accuracy Test: 0.9395604395604396\n",
      "Accuracy Val: 0.9471153846153846\n",
      "MCC Test: 0.8783850088848137\n",
      "MCC Val: 0.8935985512724516\n",
      "Total CLS time: 00:00:02\n",
      "Accuracy Test: 0.8863324175824175\n",
      "Accuracy Val: 0.885989010989011\n",
      "MCC Test: 0.7711379915798776\n",
      "MCC Val: 0.7706459359543945\n",
      "Total CLS time: 00:00:00\n",
      "Accuracy Test: 0.9388736263736264\n",
      "Accuracy Val: 0.9443681318681318\n",
      "MCC Test: 0.8769697465622648\n",
      "MCC Val: 0.8880627966064798\n",
      "Total CLS time: 00:00:02\n",
      "Accuracy Test: 0.8708791208791209\n",
      "Accuracy Val: 0.8722527472527473\n",
      "MCC Test: 0.7403483807864147\n",
      "MCC Val: 0.7432396300975478\n",
      "Total CLS time: 00:00:00\n",
      "Accuracy Test: 0.9227335164835165\n",
      "Accuracy Val: 0.9168956043956044\n",
      "MCC Test: 0.8445481127714944\n",
      "MCC Val: 0.8332400739373682\n",
      "Total CLS time: 00:00:01\n",
      "Accuracy Test: 0.8873626373626373\n",
      "Accuracy Val: 0.8832417582417582\n",
      "MCC Test: 0.773609460898416\n",
      "MCC Val: 0.7656877258445184\n",
      "Total CLS time: 00:00:00\n",
      "Accuracy Test: 0.9429945054945055\n",
      "Accuracy Val: 0.9471153846153846\n",
      "MCC Test: 0.8852859239302259\n",
      "MCC Val: 0.8937412083937954\n",
      "Total CLS time: 00:00:02\n",
      "Accuracy Test: 0.8959478021978022\n",
      "Accuracy Val: 0.8846153846153846\n",
      "MCC Test: 0.7907921195239533\n",
      "MCC Val: 0.7684728238959954\n",
      "Total CLS time: 00:00:00\n",
      "Accuracy Test: 0.9340659340659341\n",
      "Accuracy Val: 0.9464285714285714\n",
      "MCC Test: 0.8673620150266791\n",
      "MCC Val: 0.8925000769396388\n",
      "Total CLS time: 00:00:02\n",
      "Accuracy Test: 0.8557692307692307\n",
      "Accuracy Val: 0.8585164835164835\n",
      "MCC Test: 0.710106009857259\n",
      "MCC Val: 0.7152886357453799\n",
      "Total CLS time: 00:00:00\n",
      "Accuracy Test: 0.9168956043956044\n",
      "Accuracy Val: 0.915521978021978\n",
      "MCC Test: 0.8327517357174076\n",
      "MCC Val: 0.8299505951765526\n",
      "Total CLS time: 00:00:01\n",
      "Accuracy Test: 0.8921703296703297\n",
      "Accuracy Val: 0.8880494505494505\n",
      "MCC Test: 0.7828936771981784\n",
      "MCC Val: 0.7746648984482998\n",
      "Total CLS time: 00:00:00\n",
      "Accuracy Test: 0.9381868131868132\n",
      "Accuracy Val: 0.9375\n",
      "MCC Test: 0.8756278677069455\n",
      "MCC Val: 0.8743444876774026\n",
      "Total CLS time: 00:00:02\n",
      "Accuracy Test: 0.8921703296703297\n",
      "Accuracy Val: 0.8942307692307693\n",
      "MCC Test: 0.7829098999278263\n",
      "MCC Val: 0.7870936680607031\n",
      "Total CLS time: 00:00:00\n",
      "Accuracy Test: 0.9289148351648352\n",
      "Accuracy Val: 0.9320054945054945\n",
      "MCC Test: 0.8570795483612029\n",
      "MCC Val: 0.8631401088519031\n",
      "Total CLS time: 00:00:02\n",
      "Accuracy Test: 0.8653846153846154\n",
      "Accuracy Val: 0.8894230769230769\n",
      "MCC Test: 0.7289951716774801\n",
      "MCC Val: 0.7773769677728594\n",
      "Total CLS time: 00:00:00\n",
      "Accuracy Test: 0.9206730769230769\n",
      "Accuracy Val: 0.9292582417582418\n",
      "MCC Test: 0.8407773588455646\n",
      "MCC Val: 0.8580721961084679\n",
      "Total CLS time: 00:00:01\n",
      "Accuracy Test: 0.8853021978021978\n",
      "Accuracy Val: 0.8832417582417582\n",
      "MCC Test: 0.7691470485265287\n",
      "MCC Val: 0.7650925007174725\n",
      "Total CLS time: 00:00:00\n",
      "Accuracy Test: 0.9364697802197802\n",
      "Accuracy Val: 0.9443681318681318\n",
      "MCC Test: 0.8727577876342583\n",
      "MCC Val: 0.8880866370759972\n",
      "Total CLS time: 00:00:02\n",
      "Accuracy Test: 0.8801510989010989\n",
      "Accuracy Val: 0.8907967032967034\n",
      "MCC Test: 0.7593508693961681\n",
      "MCC Val: 0.7808553632236706\n",
      "Total CLS time: 00:00:00\n",
      "Accuracy Test: 0.9340659340659341\n",
      "Accuracy Val: 0.9546703296703297\n",
      "MCC Test: 0.8676732094616878\n",
      "MCC Val: 0.9087909297706473\n",
      "Total CLS time: 00:00:02\n",
      "Saving results to ..\\data_processed\\results_2024-02-24_19-28-22_test.parquet\n"
     ]
    }
   ],
   "source": [
    "results,pred=cf.train_nested_cv(df = embedded_df,\n",
    "                     cv_type=(\"stratified\",\"stratified\"),\n",
    "                     inputs=inputs,\n",
    "                     models=models_dict,\n",
    "                     group_outer=[\"target\"],\n",
    "                     k_outer = 2,\n",
    "                     group_inner=[\"target\"],\n",
    "                     k_inner = 2,\n",
    "                     r_outer=1,\n",
    "                     r_inner=1,\n",
    "                     save_name=\"test\")\n"
   ]
  },
  {
   "cell_type": "code",
   "execution_count": 12,
   "metadata": {},
   "outputs": [
    {
     "data": {
      "text/html": [
       "<div><style>\n",
       ".dataframe > thead > tr,\n",
       ".dataframe > tbody > tr {\n",
       "  text-align: right;\n",
       "  white-space: pre-wrap;\n",
       "}\n",
       "</style>\n",
       "<small>shape: (6, 12)</small><table border=\"1\" class=\"dataframe\"><thead><tr><th>classifier</th><th>classifier_hp</th><th>input_features_name</th><th>r_outer</th><th>r_inner</th><th>mcc_train</th><th>mcc_val</th><th>mcc_test</th><th>accuracy_train</th><th>accuracy_val</th><th>accuracy_test</th><th>n</th></tr><tr><td>str</td><td>str</td><td>str</td><td>i64</td><td>i64</td><td>f64</td><td>f64</td><td>f64</td><td>f64</td><td>f64</td><td>f64</td><td>u32</td></tr></thead><tbody><tr><td>&quot;RandomForest&quot;</td><td>&quot;n_estimators_5…</td><td>&quot;conversations_…</td><td>0</td><td>0</td><td>0.999655</td><td>0.888123</td><td>0.867271</td><td>0.999828</td><td>0.944368</td><td>0.93398</td><td>4</td></tr><tr><td>&quot;RandomForest&quot;</td><td>&quot;n_estimators_5…</td><td>&quot;conversations_…</td><td>0</td><td>0</td><td>1.0</td><td>0.887443</td><td>0.878014</td><td>1.0</td><td>0.944025</td><td>0.939303</td><td>4</td></tr><tr><td>&quot;RandomForest&quot;</td><td>&quot;n_estimators_5…</td><td>&quot;conversations_…</td><td>0</td><td>0</td><td>0.998965</td><td>0.839564</td><td>0.83441</td><td>0.999485</td><td>0.920158</td><td>0.917668</td><td>4</td></tr><tr><td>&quot;RandomForest&quot;</td><td>&quot;n_estimators_1…</td><td>&quot;conversations_…</td><td>0</td><td>0</td><td>0.929292</td><td>0.776767</td><td>0.776048</td><td>0.964801</td><td>0.888908</td><td>0.88865</td><td>4</td></tr><tr><td>&quot;RandomForest&quot;</td><td>&quot;n_estimators_1…</td><td>&quot;conversations_…</td><td>0</td><td>0</td><td>0.925072</td><td>0.76877</td><td>0.774371</td><td>0.96274</td><td>0.884959</td><td>0.887792</td><td>4</td></tr><tr><td>&quot;RandomForest&quot;</td><td>&quot;n_estimators_1…</td><td>&quot;conversations_…</td><td>0</td><td>0</td><td>0.903944</td><td>0.740154</td><td>0.730889</td><td>0.952266</td><td>0.870879</td><td>0.866243</td><td>4</td></tr></tbody></table></div>"
      ],
      "text/plain": [
       "shape: (6, 12)\n",
       "┌─────────────┬────────────┬────────────┬─────────┬───┬────────────┬────────────┬────────────┬─────┐\n",
       "│ classifier  ┆ classifier ┆ input_feat ┆ r_outer ┆ … ┆ accuracy_t ┆ accuracy_v ┆ accuracy_t ┆ n   │\n",
       "│ ---         ┆ _hp        ┆ ures_name  ┆ ---     ┆   ┆ rain       ┆ al         ┆ est        ┆ --- │\n",
       "│ str         ┆ ---        ┆ ---        ┆ i64     ┆   ┆ ---        ┆ ---        ┆ ---        ┆ u32 │\n",
       "│             ┆ str        ┆ str        ┆         ┆   ┆ f64        ┆ f64        ┆ f64        ┆     │\n",
       "╞═════════════╪════════════╪════════════╪═════════╪═══╪════════════╪════════════╪════════════╪═════╡\n",
       "│ RandomFores ┆ n_estimato ┆ conversati ┆ 0       ┆ … ┆ 0.999828   ┆ 0.944368   ┆ 0.93398    ┆ 4   │\n",
       "│ t           ┆ rs_50_max_ ┆ ons_text-e ┆         ┆   ┆            ┆            ┆            ┆     │\n",
       "│             ┆ depth_10   ┆ mbedding-3 ┆         ┆   ┆            ┆            ┆            ┆     │\n",
       "│             ┆            ┆ -s…        ┆         ┆   ┆            ┆            ┆            ┆     │\n",
       "│ RandomFores ┆ n_estimato ┆ conversati ┆ 0       ┆ … ┆ 1.0        ┆ 0.944025   ┆ 0.939303   ┆ 4   │\n",
       "│ t           ┆ rs_50_max_ ┆ ons_text-e ┆         ┆   ┆            ┆            ┆            ┆     │\n",
       "│             ┆ depth_10   ┆ mbedding-3 ┆         ┆   ┆            ┆            ┆            ┆     │\n",
       "│             ┆            ┆ -l…        ┆         ┆   ┆            ┆            ┆            ┆     │\n",
       "│ RandomFores ┆ n_estimato ┆ conversati ┆ 0       ┆ … ┆ 0.999485   ┆ 0.920158   ┆ 0.917668   ┆ 4   │\n",
       "│ t           ┆ rs_50_max_ ┆ ons_text-e ┆         ┆   ┆            ┆            ┆            ┆     │\n",
       "│             ┆ depth_10   ┆ mbedding-3 ┆         ┆   ┆            ┆            ┆            ┆     │\n",
       "│             ┆            ┆ -s…        ┆         ┆   ┆            ┆            ┆            ┆     │\n",
       "│ RandomFores ┆ n_estimato ┆ conversati ┆ 0       ┆ … ┆ 0.964801   ┆ 0.888908   ┆ 0.88865    ┆ 4   │\n",
       "│ t           ┆ rs_10_max_ ┆ ons_text-e ┆         ┆   ┆            ┆            ┆            ┆     │\n",
       "│             ┆ depth_5    ┆ mbedding-3 ┆         ┆   ┆            ┆            ┆            ┆     │\n",
       "│             ┆            ┆ -s…        ┆         ┆   ┆            ┆            ┆            ┆     │\n",
       "│ RandomFores ┆ n_estimato ┆ conversati ┆ 0       ┆ … ┆ 0.96274    ┆ 0.884959   ┆ 0.887792   ┆ 4   │\n",
       "│ t           ┆ rs_10_max_ ┆ ons_text-e ┆         ┆   ┆            ┆            ┆            ┆     │\n",
       "│             ┆ depth_5    ┆ mbedding-3 ┆         ┆   ┆            ┆            ┆            ┆     │\n",
       "│             ┆            ┆ -l…        ┆         ┆   ┆            ┆            ┆            ┆     │\n",
       "│ RandomFores ┆ n_estimato ┆ conversati ┆ 0       ┆ … ┆ 0.952266   ┆ 0.870879   ┆ 0.866243   ┆ 4   │\n",
       "│ t           ┆ rs_10_max_ ┆ ons_text-e ┆         ┆   ┆            ┆            ┆            ┆     │\n",
       "│             ┆ depth_5    ┆ mbedding-3 ┆         ┆   ┆            ┆            ┆            ┆     │\n",
       "│             ┆            ┆ -s…        ┆         ┆   ┆            ┆            ┆            ┆     │\n",
       "└─────────────┴────────────┴────────────┴─────────┴───┴────────────┴────────────┴────────────┴─────┘"
      ]
     },
     "execution_count": 12,
     "metadata": {},
     "output_type": "execute_result"
    }
   ],
   "source": [
    "summary = cf.results_summary(results,by_test_fold=True)\n",
    "summary"
   ]
  },
  {
   "cell_type": "code",
   "execution_count": 13,
   "metadata": {},
   "outputs": [
    {
     "name": "stdout",
     "output_type": "stream",
     "text": [
      "conversations_text-embedding-3-small_embeddings_conversations_text-embedding-3-large_embeddings n_estimators_50_max_depth_10 0.8881234780421673\n",
      "conversations_text-embedding-3-large_embeddings n_estimators_50_max_depth_10 0.8874427211049117\n",
      "conversations_text-embedding-3-small_embeddings n_estimators_50_max_depth_10 0.8395639695212582\n",
      "conversations_text-embedding-3-small_embeddings_conversations_text-embedding-3-large_embeddings n_estimators_10_max_depth_5 0.7767669477836909\n",
      "conversations_text-embedding-3-large_embeddings n_estimators_10_max_depth_5 0.7687696735765799\n",
      "conversations_text-embedding-3-small_embeddings n_estimators_10_max_depth_5 0.7401544689416826\n"
     ]
    }
   ],
   "source": [
    "for res in summary.sort(by=\"mcc_val\",descending=True).rows(named=True):\n",
    "    print(res[\"input_features_name\"],res[\"classifier_hp\"],res[\"mcc_val\"])"
   ]
  }
 ],
 "metadata": {
  "kernelspec": {
   "display_name": "Python 3",
   "language": "python",
   "name": "python3"
  },
  "language_info": {
   "codemirror_mode": {
    "name": "ipython",
    "version": 3
   },
   "file_extension": ".py",
   "mimetype": "text/x-python",
   "name": "python",
   "nbconvert_exporter": "python",
   "pygments_lexer": "ipython3",
   "version": "3.10.6"
  }
 },
 "nbformat": 4,
 "nbformat_minor": 2
}
