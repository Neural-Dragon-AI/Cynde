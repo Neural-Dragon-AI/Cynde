{
 "cells": [
  {
   "cell_type": "code",
   "execution_count": 1,
   "metadata": {},
   "outputs": [],
   "source": [
    "import polars as pl\n",
    "from typing import List\n",
    "from datetime import datetime\n",
    "\n",
    "# from cynde.functional.embed_columns import embed_columns,create_embedding_df_from_column\n",
    "# from cynde.functional.prompt import prompt\n",
    "import cynde.functional as cf"
   ]
  },
  {
   "cell_type": "code",
   "execution_count": 2,
   "metadata": {},
   "outputs": [],
   "source": [
    "import openai\n",
    "client = openai.Client(api_key=\"sk-\")\n"
   ]
  },
  {
   "cell_type": "code",
   "execution_count": 3,
   "metadata": {},
   "outputs": [
    {
     "name": "stdout",
     "output_type": "stream",
     "text": [
      "shape: (3, 4)\n",
      "┌─────────────┬───────────────────────────────────┬───────────┬─────────────────────┐\n",
      "│ customer_id ┆ feedback                          ┆ ratings   ┆ timestamp           │\n",
      "│ ---         ┆ ---                               ┆ ---       ┆ ---                 │\n",
      "│ i64         ┆ str                               ┆ list[i64] ┆ datetime[μs]        │\n",
      "╞═════════════╪═══════════════════════════════════╪═══════════╪═════════════════════╡\n",
      "│ 101         ┆ Loved the new product line!       ┆ [4, 5, 5] ┆ 2023-01-01 14:30:00 │\n",
      "│ 102         ┆ The service was disappointing th… ┆ [2, 3, 2] ┆ 2023-01-02 09:15:00 │\n",
      "│ 103         ┆ Great experience with customer s… ┆ [5, 4, 5] ┆ 2023-01-03 18:45:00 │\n",
      "└─────────────┴───────────────────────────────────┴───────────┴─────────────────────┘\n"
     ]
    }
   ],
   "source": [
    "df = pl.DataFrame(\n",
    "    {\n",
    "        \"customer_id\": [101, 102, 103],\n",
    "        \"feedback\": [\n",
    "            \"Loved the new product line!\",\n",
    "            \"The service was disappointing this time.\",\n",
    "            \"Great experience with customer support.\",\n",
    "        ],\n",
    "        \"ratings\": [[4, 5, 5], [2, 3, 2], [5, 4, 5]],\n",
    "        \"timestamp\": [\n",
    "            datetime(2023, 1, 1, 14, 30),\n",
    "            datetime(2023, 1, 2, 9, 15),\n",
    "            datetime(2023, 1, 3, 18, 45),\n",
    "        ],\n",
    "    }\n",
    ")\n",
    "print(df)"
   ]
  },
  {
   "cell_type": "code",
   "execution_count": 4,
   "metadata": {},
   "outputs": [
    {
     "name": "stdout",
     "output_type": "stream",
     "text": [
      "Creating embeddings for column feedback\n",
      "Processing 3 chunks of text in a single batch\n",
      "Embedding Processing took 0.5150561332702637 seconds\n",
      "shape: (3, 5)\n",
      "┌─────────────┬─────────────────────────┬───────────┬─────────────────────┬────────────────────────┐\n",
      "│ customer_id ┆ feedback                ┆ ratings   ┆ timestamp           ┆ feedback_text-embeddin │\n",
      "│ ---         ┆ ---                     ┆ ---       ┆ ---                 ┆ g-3-small_…            │\n",
      "│ i64         ┆ str                     ┆ list[i64] ┆ datetime[μs]        ┆ ---                    │\n",
      "│             ┆                         ┆           ┆                     ┆ list[f64]              │\n",
      "╞═════════════╪═════════════════════════╪═══════════╪═════════════════════╪════════════════════════╡\n",
      "│ 101         ┆ Loved the new product   ┆ [4, 5, 5] ┆ 2023-01-01 14:30:00 ┆ [0.029205, -0.036287,  │\n",
      "│             ┆ line!                   ┆           ┆                     ┆ … 0.000765…            │\n",
      "│ 102         ┆ The service was         ┆ [2, 3, 2] ┆ 2023-01-02 09:15:00 ┆ [-0.005782, 0.019236,  │\n",
      "│             ┆ disappointing th…       ┆           ┆                     ┆ … -0.00427…            │\n",
      "│ 103         ┆ Great experience with   ┆ [5, 4, 5] ┆ 2023-01-03 18:45:00 ┆ [-0.014194, -0.027349, │\n",
      "│             ┆ customer s…             ┆           ┆                     ┆ … 0.02145…             │\n",
      "└─────────────┴─────────────────────────┴───────────┴─────────────────────┴────────────────────────┘\n"
     ]
    }
   ],
   "source": [
    "embedded_df = cf.embed_columns(df, [\"feedback\"], client=client)\n",
    "print(embedded_df)"
   ]
  },
  {
   "cell_type": "code",
   "execution_count": 10,
   "metadata": {},
   "outputs": [
    {
     "name": "stdout",
     "output_type": "stream",
     "text": [
      "shape: (3, 6)\n",
      "┌─────────────┬───────────────────┬───────────┬──────────────┬──────────────────┬──────────────────┐\n",
      "│ customer_id ┆ feedback          ┆ ratings   ┆ timestamp    ┆ feedback_text-em ┆ customer_prompt  │\n",
      "│ ---         ┆ ---               ┆ ---       ┆ ---          ┆ bedding-3-small_ ┆ ---              │\n",
      "│ i64         ┆ str               ┆ list[i64] ┆ datetime[μs] ┆ …                ┆ str              │\n",
      "│             ┆                   ┆           ┆              ┆ ---              ┆                  │\n",
      "│             ┆                   ┆           ┆              ┆ list[f64]        ┆                  │\n",
      "╞═════════════╪═══════════════════╪═══════════╪══════════════╪══════════════════╪══════════════════╡\n",
      "│ 101         ┆ Loved the new     ┆ [4, 5, 5] ┆ 2023-01-01   ┆ [0.029205,       ┆ Customer ID: 101 │\n",
      "│             ┆ product line!     ┆           ┆ 14:30:00     ┆ -0.036287, …     ┆ provided feedba… │\n",
      "│             ┆                   ┆           ┆              ┆ 0.000765…        ┆                  │\n",
      "│ 102         ┆ The service was   ┆ [2, 3, 2] ┆ 2023-01-02   ┆ [-0.005782,      ┆ Customer ID: 102 │\n",
      "│             ┆ disappointing th… ┆           ┆ 09:15:00     ┆ 0.019236, …      ┆ provided feedba… │\n",
      "│             ┆                   ┆           ┆              ┆ -0.00427…        ┆                  │\n",
      "│ 103         ┆ Great experience  ┆ [5, 4, 5] ┆ 2023-01-03   ┆ [-0.014194,      ┆ Customer ID: 103 │\n",
      "│             ┆ with customer s…  ┆           ┆ 18:45:00     ┆ -0.027349, …     ┆ provided feedba… │\n",
      "│             ┆                   ┆           ┆              ┆ 0.02145…         ┆                  │\n",
      "└─────────────┴───────────────────┴───────────┴──────────────┴──────────────────┴──────────────────┘\n"
     ]
    }
   ],
   "source": [
    "import polars as pl\n",
    "\n",
    "# Sample data frame initialization\n",
    "\n",
    "fstring = \"Customer ID: {} provided feedback at {} with ratings {} an average rating of {} with a global mean of {}: '{}'\"\n",
    "# Dynamic prompt generation with in-select computations\n",
    "\n",
    "df_prompted = cf.prompt(embedded_df, \n",
    "                     fstring,\n",
    "                     [pl.col(\"customer_id\"),\n",
    "                      pl.col(\"timestamp\").dt.hour(), #from timestamp to hour\n",
    "                      pl.col(\"ratings\").list.eval(pl.element().cast(pl.Utf8)).list.join(\"-\"), #needs to convert list columns to string\n",
    "                      pl.col(\"ratings\").list.mean(), #from list to float\n",
    "                      pl.col(\"ratings\").list.mean().mean(), #constant that gets broadcasted with pl.lit\n",
    "                      pl.col(\"feedback\")],\n",
    "                      \"customer_prompt\")\n",
    "print(df_prompted)"
   ]
  },
  {
   "cell_type": "code",
   "execution_count": 6,
   "metadata": {},
   "outputs": [
    {
     "name": "stdout",
     "output_type": "stream",
     "text": [
      "Customer ID: 101 provided feedback at 14 with ratings 4-5-5 an average rating of 4.666666666666667 with a global mean of 3.8888888888888893: 'Loved the new product line!'\n",
      "Customer ID: 102 provided feedback at 9 with ratings 2-3-2 an average rating of 2.3333333333333335 with a global mean of 3.8888888888888893: 'The service was disappointing this time.'\n",
      "Customer ID: 103 provided feedback at 18 with ratings 5-4-5 an average rating of 4.666666666666667 with a global mean of 3.8888888888888893: 'Great experience with customer support.'\n"
     ]
    }
   ],
   "source": [
    "for prompt in df_prompted[\"customer_prompt\"]:\n",
    "        print(prompt)"
   ]
  }
 ],
 "metadata": {
  "kernelspec": {
   "display_name": "Python 3",
   "language": "python",
   "name": "python3"
  },
  "language_info": {
   "codemirror_mode": {
    "name": "ipython",
    "version": 3
   },
   "file_extension": ".py",
   "mimetype": "text/x-python",
   "name": "python",
   "nbconvert_exporter": "python",
   "pygments_lexer": "ipython3",
   "version": "3.10.6"
  }
 },
 "nbformat": 4,
 "nbformat_minor": 2
}
