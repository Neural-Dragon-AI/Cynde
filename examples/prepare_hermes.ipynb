{
 "cells": [
  {
   "cell_type": "code",
   "execution_count": 1,
   "metadata": {},
   "outputs": [
    {
     "name": "stderr",
     "output_type": "stream",
     "text": [
      "/Users/tommasofurlanello/.pyenv/versions/3.12.1/envs/modal/lib/python3.12/site-packages/tqdm/auto.py:21: TqdmWarning: IProgress not found. Please update jupyter and ipywidgets. See https://ipywidgets.readthedocs.io/en/stable/user_install.html\n",
      "  from .autonotebook import tqdm as notebook_tqdm\n"
     ]
    }
   ],
   "source": [
    "from datasets import load_dataset\n",
    "import polars as pl\n",
    "import os\n",
    "# from dotenv import load_dotenv\n",
    "# load_dotenv()\n"
   ]
  },
  {
   "cell_type": "code",
   "execution_count": 2,
   "metadata": {},
   "outputs": [
    {
     "name": "stdout",
     "output_type": "stream",
     "text": [
      "/Users/tommasofurlanello/Documents/Dev/Cynde/cache\n"
     ]
    }
   ],
   "source": [
    "# Get the directory above the current directory\n",
    "above_dir = os.path.dirname(os.getcwd())\n",
    "\n",
    "# Specify the cache directory as 'data' subdirectory within the current directory\n",
    "cache_dir = os.path.join(above_dir, \"cache\")\n",
    "print(cache_dir)\n"
   ]
  },
  {
   "cell_type": "code",
   "execution_count": 3,
   "metadata": {},
   "outputs": [
    {
     "name": "stdout",
     "output_type": "stream",
     "text": [
      "True\n"
     ]
    }
   ],
   "source": [
    "#use os to check if  cache_dir exists\n",
    "print(os.path.exists(cache_dir))\n",
    "\n",
    "#get the os environ variable HF_DATASETS_CACHE\n"
   ]
  },
  {
   "cell_type": "code",
   "execution_count": 4,
   "metadata": {},
   "outputs": [
    {
     "name": "stderr",
     "output_type": "stream",
     "text": [
      "Downloading data: 100%|██████████| 1.94G/1.94G [01:41<00:00, 19.1MB/s]\n",
      "Generating train split: 1001551 examples [00:10, 91601.74 examples/s]\n"
     ]
    }
   ],
   "source": [
    "dataset = load_dataset(\"teknium/OpenHermes-2.5\", cache_dir=cache_dir)"
   ]
  },
  {
   "cell_type": "code",
   "execution_count": 5,
   "metadata": {},
   "outputs": [
    {
     "data": {
      "text/plain": [
       "DatasetDict({\n",
       "    train: Dataset({\n",
       "        features: ['system_prompt', 'topic', 'model', 'category', 'views', 'conversations', 'language', 'model_name', 'custom_instruction', 'idx', 'skip_prompt_formatting', 'title', 'avatarUrl', 'id', 'hash', 'source'],\n",
       "        num_rows: 1001551\n",
       "    })\n",
       "})"
      ]
     },
     "execution_count": 5,
     "metadata": {},
     "output_type": "execute_result"
    }
   ],
   "source": [
    "dataset"
   ]
  },
  {
   "cell_type": "code",
   "execution_count": 6,
   "metadata": {},
   "outputs": [],
   "source": [
    "dataset_name = \"OpenHermes-2.5\"\n",
    "dataset_path = os.path.join(cache_dir, dataset_name)\n"
   ]
  },
  {
   "cell_type": "code",
   "execution_count": 7,
   "metadata": {},
   "outputs": [
    {
     "name": "stderr",
     "output_type": "stream",
     "text": [
      "Creating parquet from Arrow format: 100%|██████████| 1002/1002 [00:03<00:00, 284.48ba/s]\n"
     ]
    },
    {
     "data": {
      "text/plain": [
       "1683813113"
      ]
     },
     "execution_count": 7,
     "metadata": {},
     "output_type": "execute_result"
    }
   ],
   "source": [
    "dataset[\"train\"].to_parquet(dataset_path+\".parquet\")"
   ]
  },
  {
   "cell_type": "code",
   "execution_count": 8,
   "metadata": {},
   "outputs": [],
   "source": [
    "df = pl.read_parquet(dataset_path+\".parquet\")\n"
   ]
  },
  {
   "cell_type": "code",
   "execution_count": 9,
   "metadata": {},
   "outputs": [
    {
     "data": {
      "text/html": [
       "<div><style>\n",
       ".dataframe > thead > tr,\n",
       ".dataframe > tbody > tr {\n",
       "  text-align: right;\n",
       "  white-space: pre-wrap;\n",
       "}\n",
       "</style>\n",
       "<small>shape: (16, 2)</small><table border=\"1\" class=\"dataframe\"><thead><tr><th>source</th><th>count</th></tr><tr><td>str</td><td>u32</td></tr></thead><tbody><tr><td>&quot;Econ_domain_ex…</td><td>660</td></tr><tr><td>&quot;lmsys1m&quot;</td><td>1631</td></tr><tr><td>&quot;caseus_custom&quot;</td><td>2688</td></tr><tr><td>&quot;LMSys Chatbot …</td><td>3136</td></tr><tr><td>null</td><td>4192</td></tr><tr><td>&quot;CogStackMed&quot;</td><td>4443</td></tr><tr><td>&quot;UnnaturalInstr…</td><td>8610</td></tr><tr><td>&quot;GPT-4 Comparis…</td><td>14928</td></tr><tr><td>&quot;platypus&quot;</td><td>22280</td></tr><tr><td>&quot;airoboros2.2&quot;</td><td>35380</td></tr><tr><td>&quot;cot_alpaca_gpt…</td><td>42026</td></tr><tr><td>&quot;EvolInstruct_7…</td><td>51948</td></tr><tr><td>&quot;metamath&quot;</td><td>56448</td></tr><tr><td>&quot;CamelAI&quot;</td><td>78390</td></tr><tr><td>&quot;glaive-code-as…</td><td>182240</td></tr><tr><td>&quot;&quot;</td><td>492551</td></tr></tbody></table></div>"
      ],
      "text/plain": [
       "shape: (16, 2)\n",
       "┌─────────────────────┬────────┐\n",
       "│ source              ┆ count  │\n",
       "│ ---                 ┆ ---    │\n",
       "│ str                 ┆ u32    │\n",
       "╞═════════════════════╪════════╡\n",
       "│ Econ_domain_expert  ┆ 660    │\n",
       "│ lmsys1m             ┆ 1631   │\n",
       "│ caseus_custom       ┆ 2688   │\n",
       "│ LMSys Chatbot Arena ┆ 3136   │\n",
       "│ null                ┆ 4192   │\n",
       "│ …                   ┆ …      │\n",
       "│ EvolInstruct_70k    ┆ 51948  │\n",
       "│ metamath            ┆ 56448  │\n",
       "│ CamelAI             ┆ 78390  │\n",
       "│ glaive-code-assist  ┆ 182240 │\n",
       "│                     ┆ 492551 │\n",
       "└─────────────────────┴────────┘"
      ]
     },
     "execution_count": 9,
     "metadata": {},
     "output_type": "execute_result"
    }
   ],
   "source": [
    "df[\"source\"].value_counts().sort(\"count\")"
   ]
  },
  {
   "cell_type": "code",
   "execution_count": 10,
   "metadata": {},
   "outputs": [
    {
     "name": "stdout",
     "output_type": "stream",
     "text": [
      "Econ_domain_expert\n",
      "CamelAI\n",
      "caseus_custom\n",
      "\n",
      "EvolInstruct_70k\n",
      "lmsys1m\n",
      "cot_alpaca_gpt4\n",
      "GPT-4 Comparison Data\n",
      "glaive-code-assist\n",
      "platypus\n",
      "None\n",
      "airoboros2.2\n",
      "UnnaturalInstructions\n",
      "LMSys Chatbot Arena\n",
      "metamath\n",
      "CogStackMed\n"
     ]
    }
   ],
   "source": [
    "for i in df[\"source\"].unique():\n",
    "    print(i)"
   ]
  },
  {
   "cell_type": "code",
   "execution_count": 11,
   "metadata": {},
   "outputs": [],
   "source": [
    "targets = [\"LMSys Chatbot Arena\",\"caseus_custom\"]\n",
    "filtered_df = df.filter(pl.col(\"source\").is_in(targets)).select(\"conversations\",\"source\")\n",
    "filtered_path = dataset_path+\"_filtered.parquet\"\n",
    "filtered_df.write_parquet(filtered_path)"
   ]
  },
  {
   "cell_type": "code",
   "execution_count": null,
   "metadata": {},
   "outputs": [],
   "source": []
  }
 ],
 "metadata": {
  "kernelspec": {
   "display_name": "Python 3",
   "language": "python",
   "name": "python3"
  },
  "language_info": {
   "codemirror_mode": {
    "name": "ipython",
    "version": 3
   },
   "file_extension": ".py",
   "mimetype": "text/x-python",
   "name": "python",
   "nbconvert_exporter": "python",
   "pygments_lexer": "ipython3",
   "version": "3.12.1"
  }
 },
 "nbformat": 4,
 "nbformat_minor": 2
}
