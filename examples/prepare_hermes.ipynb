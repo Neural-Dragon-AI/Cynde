{
 "cells": [
  {
   "cell_type": "code",
   "execution_count": 2,
   "metadata": {},
   "outputs": [],
   "source": [
    "from datasets import load_dataset\n",
    "import polars as pl\n",
    "import os"
   ]
  },
  {
   "cell_type": "code",
   "execution_count": 3,
   "metadata": {},
   "outputs": [
    {
     "name": "stdout",
     "output_type": "stream",
     "text": [
      "c:\\Users\\Tommaso\\Documents\\Dev\\Cynde\\cache\n"
     ]
    }
   ],
   "source": [
    "# Get the directory above the current directory\n",
    "above_dir = os.path.dirname(os.getcwd())\n",
    "\n",
    "# Specify the cache directory as 'data' subdirectory within the current directory\n",
    "cache_dir = os.path.join(above_dir, \"cache\")\n",
    "print(cache_dir)"
   ]
  },
  {
   "cell_type": "code",
   "execution_count": 3,
   "metadata": {},
   "outputs": [
    {
     "data": {
      "application/vnd.jupyter.widget-view+json": {
       "model_id": "40a0959d07784c5089f3ad7f01539253",
       "version_major": 2,
       "version_minor": 0
      },
      "text/plain": [
       "Downloading readme:   0%|          | 0.00/4.75k [00:00<?, ?B/s]"
      ]
     },
     "metadata": {},
     "output_type": "display_data"
    },
    {
     "name": "stdout",
     "output_type": "stream",
     "text": [
      "Downloading and preparing dataset json/teknium--OpenHermes-2.5 to C:/Users/Tommaso/.cache/huggingface/datasets/teknium___json/teknium--OpenHermes-2.5-39fceffcecb81b46/0.0.0/e347ab1c932092252e717ff3f949105a4dd28b27e842dd53157d2f72e276c2e4...\n"
     ]
    },
    {
     "data": {
      "application/vnd.jupyter.widget-view+json": {
       "model_id": "a59e3e56df2e4bfca3db9458abfb2199",
       "version_major": 2,
       "version_minor": 0
      },
      "text/plain": [
       "Downloading data files:   0%|          | 0/1 [00:00<?, ?it/s]"
      ]
     },
     "metadata": {},
     "output_type": "display_data"
    },
    {
     "data": {
      "application/vnd.jupyter.widget-view+json": {
       "model_id": "ad51cbe20aad4d6fa2901af6b30afe6a",
       "version_major": 2,
       "version_minor": 0
      },
      "text/plain": [
       "Downloading data:   0%|          | 0.00/1.94G [00:00<?, ?B/s]"
      ]
     },
     "metadata": {},
     "output_type": "display_data"
    },
    {
     "data": {
      "application/vnd.jupyter.widget-view+json": {
       "model_id": "f0ebe2443f9449ddbb14e541e9863cb6",
       "version_major": 2,
       "version_minor": 0
      },
      "text/plain": [
       "Extracting data files:   0%|          | 0/1 [00:00<?, ?it/s]"
      ]
     },
     "metadata": {},
     "output_type": "display_data"
    },
    {
     "data": {
      "application/vnd.jupyter.widget-view+json": {
       "model_id": "e8238d2df9c14589830fbc342b2c2a8f",
       "version_major": 2,
       "version_minor": 0
      },
      "text/plain": [
       "Generating train split: 0 examples [00:00, ? examples/s]"
      ]
     },
     "metadata": {},
     "output_type": "display_data"
    },
    {
     "name": "stdout",
     "output_type": "stream",
     "text": [
      "Dataset json downloaded and prepared to C:/Users/Tommaso/.cache/huggingface/datasets/teknium___json/teknium--OpenHermes-2.5-39fceffcecb81b46/0.0.0/e347ab1c932092252e717ff3f949105a4dd28b27e842dd53157d2f72e276c2e4. Subsequent calls will reuse this data.\n"
     ]
    },
    {
     "data": {
      "application/vnd.jupyter.widget-view+json": {
       "model_id": "9a846bb87b594f7ca6658ea03ff1577e",
       "version_major": 2,
       "version_minor": 0
      },
      "text/plain": [
       "  0%|          | 0/1 [00:00<?, ?it/s]"
      ]
     },
     "metadata": {},
     "output_type": "display_data"
    }
   ],
   "source": [
    "dataset = load_dataset(\"teknium/OpenHermes-2.5\", cache_dir)"
   ]
  },
  {
   "cell_type": "code",
   "execution_count": 4,
   "metadata": {},
   "outputs": [
    {
     "data": {
      "text/plain": [
       "DatasetDict({\n",
       "    train: Dataset({\n",
       "        features: ['hash', 'model_name', 'model', 'skip_prompt_formatting', 'source', 'custom_instruction', 'language', 'system_prompt', 'avatarUrl', 'topic', 'conversations', 'views', 'id', 'category', 'idx', 'title'],\n",
       "        num_rows: 1001551\n",
       "    })\n",
       "})"
      ]
     },
     "execution_count": 4,
     "metadata": {},
     "output_type": "execute_result"
    }
   ],
   "source": [
    "dataset"
   ]
  },
  {
   "cell_type": "code",
   "execution_count": 4,
   "metadata": {},
   "outputs": [],
   "source": [
    "dataset_name = \"OpenHermes-2.5\"\n",
    "dataset_path = os.path.join(cache_dir, dataset_name)\n"
   ]
  },
  {
   "cell_type": "code",
   "execution_count": null,
   "metadata": {},
   "outputs": [],
   "source": [
    "dataset[\"train\"].to_parquet(dataset_path+\".parquet\")"
   ]
  },
  {
   "cell_type": "code",
   "execution_count": 5,
   "metadata": {},
   "outputs": [],
   "source": [
    "df = pl.read_parquet(dataset_path+\".parquet\")\n"
   ]
  },
  {
   "cell_type": "code",
   "execution_count": 14,
   "metadata": {},
   "outputs": [
    {
     "data": {
      "text/html": [
       "<div><style>\n",
       ".dataframe > thead > tr,\n",
       ".dataframe > tbody > tr {\n",
       "  text-align: right;\n",
       "  white-space: pre-wrap;\n",
       "}\n",
       "</style>\n",
       "<small>shape: (16, 2)</small><table border=\"1\" class=\"dataframe\"><thead><tr><th>source</th><th>count</th></tr><tr><td>str</td><td>u32</td></tr></thead><tbody><tr><td>&quot;Econ_domain_ex…</td><td>660</td></tr><tr><td>&quot;lmsys1m&quot;</td><td>1631</td></tr><tr><td>&quot;caseus_custom&quot;</td><td>2688</td></tr><tr><td>&quot;LMSys Chatbot …</td><td>3136</td></tr><tr><td>null</td><td>4192</td></tr><tr><td>&quot;CogStackMed&quot;</td><td>4443</td></tr><tr><td>&quot;UnnaturalInstr…</td><td>8610</td></tr><tr><td>&quot;GPT-4 Comparis…</td><td>14928</td></tr><tr><td>&quot;platypus&quot;</td><td>22280</td></tr><tr><td>&quot;airoboros2.2&quot;</td><td>35380</td></tr><tr><td>&quot;cot_alpaca_gpt…</td><td>42026</td></tr><tr><td>&quot;EvolInstruct_7…</td><td>51948</td></tr><tr><td>&quot;metamath&quot;</td><td>56448</td></tr><tr><td>&quot;CamelAI&quot;</td><td>78390</td></tr><tr><td>&quot;glaive-code-as…</td><td>182240</td></tr><tr><td>&quot;&quot;</td><td>492551</td></tr></tbody></table></div>"
      ],
      "text/plain": [
       "shape: (16, 2)\n",
       "┌─────────────────────┬────────┐\n",
       "│ source              ┆ count  │\n",
       "│ ---                 ┆ ---    │\n",
       "│ str                 ┆ u32    │\n",
       "╞═════════════════════╪════════╡\n",
       "│ Econ_domain_expert  ┆ 660    │\n",
       "│ lmsys1m             ┆ 1631   │\n",
       "│ caseus_custom       ┆ 2688   │\n",
       "│ LMSys Chatbot Arena ┆ 3136   │\n",
       "│ null                ┆ 4192   │\n",
       "│ …                   ┆ …      │\n",
       "│ EvolInstruct_70k    ┆ 51948  │\n",
       "│ metamath            ┆ 56448  │\n",
       "│ CamelAI             ┆ 78390  │\n",
       "│ glaive-code-assist  ┆ 182240 │\n",
       "│                     ┆ 492551 │\n",
       "└─────────────────────┴────────┘"
      ]
     },
     "execution_count": 14,
     "metadata": {},
     "output_type": "execute_result"
    }
   ],
   "source": [
    "df[\"source\"].value_counts().sort(\"count\")"
   ]
  },
  {
   "cell_type": "code",
   "execution_count": 11,
   "metadata": {},
   "outputs": [
    {
     "name": "stdout",
     "output_type": "stream",
     "text": [
      "LMSys Chatbot Arena\n",
      "airoboros2.2\n",
      "\n",
      "CamelAI\n",
      "platypus\n",
      "caseus_custom\n",
      "lmsys1m\n",
      "glaive-code-assist\n",
      "None\n",
      "EvolInstruct_70k\n",
      "UnnaturalInstructions\n",
      "GPT-4 Comparison Data\n",
      "cot_alpaca_gpt4\n",
      "metamath\n",
      "CogStackMed\n",
      "Econ_domain_expert\n"
     ]
    }
   ],
   "source": [
    "for i in df[\"source\"].unique():\n",
    "    print(i)"
   ]
  },
  {
   "cell_type": "code",
   "execution_count": 18,
   "metadata": {},
   "outputs": [],
   "source": [
    "targets = [\"LMSys Chatbot Arena\",\"caseus_custom\"]\n",
    "filtered_df = df.filter(pl.col(\"source\").is_in(targets)).select(\"conversations\",\"source\")\n",
    "filtered_path = dataset_path+\"_filtered.parquet\"\n",
    "filtered_df.write_parquet(filtered_path)"
   ]
  },
  {
   "cell_type": "code",
   "execution_count": null,
   "metadata": {},
   "outputs": [],
   "source": []
  }
 ],
 "metadata": {
  "kernelspec": {
   "display_name": "Python 3",
   "language": "python",
   "name": "python3"
  },
  "language_info": {
   "codemirror_mode": {
    "name": "ipython",
    "version": 3
   },
   "file_extension": ".py",
   "mimetype": "text/x-python",
   "name": "python",
   "nbconvert_exporter": "python",
   "pygments_lexer": "ipython3",
   "version": "3.10.6"
  }
 },
 "nbformat": 4,
 "nbformat_minor": 2
}
